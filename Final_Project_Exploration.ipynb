{
  "nbformat": 4,
  "nbformat_minor": 0,
  "metadata": {
    "colab": {
      "name": "Final Project - Exploration",
      "provenance": [],
      "collapsed_sections": [],
      "machine_shape": "hm"
    },
    "kernelspec": {
      "name": "python3",
      "display_name": "Python 3"
    },
    "accelerator": "GPU"
  },
  "cells": [
    {
      "cell_type": "markdown",
      "metadata": {
        "id": "HDF0emCxAgMs",
        "colab_type": "text"
      },
      "source": [
        "## Load data that has been cleaned and prepped\n",
        "### See [this notebook](https://colab.research.google.com/drive/1YNYzk3FNFM9V7HJ_uYog3C0ycX4SwxvM#scrollTo=LeNsJD4SWWCZ) for data preparation details"
      ]
    },
    {
      "cell_type": "code",
      "metadata": {
        "id": "LYzC1xy_aNGM",
        "colab_type": "code",
        "colab": {}
      },
      "source": [
        "# Import required packages:\n",
        "import pandas as pd\n",
        "import numpy as np\n",
        "from google.colab import files, drive"
      ],
      "execution_count": 0,
      "outputs": []
    },
    {
      "cell_type": "code",
      "metadata": {
        "id": "bWyankYlaX-p",
        "colab_type": "code",
        "colab": {}
      },
      "source": [
        "# Connect to Google Drive (to load raw data)\n",
        "!pip install -U -q PyDrive\n",
        "from pydrive.auth import GoogleAuth\n",
        "from pydrive.drive import GoogleDrive\n",
        "from google.colab import auth\n",
        "from oauth2client.client import GoogleCredentials\n",
        "# Authenticate and create the PyDrive client.\n",
        "auth.authenticate_user()\n",
        "gauth = GoogleAuth()\n",
        "gauth.credentials = GoogleCredentials.get_application_default()\n",
        "drive = GoogleDrive(gauth)"
      ],
      "execution_count": 0,
      "outputs": []
    },
    {
      "cell_type": "markdown",
      "metadata": {
        "id": "1eYjyHAL-vbS",
        "colab_type": "text"
      },
      "source": [
        "### Import Development Datasets: \"train_set\", \"test_set\", and \"tiny\""
      ]
    },
    {
      "cell_type": "code",
      "metadata": {
        "id": "K_1bBDW7-0ek",
        "colab_type": "code",
        "outputId": "13acd562-1a65-42a4-a482-ad952c05ad66",
        "colab": {
          "base_uri": "https://localhost:8080/",
          "height": 425
        }
      },
      "source": [
        "# Download \"tiny\"\" dataset:\n",
        "csv_files = {\n",
        "  'train': '1puSE81puoJY5_xbqNX79dj6NJlMk6sYv',\n",
        "  'test': '1-0JSgOsONw1Cstsjgyzllu9Gnjq0LUb5',\n",
        "  'tiny': '1cPVbl96VIdUr8Zyf5gJuLqqtb8g9uQgw',\n",
        "}\n",
        "\n",
        "dfs = {}\n",
        "\n",
        "for key, value in csv_files.items():\n",
        "  csv_name = key + '.csv'\n",
        "  downloaded = drive.CreateFile({'id': value})\n",
        "  downloaded.GetContentFile(csv_name)\n",
        "  dfs[key] = pd.read_csv(csv_name, low_memory=False)\n",
        "  print(\"Done with: \", key)\n",
        "\n",
        "train = dfs['train'].drop(['date'], axis=1)\n",
        "test = dfs['test'].drop(['date'], axis=1)\n",
        "tiny = dfs['tiny']"
      ],
      "execution_count": 0,
      "outputs": [
        {
          "output_type": "stream",
          "text": [
            "Done with:  tiny\n"
          ],
          "name": "stdout"
        },
        {
          "output_type": "execute_result",
          "data": {
            "text/html": [
              "<div>\n",
              "<style scoped>\n",
              "    .dataframe tbody tr th:only-of-type {\n",
              "        vertical-align: middle;\n",
              "    }\n",
              "\n",
              "    .dataframe tbody tr th {\n",
              "        vertical-align: top;\n",
              "    }\n",
              "\n",
              "    .dataframe thead th {\n",
              "        text-align: right;\n",
              "    }\n",
              "</style>\n",
              "<table border=\"1\" class=\"dataframe\">\n",
              "  <thead>\n",
              "    <tr style=\"text-align: right;\">\n",
              "      <th></th>\n",
              "      <th>user_id</th>\n",
              "      <th>business_id</th>\n",
              "      <th>stars</th>\n",
              "    </tr>\n",
              "  </thead>\n",
              "  <tbody>\n",
              "    <tr>\n",
              "      <th>0</th>\n",
              "      <td>jjogE_kPPMjxKvDEFlct6w</td>\n",
              "      <td>FhPCN9WaTm5CACtonWhehA</td>\n",
              "      <td>5.0</td>\n",
              "    </tr>\n",
              "    <tr>\n",
              "      <th>1</th>\n",
              "      <td>sKVpHfhkG_Nvgf_Vfb91Cg</td>\n",
              "      <td>487ZwV1pjttfx_kdqtIl3Q</td>\n",
              "      <td>4.0</td>\n",
              "    </tr>\n",
              "    <tr>\n",
              "      <th>2</th>\n",
              "      <td>xsBjO0GTAvZK8i2A8_z20g</td>\n",
              "      <td>KUlm5OuKYJ6nGj0EUwcY9w</td>\n",
              "      <td>4.0</td>\n",
              "    </tr>\n",
              "    <tr>\n",
              "      <th>3</th>\n",
              "      <td>ELfzWgdf64VBLi5z1ECItw</td>\n",
              "      <td>-iFvYhgysvjkxckCr42NRw</td>\n",
              "      <td>5.0</td>\n",
              "    </tr>\n",
              "    <tr>\n",
              "      <th>4</th>\n",
              "      <td>oc3u68ugJlAP__025Ji2fw</td>\n",
              "      <td>RrXlDMjW30v2KatCxOobdQ</td>\n",
              "      <td>3.0</td>\n",
              "    </tr>\n",
              "    <tr>\n",
              "      <th>...</th>\n",
              "      <td>...</td>\n",
              "      <td>...</td>\n",
              "      <td>...</td>\n",
              "    </tr>\n",
              "    <tr>\n",
              "      <th>21929</th>\n",
              "      <td>QG9ZJatKSWj5p5VrW3cfMA</td>\n",
              "      <td>EfmP_Rn43N0XbqbiBShG9A</td>\n",
              "      <td>5.0</td>\n",
              "    </tr>\n",
              "    <tr>\n",
              "      <th>21930</th>\n",
              "      <td>ayoslNT7RdE-LyzS-fJVFA</td>\n",
              "      <td>AaeG-UJAMeibb07eV_q3-A</td>\n",
              "      <td>4.0</td>\n",
              "    </tr>\n",
              "    <tr>\n",
              "      <th>21931</th>\n",
              "      <td>KgFOJnWXxVuz0b-xfo6jjw</td>\n",
              "      <td>eYeFOcNJO2iTNPCPi8XAxw</td>\n",
              "      <td>4.0</td>\n",
              "    </tr>\n",
              "    <tr>\n",
              "      <th>21932</th>\n",
              "      <td>1fPiKjZhkGWLya1QLkwlhQ</td>\n",
              "      <td>2lF1UsGcDpDpaI1lXgRX_g</td>\n",
              "      <td>4.0</td>\n",
              "    </tr>\n",
              "    <tr>\n",
              "      <th>21933</th>\n",
              "      <td>sKVpHfhkG_Nvgf_Vfb91Cg</td>\n",
              "      <td>XYnhQq6aUSVcYXymsfngcA</td>\n",
              "      <td>2.0</td>\n",
              "    </tr>\n",
              "  </tbody>\n",
              "</table>\n",
              "<p>21934 rows × 3 columns</p>\n",
              "</div>"
            ],
            "text/plain": [
              "                      user_id             business_id  stars\n",
              "0      jjogE_kPPMjxKvDEFlct6w  FhPCN9WaTm5CACtonWhehA    5.0\n",
              "1      sKVpHfhkG_Nvgf_Vfb91Cg  487ZwV1pjttfx_kdqtIl3Q    4.0\n",
              "2      xsBjO0GTAvZK8i2A8_z20g  KUlm5OuKYJ6nGj0EUwcY9w    4.0\n",
              "3      ELfzWgdf64VBLi5z1ECItw  -iFvYhgysvjkxckCr42NRw    5.0\n",
              "4      oc3u68ugJlAP__025Ji2fw  RrXlDMjW30v2KatCxOobdQ    3.0\n",
              "...                       ...                     ...    ...\n",
              "21929  QG9ZJatKSWj5p5VrW3cfMA  EfmP_Rn43N0XbqbiBShG9A    5.0\n",
              "21930  ayoslNT7RdE-LyzS-fJVFA  AaeG-UJAMeibb07eV_q3-A    4.0\n",
              "21931  KgFOJnWXxVuz0b-xfo6jjw  eYeFOcNJO2iTNPCPi8XAxw    4.0\n",
              "21932  1fPiKjZhkGWLya1QLkwlhQ  2lF1UsGcDpDpaI1lXgRX_g    4.0\n",
              "21933  sKVpHfhkG_Nvgf_Vfb91Cg  XYnhQq6aUSVcYXymsfngcA    2.0\n",
              "\n",
              "[21934 rows x 3 columns]"
            ]
          },
          "metadata": {
            "tags": []
          },
          "execution_count": 4
        }
      ]
    },
    {
      "cell_type": "markdown",
      "metadata": {
        "id": "etKR9p_JOdC7",
        "colab_type": "text"
      },
      "source": [
        "### Create and save \"tiny\" dataset (for development)"
      ]
    },
    {
      "cell_type": "code",
      "metadata": {
        "id": "A7kOfE3w1APJ",
        "colab_type": "code",
        "colab": {}
      },
      "source": [
        "# Get active users only:\n",
        "# user_counts = r[\"user_id\"].value_counts()\n",
        "# active_user_index = user_counts.loc[user_counts >= 5].index.to_list()\n",
        "\n",
        "# tiny_users = active_user_index[1000:1100]\n",
        "# tiny = rs[rs.user_id.isin(tiny_users)].sort_values(by = 'user_id')\n",
        "\n",
        "# tiny.to_csv('tiny.csv', index=False)\n",
        "# fid = '138BMjfpGmQescIUmfX_4TA6A2l6g_eP_'\n",
        "\n",
        "# t = drive.CreateFile({\"parents\": [{\"kind\": \"drive#fileLink\", \"id\": fid}]})\n",
        "# t.SetContentFile('tiny.csv')\n",
        "# t.Upload()"
      ],
      "execution_count": 0,
      "outputs": []
    },
    {
      "cell_type": "markdown",
      "metadata": {
        "id": "_hcNNPZ6_LGw",
        "colab_type": "text"
      },
      "source": [
        "### Import full ratings data (then convert to active-users only)"
      ]
    },
    {
      "cell_type": "code",
      "metadata": {
        "id": "mfUccngbXPK6",
        "colab_type": "code",
        "outputId": "0070cb80-96cf-43c0-e6cf-a81eef73242a",
        "colab": {
          "base_uri": "https://localhost:8080/",
          "height": 69
        }
      },
      "source": [
        "csv_files = {\n",
        "  'rating': '1kUiiQxmaRevPbMVryD_9kxOT3hL0yXbT',\n",
        "  'user': '1wgtFyCliBnHf3814uG6OWLD_JTtKOYj4',\n",
        "  'business': '1lTKDsBNMMYJ9cthYQUvS6gqPauk_YGY5',\n",
        "  # 'checkin': '1AVdM2PY56JOvDBUJimAZ7tHnKU2Dyczb',\n",
        "  # 'tip': '1zQhiSZgadQyMFA0UjDkfti_AbDDkonU-',\n",
        "  # 'photo': '129APnJqG63D_C_MDhJsBrlQFZzdNlU11',\n",
        "}\n",
        "\n",
        "# Create a dictionary of dataframes:\n",
        "dfs = {}\n",
        "\n",
        "for key, value in csv_files.items():\n",
        "  csv_name = key + '.csv'\n",
        "  downloaded = drive.CreateFile({'id': value})\n",
        "  downloaded.GetContentFile(csv_name)\n",
        "  dfs[key] = pd.read_csv(csv_name, low_memory=False)\n",
        "  print(\"Done with: \", key)\n",
        "\n"
      ],
      "execution_count": 0,
      "outputs": [
        {
          "output_type": "stream",
          "text": [
            "Done with:  rating\n",
            "Done with:  user\n",
            "Done with:  business\n"
          ],
          "name": "stdout"
        }
      ]
    },
    {
      "cell_type": "code",
      "metadata": {
        "id": "p7sGMnIcOIF3",
        "colab_type": "code",
        "colab": {}
      },
      "source": [
        "b = dfs['business']\n",
        "# t = dfs['tip']\n",
        "r = dfs['rating']\n",
        "u = dfs['user']"
      ],
      "execution_count": 0,
      "outputs": []
    },
    {
      "cell_type": "markdown",
      "metadata": {
        "id": "nO_x0CxefLRa",
        "colab_type": "text"
      },
      "source": [
        "## Summarize Missing Data"
      ]
    },
    {
      "cell_type": "code",
      "metadata": {
        "id": "dhOOTswZQucc",
        "colab_type": "code",
        "outputId": "07e77589-7b44-4417-9b70-e61fe15334df",
        "colab": {
          "base_uri": "https://localhost:8080/",
          "height": 846
        }
      },
      "source": [
        "def summarize_missing_data(df):\n",
        "  df_len = len(df)\n",
        "  col_name = []\n",
        "  pct_missing = []\n",
        "  for col in list(df.columns):\n",
        "    col_name.append(col)\n",
        "    pct_missing.append(round(100.0 * df[col].isnull().sum() / df_len, 2))\n",
        "\n",
        "  return pd.DataFrame({'Column': col_name, 'Pct_Missing': pct_missing})\n",
        "\n",
        "print(summarize_missing_data(b))\n",
        "print(summarize_missing_data(u))\n",
        "print(summarize_missing_data(r))"
      ],
      "execution_count": 0,
      "outputs": [
        {
          "output_type": "stream",
          "text": [
            "          Column  Pct_Missing\n",
            "0    business_id         0.00\n",
            "1           name         0.00\n",
            "2        address         3.99\n",
            "3           city         0.00\n",
            "4          state         0.00\n",
            "5    postal_code         0.34\n",
            "6       latitude         0.00\n",
            "7      longitude         0.00\n",
            "8          stars         0.00\n",
            "9   review_count         0.00\n",
            "10       is_open         0.00\n",
            "11    attributes        14.97\n",
            "12    categories         0.25\n",
            "13         hours        23.28\n",
            "                Column  Pct_Missing\n",
            "0              user_id         0.00\n",
            "1                 name         0.00\n",
            "2         review_count         0.00\n",
            "3        yelping_since         0.00\n",
            "4               useful         0.00\n",
            "5                funny         0.00\n",
            "6                 cool         0.00\n",
            "7                elite        95.64\n",
            "8              friends         0.00\n",
            "9                 fans         0.00\n",
            "10       average_stars         0.00\n",
            "11      compliment_hot         0.00\n",
            "12     compliment_more         0.00\n",
            "13  compliment_profile         0.00\n",
            "14     compliment_cute         0.00\n",
            "15     compliment_list         0.00\n",
            "16     compliment_note         0.00\n",
            "17    compliment_plain         0.00\n",
            "18     compliment_cool         0.00\n",
            "19    compliment_funny         0.00\n",
            "20   compliment_writer         0.00\n",
            "21   compliment_photos         0.00\n",
            "        Column  Pct_Missing\n",
            "0    review_id          0.0\n",
            "1      user_id          0.0\n",
            "2  business_id          0.0\n",
            "3        stars          0.0\n",
            "4       useful          0.0\n",
            "5        funny          0.0\n",
            "6         cool          0.0\n",
            "7         text          0.0\n",
            "8         date          0.0\n"
          ],
          "name": "stdout"
        }
      ]
    },
    {
      "cell_type": "markdown",
      "metadata": {
        "id": "Ag5MmYJFlFY6",
        "colab_type": "text"
      },
      "source": [
        "## Join Ratings, Businesses, and Users"
      ]
    },
    {
      "cell_type": "code",
      "metadata": {
        "id": "NFVy5kR9c0Bn",
        "colab_type": "code",
        "colab": {}
      },
      "source": [
        "r_relevant = r[['review_id','user_id','business_id','stars','text']]\n",
        "b_relevant = b[['business_id','city','state','is_open','attributes','categories']]\n",
        "u_relevant = u[['user_id','name','elite','friends','fans','useful']]\n",
        "super = pd.merge(pd.merge(r_relevant, b_relevant, on='business_id',how='left'), u_relevant, on='user_id', how='left')"
      ],
      "execution_count": 0,
      "outputs": []
    },
    {
      "cell_type": "code",
      "metadata": {
        "id": "LGYDDHhVlhig",
        "colab_type": "code",
        "outputId": "1e314eb3-af77-495a-9c0d-9fdde66b6d53",
        "colab": {
          "base_uri": "https://localhost:8080/",
          "height": 685
        }
      },
      "source": [
        "super.head()"
      ],
      "execution_count": 0,
      "outputs": [
        {
          "output_type": "execute_result",
          "data": {
            "text/html": [
              "<div>\n",
              "<style scoped>\n",
              "    .dataframe tbody tr th:only-of-type {\n",
              "        vertical-align: middle;\n",
              "    }\n",
              "\n",
              "    .dataframe tbody tr th {\n",
              "        vertical-align: top;\n",
              "    }\n",
              "\n",
              "    .dataframe thead th {\n",
              "        text-align: right;\n",
              "    }\n",
              "</style>\n",
              "<table border=\"1\" class=\"dataframe\">\n",
              "  <thead>\n",
              "    <tr style=\"text-align: right;\">\n",
              "      <th></th>\n",
              "      <th>review_id</th>\n",
              "      <th>user_id</th>\n",
              "      <th>business_id</th>\n",
              "      <th>stars</th>\n",
              "      <th>text</th>\n",
              "      <th>city</th>\n",
              "      <th>state</th>\n",
              "      <th>is_open</th>\n",
              "      <th>attributes</th>\n",
              "      <th>categories</th>\n",
              "      <th>name</th>\n",
              "      <th>elite</th>\n",
              "      <th>friends</th>\n",
              "      <th>fans</th>\n",
              "      <th>useful</th>\n",
              "    </tr>\n",
              "  </thead>\n",
              "  <tbody>\n",
              "    <tr>\n",
              "      <th>0</th>\n",
              "      <td>Q1sbwvVQXV2734tPgoKj4Q</td>\n",
              "      <td>hG7b0MtEbXx5QzbzE6C_VA</td>\n",
              "      <td>ujmEBvifdJM6h6RLv4wQIg</td>\n",
              "      <td>1.0</td>\n",
              "      <td>Total bill for this horrible service? Over $8G...</td>\n",
              "      <td>Las Vegas</td>\n",
              "      <td>NV</td>\n",
              "      <td>1.0</td>\n",
              "      <td>{'ByAppointmentOnly': 'False', 'GoodForKids': ...</td>\n",
              "      <td>Fitness &amp; Instruction, Doctors, Health &amp; Medic...</td>\n",
              "      <td>Stefan</td>\n",
              "      <td>NaN</td>\n",
              "      <td>frQs7y5qa-X1pvAM0sJe1w</td>\n",
              "      <td>0.0</td>\n",
              "      <td>18.0</td>\n",
              "    </tr>\n",
              "    <tr>\n",
              "      <th>1</th>\n",
              "      <td>GJXCdrto3ASJOqKeVWPi6Q</td>\n",
              "      <td>yXQM5uF2jS6es16SJzNHfg</td>\n",
              "      <td>NZnhc2sEQy3RmzKTZnqtwQ</td>\n",
              "      <td>5.0</td>\n",
              "      <td>I *adore* Travis at the Hard Rock's new Kelly ...</td>\n",
              "      <td>Las Vegas</td>\n",
              "      <td>NV</td>\n",
              "      <td>1.0</td>\n",
              "      <td>{'RestaurantsPriceRange2': '2', 'BusinessAccep...</td>\n",
              "      <td>Beauty &amp; Spas, Hair Stylists, Makeup Artists, ...</td>\n",
              "      <td>Jackie</td>\n",
              "      <td>2009</td>\n",
              "      <td>6IAFtw20e4y99D2cA3jj9g, 33O8Q0BdTl-PXh2lKceYgg...</td>\n",
              "      <td>3.0</td>\n",
              "      <td>178.0</td>\n",
              "    </tr>\n",
              "    <tr>\n",
              "      <th>2</th>\n",
              "      <td>2TzJjDVDEuAW6MR5Vuc1ug</td>\n",
              "      <td>n6-Gk65cPZL6Uz8qRm3NYw</td>\n",
              "      <td>WTqjgwHlXbSFevF32_DJVw</td>\n",
              "      <td>5.0</td>\n",
              "      <td>I have to say that this office really has it t...</td>\n",
              "      <td>Chandler</td>\n",
              "      <td>AZ</td>\n",
              "      <td>1.0</td>\n",
              "      <td>{'ByAppointmentOnly': 'True', 'BusinessAccepts...</td>\n",
              "      <td>Health &amp; Medical, Cosmetic Dentists, Orthodont...</td>\n",
              "      <td>Wilhelmina</td>\n",
              "      <td>NaN</td>\n",
              "      <td>9YRFLVFVbHGAJ1weFx5zqw, hUgdQsMQPoNc3fa9VoMqWQ</td>\n",
              "      <td>1.0</td>\n",
              "      <td>13.0</td>\n",
              "    </tr>\n",
              "    <tr>\n",
              "      <th>3</th>\n",
              "      <td>yi0R0Ugj_xUx_Nek0-_Qig</td>\n",
              "      <td>dacAIZ6fTM6mqwW5uxkskg</td>\n",
              "      <td>ikCg8xy5JIg_NGPx-MSIDA</td>\n",
              "      <td>5.0</td>\n",
              "      <td>Went in for a lunch. Steak sandwich was delici...</td>\n",
              "      <td>Calgary</td>\n",
              "      <td>AB</td>\n",
              "      <td>1.0</td>\n",
              "      <td>{'HasTV': 'True', 'RestaurantsReservations': '...</td>\n",
              "      <td>Bars, Pubs, Nightlife, Tapas Bars, Restaurants</td>\n",
              "      <td>Simon</td>\n",
              "      <td>NaN</td>\n",
              "      <td>zWEBQSaDqrB9l8AWGy06DQ, VDFV_x-IyCNkgtr2EB-VLw...</td>\n",
              "      <td>0.0</td>\n",
              "      <td>2.0</td>\n",
              "    </tr>\n",
              "    <tr>\n",
              "      <th>4</th>\n",
              "      <td>11a8sVPMUFtaC7_ABRkmtw</td>\n",
              "      <td>ssoyf2_x0EQMed6fgHeMyQ</td>\n",
              "      <td>b1b1eb3uo-w561D0ZfCEiQ</td>\n",
              "      <td>1.0</td>\n",
              "      <td>Today was my second out of three sessions I ha...</td>\n",
              "      <td>Scottsdale</td>\n",
              "      <td>AZ</td>\n",
              "      <td>1.0</td>\n",
              "      <td>{'WheelchairAccessible': 'False', 'BusinessAcc...</td>\n",
              "      <td>Teeth Whitening, Beauty &amp; Spas</td>\n",
              "      <td>Reilly</td>\n",
              "      <td>NaN</td>\n",
              "      <td>jrw1jRpoRgK6ZQ4Z5_hPng, GJgchmwqQghjuG14uWgIOA...</td>\n",
              "      <td>0.0</td>\n",
              "      <td>7.0</td>\n",
              "    </tr>\n",
              "  </tbody>\n",
              "</table>\n",
              "</div>"
            ],
            "text/plain": [
              "                review_id                 user_id  ... fans  useful\n",
              "0  Q1sbwvVQXV2734tPgoKj4Q  hG7b0MtEbXx5QzbzE6C_VA  ...  0.0    18.0\n",
              "1  GJXCdrto3ASJOqKeVWPi6Q  yXQM5uF2jS6es16SJzNHfg  ...  3.0   178.0\n",
              "2  2TzJjDVDEuAW6MR5Vuc1ug  n6-Gk65cPZL6Uz8qRm3NYw  ...  1.0    13.0\n",
              "3  yi0R0Ugj_xUx_Nek0-_Qig  dacAIZ6fTM6mqwW5uxkskg  ...  0.0     2.0\n",
              "4  11a8sVPMUFtaC7_ABRkmtw  ssoyf2_x0EQMed6fgHeMyQ  ...  0.0     7.0\n",
              "\n",
              "[5 rows x 15 columns]"
            ]
          },
          "metadata": {
            "tags": []
          },
          "execution_count": 21
        }
      ]
    },
    {
      "cell_type": "markdown",
      "metadata": {
        "id": "CjiOGvB-rhjr",
        "colab_type": "text"
      },
      "source": [
        "## Feature Engineering:"
      ]
    },
    {
      "cell_type": "code",
      "metadata": {
        "id": "VZwJiXsqBESm",
        "colab_type": "code",
        "outputId": "040875c4-1774-4b9e-db5f-2fdf44870bac",
        "colab": {
          "base_uri": "https://localhost:8080/",
          "height": 72
        }
      },
      "source": [
        "## BIZ CATEGORIES\n",
        "# This is pretty messy. There are >1k categories, and each business can belong to several.\n",
        "\n",
        "test = super.head(n=20000)\n",
        "string_categories = test.loc[:, ('categories') ].astype(str)\n",
        "list_of_categories = list(set(string_categories.str.split(\", \").sum()))\n",
        "print(len(list_of_categories))\n",
        "print(list_of_categories)"
      ],
      "execution_count": 0,
      "outputs": [
        {
          "output_type": "stream",
          "text": [
            "917\n",
            "['Car Buyers', 'Middle Schools & High Schools', 'Blow Dry/Out Services', 'Tanning', 'Title Loans', 'Beer', 'Interior Design', 'RV Parks', 'Waffles', 'Gastroenterologist', 'Florists', 'Noodles', 'Cosmetology Schools', 'Aestheticians', 'Home Automation', 'Moroccan', 'Outlet Stores', 'Venues & Event Spaces', 'Metal Fabricators', 'Scavenger Hunts', 'Ramen', 'Saunas', 'Wigs', 'Burmese', 'Door Sales/Installation', 'Costumes', 'Jewelry', 'Makeup Artists', 'Toy Stores', 'Window Washing', 'Videos & Video Game Rental', 'Electronics Repair', 'Chinese', 'Post Offices', 'Floral Designers', 'Elementary Schools', 'Vinyl Records', 'Bed & Breakfast', 'Dive Bars', 'Driving Schools', 'Books', 'Shopping Centers', 'Process Servers', 'Diving', 'Magicians', 'Hotels & Travel', 'Nurseries & Gardening', 'Laser Tag', 'Sri Lankan', 'Soup', 'French', 'Real Estate Agents', 'Arabian', 'Counseling & Mental Health', 'Vietnamese', 'Educational Services', 'Irish Pub', 'Diagnostic Imaging', 'Food Trucks', 'Donuts', 'Rodeo', 'Furniture Assembly', 'Cantonese', 'Tax Services', 'Life Coach', 'Gutter Services', 'Turkish', 'Asian Fusion', 'Roofing', 'Laundry Services', 'Preschools', 'Wholesalers', 'Party Characters', 'Popcorn Shops', 'Campgrounds', 'Tapas/Small Plates', 'Thrift Stores', 'Tobacco Shops', 'Nail Technicians', 'Kitchen & Bath', 'Food', 'Piano Bars', 'Tenant and Eviction Law', 'Farmers Market', 'Bowling', 'Gyms', 'Cycling Classes', 'Health & Medical', 'Landscape Architects', 'Surgeons', 'German', 'Skin Care', 'Breakfast & Brunch', 'Occupational Therapy', 'Sporting Goods', 'Hot Tub & Pool', 'Excavation Services', 'Drywall Installation & Repair', \"Children's Clothing\", 'Street Art', 'Hiking', 'Fitness & Instruction', 'Sports Wear', 'Hostels', 'Mobile Phone Accessories', 'Wine Tasting Classes', 'Pole Dancing Classes', 'Musical Instruments & Teachers', 'Honduran', 'Fruits & Veggies', 'Bookstores', 'Gardeners', 'Steakhouses', \"Children's Museums\", 'Carpeting', \"Men's Hair Salons\", 'Office Cleaning', 'Pulmonologist', 'Empanadas', 'Animal Shelters', 'Medical Cannabis Referrals', 'Cajun/Creole', 'Ticket Sales', 'Skate Parks', 'Pasta Shops', 'Electronics', 'Brasseries', 'Pawn Shops', 'Mountain Biking', 'Rock Climbing', 'Carpet Cleaning', 'Banks & Credit Unions', 'Spanish', 'Tattoo', 'Comfort Food', 'Financial Services', 'Ophthalmologists', 'Piano Stores', 'Bookbinding', 'Home Services', 'Opera & Ballet', 'Art Supplies', 'Paint & Sip', 'Mortgage Brokers', 'Summer Camps', 'Boat Charters', 'Shredding Services', 'Hot Dogs', 'Archery', 'Walk-in Clinics', 'Movers', 'Landmarks & Historical Buildings', 'Piercing', 'Real Estate Services', 'Coffee Roasteries', 'Country Clubs', 'Chicken Wings', \"Women's Clothing\", 'Strip Clubs', 'Venezuelan', 'Mailbox Centers', 'Aerial Fitness', 'Halal', 'Child Care & Day Care', 'Mobile Phone Repair', 'Specialty Schools', 'Party Equipment Rentals', 'Modern European', 'Vascular Medicine', 'Wildlife Control', 'Vitamins & Supplements', 'Used', 'Cideries', 'Recycling Center', 'Psychiatrists', 'Sicilian', 'Education', 'Medical Centers', 'Cosmetic Dentists', 'Cabinetry', 'Packing Supplies', 'Cafeteria', 'Dog Walkers', 'Water Purification Services', 'Hydrotherapy', 'Convenience Stores', 'Races & Competitions', 'Bistros', 'Engraving', 'Muay Thai', 'Outdoor Furniture Stores', 'Taxis', 'Champagne Bars', 'Pizza', 'Izakaya', 'Hair Stylists', 'Tea Rooms', \"Men's Clothing\", 'Motorcycle Dealers', 'Outdoor Gear', 'Vehicle Wraps', 'Bike Rentals', 'Oxygen Bars', 'IT Services & Computer Repair', 'Local Flavor', 'Karate', 'Pet Waste Removal', 'Dentists', 'Mediterranean', 'Ski & Snowboard Shops', 'Nicaraguan', 'Retina Specialists', 'Public Relations', 'Belgian', 'Food Delivery Services', 'Acupuncture', 'Bagels', 'Transportation', 'Flooring', 'Emergency Pet Hospital', 'Colombian', 'Airport Shuttles', 'Employment Agencies', 'Departments of Motor Vehicles', 'Scottish', 'Home Window Tinting', 'Safe Stores', 'Drugstores', 'Hunting & Fishing Supplies', 'Guitar Stores', 'Challenge Courses', 'Gastropubs', 'Product Design', 'Computers', 'Sports Medicine', 'Shared Office Spaces', 'Electricians', 'Arcades', 'Hair Removal', 'Gift Shops', 'Endocrinologists', 'Decks & Railing', 'Generator Installation/Repair', 'British', 'Golf Lessons', 'Afghan', 'Garage Door Services', 'Commercial Real Estate', 'Beer Bar', 'Urologists', 'Shoe Repair', 'Trusts', 'Leather Goods', 'Juice Bars & Smoothies', 'Falafel', 'Wineries', 'Private Tutors', 'Department Stores', 'Swimwear', 'Business Financing', 'Laundromat', 'Tours', 'Legal Services', 'Used Bookstore', 'Holiday Decorations', 'Condominiums', 'Grocery', 'Live/Raw Food', 'Traffic Schools', 'Striptease Dancers', 'Hearing Aid Providers', 'Ethnic Food', 'Brewpubs', 'Buffets', 'Parenting Classes', 'Indoor Playcentre', 'Septic Services', 'Gelato', 'Dance Clubs', 'Advertising', 'Car Dealers', 'Clothing Rental', 'International', 'Car Share Services', 'Framing', 'Accessories', 'Donairs', 'Commercial Truck Repair', 'Cheese Tasting Classes', 'Party Bus Rentals', 'Spray Tanning', 'Data Recovery', 'Dry Cleaning', 'Bus Tours', 'Candy Stores', 'Arts & Crafts', 'Furniture Repair', 'Pick Your Own Farms', 'Tiling', 'Painters', 'Middle Eastern', 'Auto Insurance', 'Adult', 'Mortuary Services', 'Language Schools', 'Boxing', 'Telecommunications', 'Used Car Dealers', 'Reflexology', 'Botanical Gardens', 'Salvadoran', 'Periodontists', 'Obstetricians & Gynecologists', 'Real Estate', 'Rafting/Kayaking', 'Packing Services', 'Pet Sitting', 'Chocolatiers & Shops', 'Wraps', 'Personal Shopping', 'Sandwiches', 'Windshield Installation & Repair', 'TV Mounting', 'Parks', 'Waterproofing', 'Pool Halls', 'Livestock Feed & Supply', 'Head Shops', 'Nutritionists', 'Boat Dealers', 'Whiskey Bars', 'Cooking Classes', 'Hawaiian', 'Zoos', 'Damage Restoration', 'Urgent Care', 'Musical Instrument Services', 'Hair Loss Centers', 'Float Spa', 'Souvenir Shops', 'Screen Printing/T-Shirt Printing', 'Organic Stores', 'Glass & Mirrors', 'Szechuan', 'Weight Loss Centers', 'International Grocery', 'Stadiums & Arenas', 'Burgers', 'Cosmetics & Beauty Supply', 'RV Repair', 'Shoe Stores', 'Pet Photography', 'Libraries', 'Propane', 'Appliances', 'Soccer', 'Utilities', 'Firearm Training', 'Arts & Entertainment', 'Baby Gear & Furniture', 'Puerto Rican', 'Wedding Planning', 'Television Stations', 'Cocktail Bars', 'Performing Arts', 'Apartments', 'Guns & Ammo', 'Art Museums', 'Payroll Services', 'Wallpapering', 'Pain Management', 'Home Organization', 'Insurance', 'Pubs', 'Midwives', 'General Dentistry', 'Party & Event Planning', 'Cards & Stationery', 'Vocational & Technical School', 'Water Stores', 'Distilleries', 'Orthotics', 'Peruvian', 'Macarons', 'Mini Golf', 'Eatertainment', 'Pet Cremation Services', 'Active Life', 'Music & DVDs', 'Office Equipment', 'Pharmacy', 'Car Window Tinting', 'Tiki Bars', 'Couriers & Delivery Services', 'Audiologist', 'Malaysian', 'Hot Pot', 'American (New)', 'Chiropractors', 'Knitting Supplies', 'Auto Customization', 'Wine & Spirits', 'Comic Books', 'Psychics', 'Auto Security', 'Radio Stations', 'Waxing', 'Shades & Blinds', 'Bangladeshi', 'Investing', 'Veterinarians', 'Beer Gardens', 'Auto Parts & Supplies', 'Water Delivery', 'Diagnostic Services', 'Vape Shops', 'Vacation Rentals', 'Ziplining', 'Antiques', 'Bars', 'Vegan', 'Rugs', 'Himalayan/Nepalese', 'Thai', 'Creperies', 'Massage', 'Fondue', 'Yoga', 'Filipino', 'Immunodermatologists', 'Russian', 'Hotels', 'Battery Stores', 'Photo Booth Rentals', 'Auto Detailing', 'Food Stands', 'Amateur Sports Teams', 'Singaporean', 'Swimming Pools', 'Historical Tours', 'Coffee & Tea Supplies', 'General Litigation', 'Polish', 'Blood & Plasma Donation Centers', 'Auto Glass Services', 'IV Hydration', 'Optometrists', 'Valet Services', 'African', 'Tex-Mex', 'Mongolian', 'Assisted Living Facilities', 'Chimney Sweeps', 'Public Markets', 'Art Galleries', 'Farms', 'Marketing', 'Street Vendors', 'Mattresses', 'Ukrainian', 'Foundation Repair', 'Police Departments', 'American (Traditional)', 'Motorcycle Rental', 'Bartenders', 'Caterers', 'Tabletop Games', 'Recreation Centers', 'Laboratory Testing', 'Hypnosis/Hypnotherapy', 'Shanghainese', 'Special Education', 'Installment Loans', 'Lighting Fixtures & Equipment', 'Specialty Food', 'Windows Installation', 'Portuguese', 'Internet Service Providers', 'Video Game Stores', 'nan', 'Piano Services', 'Cambodian', 'Reiki', 'Transmission Repair', 'Basketball Courts', 'Team Building Activities', 'Home Health Care', 'Karaoke', 'Financial Advising', 'Climbing', 'Face Painting', 'Discount Store', 'Colonics', 'Herbs & Spices', 'Basque', 'Synagogues', 'Criminal Defense Law', 'Pet Services', 'Public Transportation', 'Bespoke Clothing', 'Austrian', 'Jewelry Repair', 'Comedy Clubs', 'Bike Repair/Maintenance', 'Hats', 'Trampoline Parks', 'Screen Printing', 'Oral Surgeons', 'Towing', 'Brazilian Jiu-jitsu', 'Wheel & Rim Repair', 'Greek', 'Personal Assistants', 'Sleep Specialists', 'Auto Repair', 'Alternative Medicine', 'Plastic Surgeons', 'Lawyers', 'Farming Equipment', 'Art Schools', 'Colleges & Universities', 'Physical Therapy', 'Roadside Assistance', 'Hospitals', 'Insulation Installation', 'Traffic Ticketing Law', 'Customs Brokers', 'Home & Rental Insurance', 'Fireplace Services', 'Eyewear & Opticians', 'Hookah Bars', 'Medical Transportation', 'Farm Equipment Repair', 'Seafood', 'Uniforms', 'Embroidery & Crochet', 'Lighting Stores', 'Wills', 'Home Energy Auditors', 'Pest Control', 'Plus Size Fashion', 'Sailing', 'Musicians', 'Tree Services', 'Pets', 'Hydro-jetting', 'Ultrasound Imaging Centers', 'Osteopathic Physicians', 'Hobby Shops', 'Estate Liquidation', 'Casinos', 'Sushi Bars', 'Motorcycle Repair', 'Lebanese', 'Mortgage Lenders', 'Matchmakers', 'Amusement Parks', 'Hardware Stores', 'Animal Physical Therapy', 'Fish & Chips', 'Adult Education', 'Horseback Riding', 'Laotian', 'CPR Classes', 'Tires', 'ATV Rentals/Tours', 'RV Dealers', 'Speech Therapists', 'Rehabilitation Center', 'Car Rental', 'Beaches', 'Laser Hair Removal', 'Accountants', 'Holiday Decorating Services', 'Badminton', 'Day Spas', 'Delis', 'Eyebrow Services', 'Local Services', 'Barbeque', 'Shopping', 'Event Photography', 'Nail Salons', 'Pakistani', 'Party Supplies', 'Fashion', 'Stucco Services', 'Seafood Markets', 'Appliances & Repair', 'Gluten-Free', 'Taekwondo', 'Home Decor', 'Handyman', 'Pet Boarding', 'Lingerie', 'Churches', 'Acne Treatment', 'Cannabis Clinics', 'Printing Services', 'Butcher', 'Train Stations', 'Wine Tours', 'Tutoring Centers', 'Bounce House Rentals', 'Country Dance Halls', 'Health Coach', 'Restaurants', 'Doulas', 'Registration Services', 'Air Duct Cleaning', 'Limos', 'Custom Cakes', 'Home Cleaning', 'Cooking Schools', 'Yelp Events', 'Pool & Hot Tub Service', 'Family Practice', 'Heating & Air Conditioning/HVAC', 'Pet Stores', 'Ethiopian', 'Dry Cleaning & Laundry', 'Dermatologists', 'Barbers', 'Internet Cafes', 'Swimming Lessons/Schools', 'Bankruptcy Law', 'Soul Food', 'Threading Services', 'Pediatric Dentists', 'Chicken Shop', 'Television Service Providers', 'Podiatrists', 'Shaved Ice', 'Home & Garden', 'Solar Installation', 'Caribbean', 'Gas Stations', 'Junk Removal & Hauling', 'Sports Bars', 'Cheese Shops', 'Countertop Installation', 'Nightlife', 'Bridal', 'Trinidadian', 'Funeral Services & Cemeteries', 'Armenian', 'Neurologist', 'Beauty & Spas', 'Fences & Gates', 'Local Fish Stores', 'Horse Boarding', 'Vehicle Shipping', 'Real Estate Law', 'Tattoo Removal', 'Medical Supplies', 'Newspapers & Magazines', 'Skilled Nursing', 'Italian', 'Nurse Practitioner', 'Tacos', 'Car Brokers', 'Speakeasies', 'Tapas Bars', '3D Printing', 'DUI Law', 'Axe Throwing', 'Eyelash Service', 'Taiwanese', 'Diners', 'Ear Nose & Throat', 'Hakka', 'DIY Auto Shop', 'Salad', 'Courthouses', 'Business Law', 'Teeth Whitening', 'Watches', 'Nanny Services', 'Christmas Trees', 'Security Systems', 'Ethnic Grocery', 'Business Consulting', 'Ethical Grocery', 'Scuba Diving', 'Observatories', 'Pop-up Shops', 'Irish', 'Do-It-Yourself Food', 'Grout Services', 'Meat Shops', 'Dance Studios', 'Vegetarian', 'Naturopathic/Holistic', 'Dive Shops', 'Airport Lounges', 'Check Cashing/Pay-day Loans', 'Cafes', 'Carpenters', 'Kids Hair Salons', 'Latin American', 'Cardio Classes', 'Cupcakes', 'Internal Medicine', 'Brazilian', 'DJs', 'Boot Camps', 'Social Clubs', 'Wedding Chapels', 'Southern', 'Martial Arts', 'Irrigation', 'Hungarian', 'Wine Tasting Room', 'Print Media', 'Leisure Centers', 'Dinner Theater', 'Paint Stores', 'Siding', 'Vintage & Consignment', 'Circuit Training Gyms', 'Trailer Rental', 'Pet Groomers', 'Session Photography', 'Travel Services', 'Boat Tours', 'Cuban', 'Traditional Chinese Medicine', 'Cosmetic Surgeons', 'Watch Repair', 'Auto Loan Providers', 'Cinema', 'Kosher', 'Roof Inspectors', 'Tennis', 'Divorce & Family Law', 'Trailer Dealers', 'Tasting Classes', 'Poutineries', 'Ice Delivery', 'Art Classes', 'Pilates', 'Gun/Rifle Ranges', 'Desserts', 'Property Management', 'University Housing', 'Montessori Schools', 'Escape Games', 'Automotive', 'Service Stations', 'Carpet Installation', 'Massage Therapy', 'Food Court', 'Home Network Installation', 'Event Planning & Services', 'Playgrounds', 'Home Inspectors', 'Parking', 'Jazz & Blues', 'Festivals', 'Vacation Rental Agents', 'Formal Wear', 'Furniture Reupholstery', 'Pediatricians', 'Visitor Centers', 'Motorcycle Gear', 'Trainers', 'Pet Adoption', 'Olive Oil', 'Airports', 'Interval Training Gyms', 'Cultural Center', 'Estheticians', 'Endodontists', 'Cannabis Dispensaries', 'Australian', 'Japanese', 'Truck Rental', 'Health Markets', 'Adult Entertainment', 'Fire Protection Services', 'Golf', '& Probates', 'Luggage', 'Pan Asian', 'Estate Planning Law', 'Museums', 'Public Services & Government', 'Persian/Iranian', 'Sugaring', 'Gold Buyers', 'Poke', 'Car Wash', 'South African', 'Smokehouse', 'Coffee & Tea', 'Dance Schools', 'Self Storage', 'Customized Merchandise', 'Bubble Tea', 'Lounges', 'Sewing & Alterations', 'Pressure Washers', 'Aquariums', 'Cheesesteaks', 'Emergency Rooms', 'Go Karts', 'Furniture Stores', 'Delicatessen', 'Car Stereo Installation', 'Mass Media', 'Personal Chefs', 'Gymnastics', 'Web Design', 'Laser Eye Surgery/Lasik', 'Fabric Stores', 'Tableware', 'Imported Food', 'Body Shops', 'Shipping Centers', 'Pool Cleaners', 'Acai Bowls', 'Knife Sharpening', 'Kids Activities', 'Paintball', 'Gay Bars', 'Donation Center', 'Water Heater Installation/Repair', 'Bikes', 'Hair Extensions', 'Personal Injury Law', 'Doctors', 'Resorts', 'Medical Spas', 'Ice Cream & Frozen Yogurt', 'Breweries', 'Patisserie/Cake Shop', 'Retirement Homes', 'Tanning Beds', 'Auction Houses', 'Sports Clubs', 'Meditation Centers', 'Professional Services', 'Concierge Medicine', 'Cardiologists', 'Wine Bars', 'Fast Food', 'Spine Surgeons', 'Teppanyaki', 'Barre Classes', 'Sandblasting', 'Henna Artists', 'Allergists', 'Masonry/Concrete', 'Religious Organizations', 'Permanent Makeup', 'Orthodontists', 'Patio Coverings', 'Mags', 'Indian', 'Squash', 'Home Staging', 'Food Banks', 'New Mexican Cuisine', 'Contractors', 'Neurotologists', 'Photographers', 'Boat Repair', 'Passport & Visa Services', 'Notaries', 'Body Contouring', 'Hair Salons', 'Race Tracks', 'Community Service/Non-Profit', 'Canadian (New)', 'Fishing', 'Music Venues', 'Airlines', 'Mexican', 'Flight Instruction', 'Oncologist', 'Dog Parks', 'Dim Sum', 'Professional Sports Teams', 'Signmaking', 'Life Insurance', 'Mobile Home Repair', 'Smog Check Stations', 'Korean', 'Skydiving', 'Orthopedists', 'Kebab', 'Graphic Design', 'Building Supplies', 'Mobile Phones', 'Oil Change Stations', 'Keys & Locksmiths', 'Boating', 'Supernatural Readings', 'Shutters', 'Landscaping', 'Flowers & Gifts', 'Skating Rinks', 'Bakeries', 'Restaurant Supplies', 'Music & Video', 'Argentine', 'Pet Training', 'Egyptian', 'Plumbing', 'Wholesale Stores', 'Photography Stores & Services', 'Home Theatre Installation', 'Radiologists', 'Refinishing Services', 'Security Services', 'Dental Hygienists', 'Aquarium Services']\n"
          ],
          "name": "stdout"
        }
      ]
    },
    {
      "cell_type": "code",
      "metadata": {
        "id": "WWLRStSfIZH4",
        "colab_type": "code",
        "outputId": "d0314136-2ebe-4ac7-b035-67d6e15a4b96",
        "colab": {
          "base_uri": "https://localhost:8080/",
          "height": 55
        }
      },
      "source": [
        "## BIZ ATTRIBUTES\n",
        "# Pretty challenging to parse the JSON. Using categories above will actually be easier.\n",
        "\n",
        "import json\n",
        "\n",
        "x = super.head().copy()\n",
        "\n",
        "def make_dict(row):\n",
        "  tmp = str(row['attributes']).replace(\"\\'\", \"\\\"\")\n",
        "  tmp = tmp.replace(\" True\", \"\\\"True\\\"\").replace(\" False\", \"\\\"False\\\"\")\n",
        "  # return json.loads(tmp)\n",
        "  return tmp\n",
        "\n",
        "x['att2'] = x.apply(make_dict, axis=1)\n",
        "x['att2'][1]"
      ],
      "execution_count": 0,
      "outputs": [
        {
          "output_type": "execute_result",
          "data": {
            "text/plain": [
              "'{\"RestaurantsPriceRange2\": \"2\", \"BusinessAcceptsCreditCards\": \"True\", \"WheelchairAccessible\": \"True\", \"BusinessParking\": \"{\"garage\":\"True\", \"street\":\"False\", \"validated\":\"False\", \"lot\":\"False\", \"valet\":\"False\"}\", \"GoodForKids\": \"True\", \"ByAppointmentOnly\": \"False\", \"BikeParking\": \"True\"}'"
            ]
          },
          "metadata": {
            "tags": []
          },
          "execution_count": 8
        }
      ]
    },
    {
      "cell_type": "code",
      "metadata": {
        "id": "7HvELpukTg4S",
        "colab_type": "code",
        "outputId": "170aa049-6b16-4dda-bff2-59e53d04f4ca",
        "colab": {
          "base_uri": "https://localhost:8080/",
          "height": 311
        }
      },
      "source": [
        "# BUSINESS Popularity: `business_popularity_class`\n",
        "# Create three classes of popularity: low, medium, high\n",
        "\n",
        "counts = pd.DataFrame(super.groupby('business_id')['stars'].agg(['count', 'mean', 'median', 'std']).sort_values(by='count', ascending=False))\n",
        "bins = [1, 10, 30, 1000000]\n",
        "# Classes: low = 1-5, medium = 10-30, high = 30+\n",
        "counts['business_popularity_bin'] = pd.cut(counts['count'], bins, right=False, labels=['low','medium','high'])\n",
        "counts.groupby(['business_popularity_bin'])['count'].agg(['count']).plot(kind='bar')\n",
        "\n",
        "# Define 3 classes of business popularity\n",
        "business_popularity_class = pd.DataFrame(counts['business_popularity_bin'])\n",
        "# business_popularity_class"
      ],
      "execution_count": 0,
      "outputs": [
        {
          "output_type": "display_data",
          "data": {
            "image/png": "[encoded data removed]",
            "text/plain": [
              "<Figure size 432x288 with 1 Axes>"
            ]
          },
          "metadata": {
            "tags": []
          }
        }
      ]
    },
    {
      "cell_type": "code",
      "metadata": {
        "id": "Tz0hqpz_TyZV",
        "colab_type": "code",
        "outputId": "2d77922e-e81e-40b1-f521-afe36d4f700e",
        "colab": {
          "base_uri": "https://localhost:8080/",
          "height": 311
        }
      },
      "source": [
        "# USER Activity: `user_activity_class`\n",
        "# Create three classes of user activity: low, medium, high\n",
        "\n",
        "counts = pd.DataFrame(super.groupby('user_id')['stars'].agg(['count', 'mean', 'median', 'std']).sort_values(by='count', ascending=False))\n",
        "bins = [1, 5, 10, 20, 1000000]\n",
        "# Classes: exclude = 1-4, low = 5-10, medium = 11-20, high = 20+\n",
        "counts['user_activity_bin'] = pd.cut(counts['count'], bins, right=False, labels=['exclude','low', 'medium','high'])\n",
        "counts[~counts['user_activity_bin'].isin(['exclude'])].groupby(['user_activity_bin'])['count'].agg(['count']).plot(kind='bar')\n",
        "\n",
        "# Define 3 classes of user activity\n",
        "user_activity_class = pd.DataFrame(counts['user_activity_bin'])\n",
        "# user_activity_class"
      ],
      "execution_count": 0,
      "outputs": [
        {
          "output_type": "display_data",
          "data": {
            "image/png": "[encoded data removed]",
            "text/plain": [
              "<Figure size 432x288 with 1 Axes>"
            ]
          },
          "metadata": {
            "tags": []
          }
        }
      ]
    },
    {
      "cell_type": "markdown",
      "metadata": {
        "id": "0cn811Jhwxl_",
        "colab_type": "text"
      },
      "source": [
        "## Create \"categorization\" dataframe"
      ]
    },
    {
      "cell_type": "code",
      "metadata": {
        "id": "GS2dZtrexCRN",
        "colab_type": "code",
        "outputId": "866b4187-4c68-4d96-a213-47bd71510f00",
        "colab": {
          "base_uri": "https://localhost:8080/",
          "height": 235
        }
      },
      "source": [
        "categorization = super[['review_id','user_id','business_id','stars','city','state','is_open']]\n",
        "categorization = pd.merge(categorization, business_popularity_class, on='business_id',how='left')\n",
        "categorization = pd.merge(categorization, user_activity_class, on='user_id',how='left')\n",
        "\n",
        "categorization.head()"
      ],
      "execution_count": 0,
      "outputs": [
        {
          "output_type": "execute_result",
          "data": {
            "text/html": [
              "<div>\n",
              "<style scoped>\n",
              "    .dataframe tbody tr th:only-of-type {\n",
              "        vertical-align: middle;\n",
              "    }\n",
              "\n",
              "    .dataframe tbody tr th {\n",
              "        vertical-align: top;\n",
              "    }\n",
              "\n",
              "    .dataframe thead th {\n",
              "        text-align: right;\n",
              "    }\n",
              "</style>\n",
              "<table border=\"1\" class=\"dataframe\">\n",
              "  <thead>\n",
              "    <tr style=\"text-align: right;\">\n",
              "      <th></th>\n",
              "      <th>review_id</th>\n",
              "      <th>user_id</th>\n",
              "      <th>business_id</th>\n",
              "      <th>stars</th>\n",
              "      <th>city</th>\n",
              "      <th>state</th>\n",
              "      <th>is_open</th>\n",
              "      <th>business_popularity_bin</th>\n",
              "      <th>user_activity_bin</th>\n",
              "    </tr>\n",
              "  </thead>\n",
              "  <tbody>\n",
              "    <tr>\n",
              "      <th>0</th>\n",
              "      <td>Q1sbwvVQXV2734tPgoKj4Q</td>\n",
              "      <td>hG7b0MtEbXx5QzbzE6C_VA</td>\n",
              "      <td>ujmEBvifdJM6h6RLv4wQIg</td>\n",
              "      <td>1.0</td>\n",
              "      <td>Las Vegas</td>\n",
              "      <td>NV</td>\n",
              "      <td>1.0</td>\n",
              "      <td>high</td>\n",
              "      <td>medium</td>\n",
              "    </tr>\n",
              "    <tr>\n",
              "      <th>1</th>\n",
              "      <td>GJXCdrto3ASJOqKeVWPi6Q</td>\n",
              "      <td>yXQM5uF2jS6es16SJzNHfg</td>\n",
              "      <td>NZnhc2sEQy3RmzKTZnqtwQ</td>\n",
              "      <td>5.0</td>\n",
              "      <td>Las Vegas</td>\n",
              "      <td>NV</td>\n",
              "      <td>1.0</td>\n",
              "      <td>high</td>\n",
              "      <td>exclude</td>\n",
              "    </tr>\n",
              "    <tr>\n",
              "      <th>2</th>\n",
              "      <td>2TzJjDVDEuAW6MR5Vuc1ug</td>\n",
              "      <td>n6-Gk65cPZL6Uz8qRm3NYw</td>\n",
              "      <td>WTqjgwHlXbSFevF32_DJVw</td>\n",
              "      <td>5.0</td>\n",
              "      <td>Chandler</td>\n",
              "      <td>AZ</td>\n",
              "      <td>1.0</td>\n",
              "      <td>high</td>\n",
              "      <td>low</td>\n",
              "    </tr>\n",
              "    <tr>\n",
              "      <th>3</th>\n",
              "      <td>yi0R0Ugj_xUx_Nek0-_Qig</td>\n",
              "      <td>dacAIZ6fTM6mqwW5uxkskg</td>\n",
              "      <td>ikCg8xy5JIg_NGPx-MSIDA</td>\n",
              "      <td>5.0</td>\n",
              "      <td>Calgary</td>\n",
              "      <td>AB</td>\n",
              "      <td>1.0</td>\n",
              "      <td>medium</td>\n",
              "      <td>exclude</td>\n",
              "    </tr>\n",
              "    <tr>\n",
              "      <th>4</th>\n",
              "      <td>11a8sVPMUFtaC7_ABRkmtw</td>\n",
              "      <td>ssoyf2_x0EQMed6fgHeMyQ</td>\n",
              "      <td>b1b1eb3uo-w561D0ZfCEiQ</td>\n",
              "      <td>1.0</td>\n",
              "      <td>Scottsdale</td>\n",
              "      <td>AZ</td>\n",
              "      <td>1.0</td>\n",
              "      <td>high</td>\n",
              "      <td>exclude</td>\n",
              "    </tr>\n",
              "  </tbody>\n",
              "</table>\n",
              "</div>"
            ],
            "text/plain": [
              "                review_id  ... user_activity_bin\n",
              "0  Q1sbwvVQXV2734tPgoKj4Q  ...            medium\n",
              "1  GJXCdrto3ASJOqKeVWPi6Q  ...           exclude\n",
              "2  2TzJjDVDEuAW6MR5Vuc1ug  ...               low\n",
              "3  yi0R0Ugj_xUx_Nek0-_Qig  ...           exclude\n",
              "4  11a8sVPMUFtaC7_ABRkmtw  ...           exclude\n",
              "\n",
              "[5 rows x 9 columns]"
            ]
          },
          "metadata": {
            "tags": []
          },
          "execution_count": 11
        }
      ]
    },
    {
      "cell_type": "code",
      "metadata": {
        "id": "KeZYRdjJkmCq",
        "colab_type": "code",
        "outputId": "5b6cb6ae-7716-47e1-d2ff-7d00634a4099",
        "colab": {
          "base_uri": "https://localhost:8080/",
          "height": 35
        }
      },
      "source": [
        "# Save `categorization` to drive:\n",
        "def upload_csv_to_drive(destination_folder, dataframe, csv_filename):\n",
        "  dataframe.to_csv(csv_filename, index=False)\n",
        "  tmp = drive.CreateFile({\"parents\": [{\"kind\": \"drive#fileLink\", \"id\": destination_folder}]})\n",
        "  tmp.SetContentFile(csv_filename)\n",
        "  tmp.Upload()\n",
        "  print(\"Upload complete for: \", csv_filename)\n",
        "\n",
        "upload_csv_to_drive(\"138BMjfpGmQescIUmfX_4TA6A2l6g_eP_\", categorization, \"categorization.csv\")"
      ],
      "execution_count": 0,
      "outputs": [
        {
          "output_type": "stream",
          "text": [
            "Upload complete for:  categorization.csv\n"
          ],
          "name": "stdout"
        }
      ]
    },
    {
      "cell_type": "code",
      "metadata": {
        "id": "JKKgJ8QLw0GP",
        "colab_type": "code",
        "outputId": "8e820bd6-3050-429c-f489-efa7f844481b",
        "colab": {
          "base_uri": "https://localhost:8080/",
          "height": 1000
        }
      },
      "source": [
        "# For every categorical variable, count reviews, distribution, and standard deviation:\n",
        "# Show only categorical values that represent at least 2% of reviews:\n",
        "\n",
        "def aggregate(df, categorical_var, metric):\n",
        "  counts = pd.DataFrame(df.groupby(categorical_var)['stars'].agg(['count', 'mean', 'median', 'std']).sort_values(by='count', ascending=False))\n",
        "  counts['pct'] = round(100.0 * counts['count'] / counts.sum()['count'], 2)\n",
        "  threshold = len(counts[counts['pct'] >= 2.0])\n",
        "  counts[[metric]].head(n=min(threshold, 20)).sort_values(by=metric, ascending=False).plot(kind='bar', y=metric, ylim=[3.0,4.0], grid=True)\n",
        "  return\n",
        "\n",
        "for col in ['city', 'state', 'is_open', 'business_popularity_bin', 'user_activity_bin']:\n",
        "  aggregate(categorization, col, 'mean')\n",
        "\n"
      ],
      "execution_count": 0,
      "outputs": [
        {
          "output_type": "display_data",
          "data": {
            "image/png": "[encoded data removed]",
            "text/plain": [
              "<Figure size 432x288 with 1 Axes>"
            ]
          },
          "metadata": {
            "tags": []
          }
        },
        {
          "output_type": "display_data",
          "data": {
            "image/png": "[encoded data removed]",
            "text/plain": [
              "<Figure size 432x288 with 1 Axes>"
            ]
          },
          "metadata": {
            "tags": []
          }
        },
        {
          "output_type": "display_data",
          "data": {
            "image/png": "[encoded data removed]",
            "text/plain": [
              "<Figure size 432x288 with 1 Axes>"
            ]
          },
          "metadata": {
            "tags": []
          }
        },
        {
          "output_type": "display_data",
          "data": {
            "image/png": "[encoded data removed]",
            "text/plain": [
              "<Figure size 432x288 with 1 Axes>"
            ]
          },
          "metadata": {
            "tags": []
          }
        },
        {
          "output_type": "display_data",
          "data": {
            "image/png": "[encoded data removed]",
            "text/plain": [
              "<Figure size 432x288 with 1 Axes>"
            ]
          },
          "metadata": {
            "tags": []
          }
        }
      ]
    }
  ]
}