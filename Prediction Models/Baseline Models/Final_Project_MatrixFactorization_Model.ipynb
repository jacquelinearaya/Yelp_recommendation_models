{
  "nbformat": 4,
  "nbformat_minor": 0,
  "metadata": {
    "kernelspec": {
      "name": "python3",
      "display_name": "Python 3"
    },
    "language_info": {
      "codemirror_mode": {
        "name": "ipython",
        "version": 3
      },
      "file_extension": ".py",
      "mimetype": "text/x-python",
      "name": "python",
      "nbconvert_exporter": "python",
      "pygments_lexer": "ipython3",
      "version": "3.6.8"
    },
    "colab": {
      "name": "MatrixFactorization Model.ipynb",
      "provenance": [],
      "collapsed_sections": []
    },
    "accelerator": "GPU"
  },
  "cells": [
    {
      "cell_type": "markdown",
      "metadata": {
        "id": "oPqIxyJCpjOL",
        "colab_type": "text"
      },
      "source": [
        "# Matrix Factorization with SPARK ML"
      ]
    },
    {
      "cell_type": "markdown",
      "metadata": {
        "id": "1e-s1WuHpjOX",
        "colab_type": "text"
      },
      "source": [
        "### Initialize a spark context and read data into a spark dataframe"
      ]
    },
    {
      "cell_type": "code",
      "metadata": {
        "id": "FP-IeVRvpm8Y",
        "colab_type": "code",
        "colab": {}
      },
      "source": [
        "!apt-get install openjdk-8-jdk-headless -qq > /dev/null\n",
        "!wget -q http://apache-mirror.8birdsvideo.com/spark/spark-3.0.0-preview/spark-3.0.0-preview-bin-hadoop2.7.tgz\n",
        "!tar xf spark-3.0.0-preview-bin-hadoop2.7.tgz\n",
        "!pip install -q findspark"
      ],
      "execution_count": 0,
      "outputs": []
    },
    {
      "cell_type": "code",
      "metadata": {
        "id": "axI9bCtjputi",
        "colab_type": "code",
        "colab": {}
      },
      "source": [
        "import os\n",
        "os.environ[\"JAVA_HOME\"] = \"/usr/lib/jvm/java-8-openjdk-amd64\"\n",
        "os.environ[\"SPARK_HOME\"] = \"/content/spark-3.0.0-preview-bin-hadoop2.7\""
      ],
      "execution_count": 0,
      "outputs": []
    },
    {
      "cell_type": "code",
      "metadata": {
        "id": "7aM199yorile",
        "colab_type": "code",
        "colab": {}
      },
      "source": [
        "import findspark\n",
        "findspark.init()\n",
        "from pyspark.sql import SparkSession\n",
        "spark = SparkSession.builder.master(\"local[*]\").getOrCreate()"
      ],
      "execution_count": 0,
      "outputs": []
    },
    {
      "cell_type": "code",
      "metadata": {
        "id": "RPzkRgvtpjOe",
        "colab_type": "code",
        "colab": {}
      },
      "source": [
        "#import libraries\n",
        "from pyspark.ml.evaluation import RegressionEvaluator\n",
        "from pyspark.ml.recommendation import ALS\n",
        "from pyspark.sql import Row\n",
        "import pandas as pd\n",
        "import numpy as np"
      ],
      "execution_count": 0,
      "outputs": []
    },
    {
      "cell_type": "code",
      "metadata": {
        "id": "q8oVEsGdsWib",
        "colab_type": "code",
        "outputId": "9dbafeea-5000-4384-febf-8a1b7f9ab31e",
        "colab": {
          "base_uri": "https://localhost:8080/",
          "height": 129
        }
      },
      "source": [
        "from google.colab import drive\n",
        "drive.mount('/content/drive')"
      ],
      "execution_count": 0,
      "outputs": [
        {
          "output_type": "stream",
          "text": [
            "Go to this URL in a browser: https://accounts.google.com/o/oauth2/auth?client_id=947318989803-6bn6qk8qdgf4n4g3pfee6491hc0brc4i.apps.googleusercontent.com&redirect_uri=urn%3aietf%3awg%3aoauth%3a2.0%3aoob&response_type=code&scope=email%20https%3a%2f%2fwww.googleapis.com%2fauth%2fdocs.test%20https%3a%2f%2fwww.googleapis.com%2fauth%2fdrive%20https%3a%2f%2fwww.googleapis.com%2fauth%2fdrive.photos.readonly%20https%3a%2f%2fwww.googleapis.com%2fauth%2fpeopleapi.readonly\n",
            "\n",
            "Enter your authorization code:\n",
            "··········\n",
            "Mounted at /content/drive\n"
          ],
          "name": "stdout"
        }
      ]
    },
    {
      "cell_type": "code",
      "metadata": {
        "id": "i1RtoyuAmDmz",
        "colab_type": "code",
        "colab": {}
      },
      "source": [
        "drive_root = \"/content/drive/My Drive/Final Project/\""
      ],
      "execution_count": 0,
      "outputs": []
    },
    {
      "cell_type": "code",
      "metadata": {
        "id": "_7DmzX0cIPM3",
        "colab_type": "code",
        "colab": {}
      },
      "source": [
        "pd.set_option('display.float_format', lambda x: '%.2f' % x)"
      ],
      "execution_count": 0,
      "outputs": []
    },
    {
      "cell_type": "code",
      "metadata": {
        "id": "XIsuXi9CpjOw",
        "colab_type": "code",
        "colab": {}
      },
      "source": [
        "#Read train and test set\n",
        "train = pd.read_csv(drive_root+\"Clean Data/train_set_new.csv\")\n",
        "train = train[['user_id','business_id','rating']].copy()\n",
        "train = train.astype({'user_id':str,'business_id':str,'rating':float})\n",
        "\n",
        "testcsv = pd.read_csv(drive_root+\"Clean Data/last_review.csv\")"
      ],
      "execution_count": 0,
      "outputs": []
    },
    {
      "cell_type": "code",
      "metadata": {
        "id": "U93HJt5JpjO9",
        "colab_type": "code",
        "outputId": "f535987d-e1ae-44fb-bd14-5c2a8ef41b15",
        "colab": {
          "base_uri": "https://localhost:8080/",
          "height": 72
        }
      },
      "source": [
        "print(len(train.business_id.unique().tolist()))\n",
        "print(len(testcsv.business_id.unique().tolist()))\n",
        "print(len(testcsv.user_id.tolist()))"
      ],
      "execution_count": 0,
      "outputs": [
        {
          "output_type": "stream",
          "text": [
            "183398\n",
            "82498\n",
            "286130\n"
          ],
          "name": "stdout"
        }
      ]
    },
    {
      "cell_type": "code",
      "metadata": {
        "id": "wHLspAT1pjPM",
        "colab_type": "code",
        "colab": {}
      },
      "source": [
        "#save id_review aside for testing\n",
        "test_reviewid = testcsv.review_id\n",
        "test = testcsv[['user_id','business_id','rating']].copy()\n",
        "test = test.astype({'user_id':str,'business_id':str,'rating':float})"
      ],
      "execution_count": 0,
      "outputs": []
    },
    {
      "cell_type": "code",
      "metadata": {
        "id": "f3nWpvYupjPW",
        "colab_type": "code",
        "colab": {}
      },
      "source": [
        "#create a dictionary to map Id to an int\n",
        "aux1=1\n",
        "aux2 = 300000\n",
        "users = {}\n",
        "bus = {}\n",
        "\n",
        "for i in train.user_id.unique().tolist():\n",
        "    users[i] = aux1\n",
        "    aux1+=1\n",
        "    \n",
        "bus_unique = set(train.business_id.unique().tolist()+test.business_id.unique().tolist())    \n",
        "for i in bus_unique:\n",
        "    bus[i] = aux2\n",
        "    aux2+=1"
      ],
      "execution_count": 0,
      "outputs": []
    },
    {
      "cell_type": "code",
      "metadata": {
        "id": "ZdilI-nNpjPj",
        "colab_type": "code",
        "colab": {}
      },
      "source": [
        "train['newuser_id'] = train.user_id.map(users)\n",
        "train['newbus_id'] = train.business_id.map(bus)\n",
        "\n",
        "test['newuser_id'] = test.user_id.map(users)\n",
        "test['newbus_id'] = test.business_id.map(bus)"
      ],
      "execution_count": 0,
      "outputs": []
    },
    {
      "cell_type": "code",
      "metadata": {
        "id": "y-nuDv6lpjPu",
        "colab_type": "code",
        "outputId": "83521290-c1de-4e66-e679-103b25c9c653",
        "colab": {
          "base_uri": "https://localhost:8080/",
          "height": 206
        }
      },
      "source": [
        "test.head()"
      ],
      "execution_count": 0,
      "outputs": [
        {
          "output_type": "execute_result",
          "data": {
            "text/html": [
              "<div>\n",
              "<style scoped>\n",
              "    .dataframe tbody tr th:only-of-type {\n",
              "        vertical-align: middle;\n",
              "    }\n",
              "\n",
              "    .dataframe tbody tr th {\n",
              "        vertical-align: top;\n",
              "    }\n",
              "\n",
              "    .dataframe thead th {\n",
              "        text-align: right;\n",
              "    }\n",
              "</style>\n",
              "<table border=\"1\" class=\"dataframe\">\n",
              "  <thead>\n",
              "    <tr style=\"text-align: right;\">\n",
              "      <th></th>\n",
              "      <th>user_id</th>\n",
              "      <th>business_id</th>\n",
              "      <th>rating</th>\n",
              "      <th>newuser_id</th>\n",
              "      <th>newbus_id</th>\n",
              "    </tr>\n",
              "  </thead>\n",
              "  <tbody>\n",
              "    <tr>\n",
              "      <th>0</th>\n",
              "      <td>---1lKK3aKOuomHnwAkAow</td>\n",
              "      <td>Hqs4YNST_ZHbshwyi4bnsQ</td>\n",
              "      <td>5.00</td>\n",
              "      <td>10718</td>\n",
              "      <td>464362</td>\n",
              "    </tr>\n",
              "    <tr>\n",
              "      <th>1</th>\n",
              "      <td>--0kuuLmuYBe3Rmu0Iycww</td>\n",
              "      <td>PYe_FDw6QTbTf66WcGE_tw</td>\n",
              "      <td>2.00</td>\n",
              "      <td>274006</td>\n",
              "      <td>457736</td>\n",
              "    </tr>\n",
              "    <tr>\n",
              "      <th>2</th>\n",
              "      <td>--2HUmLkcNHZp0xw6AMBPg</td>\n",
              "      <td>KW9RNyBPmc77f9FsO92qYw</td>\n",
              "      <td>5.00</td>\n",
              "      <td>3497</td>\n",
              "      <td>300815</td>\n",
              "    </tr>\n",
              "    <tr>\n",
              "      <th>3</th>\n",
              "      <td>--2vR0DIsmQ6WfcSzKWigw</td>\n",
              "      <td>BLIJ-p5wYuAhw6Pp6mh6mw</td>\n",
              "      <td>3.00</td>\n",
              "      <td>155483</td>\n",
              "      <td>353085</td>\n",
              "    </tr>\n",
              "    <tr>\n",
              "      <th>4</th>\n",
              "      <td>--3WaS23LcIXtxyFULJHTA</td>\n",
              "      <td>UKrfUw8quQiQM2N9i1nH0g</td>\n",
              "      <td>4.00</td>\n",
              "      <td>7615</td>\n",
              "      <td>312087</td>\n",
              "    </tr>\n",
              "  </tbody>\n",
              "</table>\n",
              "</div>"
            ],
            "text/plain": [
              "                  user_id             business_id  ...  newuser_id  newbus_id\n",
              "0  ---1lKK3aKOuomHnwAkAow  Hqs4YNST_ZHbshwyi4bnsQ  ...       10718     464362\n",
              "1  --0kuuLmuYBe3Rmu0Iycww  PYe_FDw6QTbTf66WcGE_tw  ...      274006     457736\n",
              "2  --2HUmLkcNHZp0xw6AMBPg  KW9RNyBPmc77f9FsO92qYw  ...        3497     300815\n",
              "3  --2vR0DIsmQ6WfcSzKWigw  BLIJ-p5wYuAhw6Pp6mh6mw  ...      155483     353085\n",
              "4  --3WaS23LcIXtxyFULJHTA  UKrfUw8quQiQM2N9i1nH0g  ...        7615     312087\n",
              "\n",
              "[5 rows x 5 columns]"
            ]
          },
          "metadata": {
            "tags": []
          },
          "execution_count": 13
        }
      ]
    },
    {
      "cell_type": "code",
      "metadata": {
        "id": "4vr1P_jXpjP7",
        "colab_type": "code",
        "outputId": "2af3eec6-420c-4962-ec67-ed1bd7591355",
        "colab": {
          "base_uri": "https://localhost:8080/",
          "height": 127
        }
      },
      "source": [
        "# read the sample of ratings defined on step 1\n",
        "#lines = spark.read.text('./test_set_new.csv').rdd\n",
        "#parts = lines.map(lambda row: row.value.split(\",\"))\n",
        "#ratingsRDD = parts.map(lambda p: Row(userId=str(p[1]), busId=str(p[2]),\n",
        "#                                     rating=float(p[3])))\n",
        "ratings = spark.createDataFrame(train[['newuser_id','newbus_id','rating']].copy())\n",
        "\n",
        "#check rdd DataFrame\n",
        "print(\"Size of sampling dataset: {}\".format(ratings.count()))\n",
        "\n",
        "ratings.take(5)"
      ],
      "execution_count": 0,
      "outputs": [
        {
          "output_type": "stream",
          "text": [
            "Size of sampling dataset: 4252142\n"
          ],
          "name": "stdout"
        },
        {
          "output_type": "execute_result",
          "data": {
            "text/plain": [
              "[Row(newuser_id=1, newbus_id=445042, rating=1.0),\n",
              " Row(newuser_id=2, newbus_id=336030, rating=5.0),\n",
              " Row(newuser_id=3, newbus_id=383772, rating=3.0),\n",
              " Row(newuser_id=4, newbus_id=457046, rating=1.0),\n",
              " Row(newuser_id=5, newbus_id=411676, rating=2.0)]"
            ]
          },
          "metadata": {
            "tags": []
          },
          "execution_count": 14
        }
      ]
    },
    {
      "cell_type": "code",
      "metadata": {
        "id": "saO6EvT3pjQO",
        "colab_type": "code",
        "outputId": "a7fb040c-27dc-426e-d083-650a95559560",
        "colab": {
          "base_uri": "https://localhost:8080/",
          "height": 109
        }
      },
      "source": [
        "#(training, test) = ratings.randomSplit([0.8, 0.2])\n",
        "\n",
        "#training.take(5)\n",
        "ratings_test = spark.createDataFrame(test[['newuser_id','newbus_id','rating']].copy())\n",
        "ratings_test.take(5)"
      ],
      "execution_count": 0,
      "outputs": [
        {
          "output_type": "execute_result",
          "data": {
            "text/plain": [
              "[Row(newuser_id=10718, newbus_id=464362, rating=5.0),\n",
              " Row(newuser_id=274006, newbus_id=457736, rating=2.0),\n",
              " Row(newuser_id=3497, newbus_id=300815, rating=5.0),\n",
              " Row(newuser_id=155483, newbus_id=353085, rating=3.0),\n",
              " Row(newuser_id=7615, newbus_id=312087, rating=4.0)]"
            ]
          },
          "metadata": {
            "tags": []
          },
          "execution_count": 15
        }
      ]
    },
    {
      "cell_type": "code",
      "metadata": {
        "id": "Ft4Tp68jE3K3",
        "colab_type": "code",
        "outputId": "7935f1e6-63e6-4d72-b5f2-0def9a6c39e4",
        "colab": {
          "base_uri": "https://localhost:8080/",
          "height": 35
        }
      },
      "source": [
        "ratings_test.count()"
      ],
      "execution_count": 0,
      "outputs": [
        {
          "output_type": "execute_result",
          "data": {
            "text/plain": [
              "286130"
            ]
          },
          "metadata": {
            "tags": []
          },
          "execution_count": 16
        }
      ]
    },
    {
      "cell_type": "markdown",
      "metadata": {
        "id": "4xJSvOn3pjQZ",
        "colab_type": "text"
      },
      "source": [
        "### Use ALS method to train "
      ]
    },
    {
      "cell_type": "code",
      "metadata": {
        "id": "J0lkD6erpjQd",
        "colab_type": "code",
        "colab": {}
      },
      "source": [
        "# Build the recommendation model using ALS on the training data\n",
        "#default parameters\n",
        "als = ALS(maxIter=10, rank=20, regParam=0.5, userCol=\"newuser_id\", itemCol=\"newbus_id\", ratingCol=\"rating\",\\\n",
        "         coldStartStrategy=\"drop\")"
      ],
      "execution_count": 0,
      "outputs": []
    },
    {
      "cell_type": "code",
      "metadata": {
        "id": "gfHqz56hpjQp",
        "colab_type": "code",
        "colab": {}
      },
      "source": [
        "model = als.fit(ratings)"
      ],
      "execution_count": 0,
      "outputs": []
    },
    {
      "cell_type": "markdown",
      "metadata": {
        "id": "8HRJt-0ypjQy",
        "colab_type": "text"
      },
      "source": [
        "### Evaluation: RMSE of the model"
      ]
    },
    {
      "cell_type": "code",
      "metadata": {
        "id": "-gL2DDKJpjQ1",
        "colab_type": "code",
        "colab": {}
      },
      "source": [
        "# Evaluate the model on testdata\n",
        "# Evaluate the model by computing the RMSE on the test data\n",
        "predictions = model.transform(ratings_test)"
      ],
      "execution_count": 0,
      "outputs": []
    },
    {
      "cell_type": "code",
      "metadata": {
        "id": "JZySiQuxpjQ9",
        "colab_type": "code",
        "colab": {}
      },
      "source": [
        "evaluator = RegressionEvaluator(metricName=\"rmse\", labelCol=\"rating\",\n",
        "                                predictionCol=\"prediction\")"
      ],
      "execution_count": 0,
      "outputs": []
    },
    {
      "cell_type": "code",
      "metadata": {
        "id": "5RGjGiv5pjRH",
        "colab_type": "code",
        "outputId": "39a86aed-d472-479d-a9ba-169ec38698af",
        "colab": {
          "base_uri": "https://localhost:8080/",
          "height": 35
        }
      },
      "source": [
        "rmse = evaluator.evaluate(predictions)\n",
        "print('The RMSE of the model is: {}'.format(evaluator.evaluate(predictions)))"
      ],
      "execution_count": 0,
      "outputs": [
        {
          "output_type": "stream",
          "text": [
            "The RMSE of the model is: 1.455270499712746\n"
          ],
          "name": "stdout"
        }
      ]
    },
    {
      "cell_type": "code",
      "metadata": {
        "id": "nJfc9yjqpjRQ",
        "colab_type": "code",
        "outputId": "9369f020-a6bb-440e-b2a6-5f52ebbec91d",
        "colab": {
          "base_uri": "https://localhost:8080/",
          "height": 206
        }
      },
      "source": [
        "#predictions.take(5)\n",
        "predictions.toPandas().head()"
      ],
      "execution_count": 0,
      "outputs": [
        {
          "output_type": "execute_result",
          "data": {
            "text/html": [
              "<div>\n",
              "<style scoped>\n",
              "    .dataframe tbody tr th:only-of-type {\n",
              "        vertical-align: middle;\n",
              "    }\n",
              "\n",
              "    .dataframe tbody tr th {\n",
              "        vertical-align: top;\n",
              "    }\n",
              "\n",
              "    .dataframe thead th {\n",
              "        text-align: right;\n",
              "    }\n",
              "</style>\n",
              "<table border=\"1\" class=\"dataframe\">\n",
              "  <thead>\n",
              "    <tr style=\"text-align: right;\">\n",
              "      <th></th>\n",
              "      <th>newuser_id</th>\n",
              "      <th>newbus_id</th>\n",
              "      <th>rating</th>\n",
              "      <th>prediction</th>\n",
              "    </tr>\n",
              "  </thead>\n",
              "  <tbody>\n",
              "    <tr>\n",
              "      <th>0</th>\n",
              "      <td>125803</td>\n",
              "      <td>300474</td>\n",
              "      <td>1.00</td>\n",
              "      <td>2.23</td>\n",
              "    </tr>\n",
              "    <tr>\n",
              "      <th>1</th>\n",
              "      <td>198656</td>\n",
              "      <td>300539</td>\n",
              "      <td>1.00</td>\n",
              "      <td>2.24</td>\n",
              "    </tr>\n",
              "    <tr>\n",
              "      <th>2</th>\n",
              "      <td>262443</td>\n",
              "      <td>300574</td>\n",
              "      <td>5.00</td>\n",
              "      <td>3.07</td>\n",
              "    </tr>\n",
              "    <tr>\n",
              "      <th>3</th>\n",
              "      <td>201946</td>\n",
              "      <td>300601</td>\n",
              "      <td>5.00</td>\n",
              "      <td>3.46</td>\n",
              "    </tr>\n",
              "    <tr>\n",
              "      <th>4</th>\n",
              "      <td>194911</td>\n",
              "      <td>300601</td>\n",
              "      <td>5.00</td>\n",
              "      <td>3.81</td>\n",
              "    </tr>\n",
              "  </tbody>\n",
              "</table>\n",
              "</div>"
            ],
            "text/plain": [
              "   newuser_id  newbus_id  rating  prediction\n",
              "0      125803     300474    1.00        2.23\n",
              "1      198656     300539    1.00        2.24\n",
              "2      262443     300574    5.00        3.07\n",
              "3      201946     300601    5.00        3.46\n",
              "4      194911     300601    5.00        3.81"
            ]
          },
          "metadata": {
            "tags": []
          },
          "execution_count": 22
        }
      ]
    },
    {
      "cell_type": "code",
      "metadata": {
        "id": "oJtKJkTaFsf2",
        "colab_type": "code",
        "outputId": "d0fa61e6-f5bf-407a-e380-bd8e1f0ed187",
        "colab": {
          "base_uri": "https://localhost:8080/",
          "height": 35
        }
      },
      "source": [
        "predictions.count()"
      ],
      "execution_count": 0,
      "outputs": [
        {
          "output_type": "execute_result",
          "data": {
            "text/plain": [
              "283217"
            ]
          },
          "metadata": {
            "tags": []
          },
          "execution_count": 23
        }
      ]
    },
    {
      "cell_type": "markdown",
      "metadata": {
        "id": "i7Onh5RtpjRZ",
        "colab_type": "text"
      },
      "source": [
        "# Cross validation set up"
      ]
    },
    {
      "cell_type": "markdown",
      "metadata": {
        "id": "oRSiBY-QpjRf",
        "colab_type": "text"
      },
      "source": [
        "### Create a parameter grid map"
      ]
    },
    {
      "cell_type": "code",
      "metadata": {
        "id": "vtQuWRcxpjRi",
        "colab_type": "code",
        "colab": {}
      },
      "source": [
        "from pyspark.ml.tuning import ParamGridBuilder\n",
        "\n",
        "#Create a paramgridbuilder spark instance\n",
        "param_grid = ParamGridBuilder()\\\n",
        "            .addGrid(als.rank, [1, 5, 10, 20])\\\n",
        "            .addGrid(als.regParam, [.01,.05, .5, 1, 5])\\\n",
        "            .build()"
      ],
      "execution_count": 0,
      "outputs": []
    },
    {
      "cell_type": "markdown",
      "metadata": {
        "id": "sI4R48BTpjRw",
        "colab_type": "text"
      },
      "source": [
        "We'll try a different set of combinations of rank and the regularization parameter for the default number of maximum iterations (10):\n",
        "rank: [1,5,10,20]\n",
        "Regularization parameter: [0.01, 0.05, 0.1, 0.5]"
      ]
    },
    {
      "cell_type": "markdown",
      "metadata": {
        "id": "fv2DwowrpjR0",
        "colab_type": "text"
      },
      "source": [
        "### Create a Cross validator spark instance"
      ]
    },
    {
      "cell_type": "code",
      "metadata": {
        "id": "GDUCvbL-pjR3",
        "colab_type": "code",
        "colab": {}
      },
      "source": [
        "from pyspark.ml.tuning import CrossValidator\n",
        "\n",
        "#Create cross validator for als algorithm evaluating with RMSE and the same evaluator\n",
        "cv = CrossValidator(estimator = als,\n",
        "                    estimatorParamMaps = param_grid,\n",
        "                    evaluator = evaluator,\n",
        "                    numFolds = 5,\n",
        "                   collectSubModels=True)"
      ],
      "execution_count": 0,
      "outputs": []
    },
    {
      "cell_type": "markdown",
      "metadata": {
        "id": "WGUefhVdpjR-",
        "colab_type": "text"
      },
      "source": [
        "### Run cross validation for training data"
      ]
    },
    {
      "cell_type": "code",
      "metadata": {
        "id": "HLkM89F0pjSA",
        "colab_type": "code",
        "colab": {}
      },
      "source": [
        "model_cv = cv.fit(ratings)  \n",
        "\n",
        "# the fitting takes forever"
      ],
      "execution_count": 0,
      "outputs": []
    },
    {
      "cell_type": "code",
      "metadata": {
        "id": "AayQ_LPKpjSK",
        "colab_type": "code",
        "colab": {}
      },
      "source": [
        "#Get best model test predictions and RMSE\n",
        "best_model = model_cv.bestModel\n",
        "best_predictions = best_model.transform(ratings_test)\n",
        "best_rmse = evaluator.evaluate(best_predictions)"
      ],
      "execution_count": 0,
      "outputs": []
    },
    {
      "cell_type": "code",
      "metadata": {
        "id": "lnCdD592pjSS",
        "colab_type": "code",
        "outputId": "cfa65c92-91e2-4928-ff3a-3dd9d7adf757",
        "colab": {
          "base_uri": "https://localhost:8080/",
          "height": 72
        }
      },
      "source": [
        "# Print evaluation metrics and model parameters\n",
        "print(\"Best model RMSE is {}\".format(best_rmse))\n",
        "#get parameters\n",
        "print(\"Best model latent factors: {}\".format(best_model.rank))\n",
        "print(\"Best model regularization paramater: {}\".format(best_model._java_obj.parent().getRegParam()))"
      ],
      "execution_count": 0,
      "outputs": [
        {
          "output_type": "stream",
          "text": [
            "Best model RMSE is 1.4471118133046168\n",
            "Best model latent factors: 5\n",
            "Best model regularization paramater: 0.5\n"
          ],
          "name": "stdout"
        }
      ]
    },
    {
      "cell_type": "markdown",
      "metadata": {
        "id": "qHJdx5c6pjSa",
        "colab_type": "text"
      },
      "source": [
        "As we can see from the results of the Cross validation, the model with the best RMSE is the one with a rank of 20 factors and a regularization parameter of 0.05. This RMSE is also better than the model with default parameters of rank value of 10 and a regularization parameter of 1."
      ]
    },
    {
      "cell_type": "markdown",
      "metadata": {
        "id": "Bt7gDarjpjSd",
        "colab_type": "text"
      },
      "source": [
        "### Get hyper parameters evaluation performance"
      ]
    },
    {
      "cell_type": "code",
      "metadata": {
        "id": "vOm7pniZpjSf",
        "colab_type": "code",
        "outputId": "ea574c65-7246-4d0a-f531-ac69ade06cb5",
        "colab": {
          "base_uri": "https://localhost:8080/",
          "height": 677
        }
      },
      "source": [
        "lparlist = [(i.rank,i._java_obj.parent().getRegParam()) for i in model_cv.subModels[0]]\n",
        "\n",
        "rmse_list = model_cv.avgMetrics\n",
        "\n",
        "cross_results = []\n",
        "\n",
        "for i in range(0,len(rmse_list)):\n",
        "    cross_results.append((int(lparlist[i][0]) ,float(lparlist[i][1]), float(rmse_list[i])))\n",
        "\n",
        "cross_df = pd.DataFrame(cross_results, columns=['rank','L2regularization','RMSE'])\n",
        "cross_df"
      ],
      "execution_count": 0,
      "outputs": [
        {
          "output_type": "execute_result",
          "data": {
            "text/html": [
              "<div>\n",
              "<style scoped>\n",
              "    .dataframe tbody tr th:only-of-type {\n",
              "        vertical-align: middle;\n",
              "    }\n",
              "\n",
              "    .dataframe tbody tr th {\n",
              "        vertical-align: top;\n",
              "    }\n",
              "\n",
              "    .dataframe thead th {\n",
              "        text-align: right;\n",
              "    }\n",
              "</style>\n",
              "<table border=\"1\" class=\"dataframe\">\n",
              "  <thead>\n",
              "    <tr style=\"text-align: right;\">\n",
              "      <th></th>\n",
              "      <th>rank</th>\n",
              "      <th>L2regularization</th>\n",
              "      <th>RMSE</th>\n",
              "    </tr>\n",
              "  </thead>\n",
              "  <tbody>\n",
              "    <tr>\n",
              "      <th>0</th>\n",
              "      <td>1</td>\n",
              "      <td>0.01</td>\n",
              "      <td>5.04</td>\n",
              "    </tr>\n",
              "    <tr>\n",
              "      <th>1</th>\n",
              "      <td>1</td>\n",
              "      <td>0.05</td>\n",
              "      <td>1.99</td>\n",
              "    </tr>\n",
              "    <tr>\n",
              "      <th>2</th>\n",
              "      <td>1</td>\n",
              "      <td>0.50</td>\n",
              "      <td>1.56</td>\n",
              "    </tr>\n",
              "    <tr>\n",
              "      <th>3</th>\n",
              "      <td>1</td>\n",
              "      <td>1.00</td>\n",
              "      <td>1.76</td>\n",
              "    </tr>\n",
              "    <tr>\n",
              "      <th>4</th>\n",
              "      <td>1</td>\n",
              "      <td>5.00</td>\n",
              "      <td>3.98</td>\n",
              "    </tr>\n",
              "    <tr>\n",
              "      <th>5</th>\n",
              "      <td>5</td>\n",
              "      <td>0.01</td>\n",
              "      <td>2.07</td>\n",
              "    </tr>\n",
              "    <tr>\n",
              "      <th>6</th>\n",
              "      <td>5</td>\n",
              "      <td>0.05</td>\n",
              "      <td>1.57</td>\n",
              "    </tr>\n",
              "    <tr>\n",
              "      <th>7</th>\n",
              "      <td>5</td>\n",
              "      <td>0.50</td>\n",
              "      <td>1.33</td>\n",
              "    </tr>\n",
              "    <tr>\n",
              "      <th>8</th>\n",
              "      <td>5</td>\n",
              "      <td>1.00</td>\n",
              "      <td>1.57</td>\n",
              "    </tr>\n",
              "    <tr>\n",
              "      <th>9</th>\n",
              "      <td>5</td>\n",
              "      <td>5.00</td>\n",
              "      <td>3.98</td>\n",
              "    </tr>\n",
              "    <tr>\n",
              "      <th>10</th>\n",
              "      <td>10</td>\n",
              "      <td>0.01</td>\n",
              "      <td>2.07</td>\n",
              "    </tr>\n",
              "    <tr>\n",
              "      <th>11</th>\n",
              "      <td>10</td>\n",
              "      <td>0.05</td>\n",
              "      <td>1.57</td>\n",
              "    </tr>\n",
              "    <tr>\n",
              "      <th>12</th>\n",
              "      <td>10</td>\n",
              "      <td>0.50</td>\n",
              "      <td>1.33</td>\n",
              "    </tr>\n",
              "    <tr>\n",
              "      <th>13</th>\n",
              "      <td>10</td>\n",
              "      <td>1.00</td>\n",
              "      <td>1.57</td>\n",
              "    </tr>\n",
              "    <tr>\n",
              "      <th>14</th>\n",
              "      <td>10</td>\n",
              "      <td>5.00</td>\n",
              "      <td>3.98</td>\n",
              "    </tr>\n",
              "    <tr>\n",
              "      <th>15</th>\n",
              "      <td>20</td>\n",
              "      <td>0.01</td>\n",
              "      <td>1.96</td>\n",
              "    </tr>\n",
              "    <tr>\n",
              "      <th>16</th>\n",
              "      <td>20</td>\n",
              "      <td>0.05</td>\n",
              "      <td>1.52</td>\n",
              "    </tr>\n",
              "    <tr>\n",
              "      <th>17</th>\n",
              "      <td>20</td>\n",
              "      <td>0.50</td>\n",
              "      <td>1.33</td>\n",
              "    </tr>\n",
              "    <tr>\n",
              "      <th>18</th>\n",
              "      <td>20</td>\n",
              "      <td>1.00</td>\n",
              "      <td>1.57</td>\n",
              "    </tr>\n",
              "    <tr>\n",
              "      <th>19</th>\n",
              "      <td>20</td>\n",
              "      <td>5.00</td>\n",
              "      <td>3.98</td>\n",
              "    </tr>\n",
              "  </tbody>\n",
              "</table>\n",
              "</div>"
            ],
            "text/plain": [
              "    rank  L2regularization  RMSE\n",
              "0      1              0.01  5.04\n",
              "1      1              0.05  1.99\n",
              "2      1              0.50  1.56\n",
              "3      1              1.00  1.76\n",
              "4      1              5.00  3.98\n",
              "5      5              0.01  2.07\n",
              "6      5              0.05  1.57\n",
              "7      5              0.50  1.33\n",
              "8      5              1.00  1.57\n",
              "9      5              5.00  3.98\n",
              "10    10              0.01  2.07\n",
              "11    10              0.05  1.57\n",
              "12    10              0.50  1.33\n",
              "13    10              1.00  1.57\n",
              "14    10              5.00  3.98\n",
              "15    20              0.01  1.96\n",
              "16    20              0.05  1.52\n",
              "17    20              0.50  1.33\n",
              "18    20              1.00  1.57\n",
              "19    20              5.00  3.98"
            ]
          },
          "metadata": {
            "tags": []
          },
          "execution_count": 47
        }
      ]
    },
    {
      "cell_type": "code",
      "metadata": {
        "id": "-QT47k6KpjSn",
        "colab_type": "code",
        "outputId": "b89d7240-174c-438e-9438-1f5b15777cbd",
        "colab": {
          "base_uri": "https://localhost:8080/",
          "height": 406
        }
      },
      "source": [
        "#plot hyper parameters models \n",
        "df1 = cross_df[cross_df['rank']==1]\n",
        "df5 = cross_df[cross_df['rank']==5]\n",
        "df10 = cross_df[cross_df['rank']==10]\n",
        "df20 = cross_df[cross_df['rank']==20]\n",
        "\n",
        "import matplotlib.pyplot as plt\n",
        "_ = plt.figure(figsize=(11,6))\n",
        "plt.plot('L2regularization','RMSE' , data=df1, marker='o', label='rank = 1')\n",
        "plt.plot('L2regularization','RMSE' , data=df5, marker='*', label='rank = 5')\n",
        "plt.plot('L2regularization','RMSE' , data=df10, marker='x', label='rank = 10')\n",
        "plt.plot('L2regularization','RMSE' , data=df20, marker='+', label='rank = 20')\n",
        "plt.ylabel(\"RMSE\")\n",
        "plt.xlabel('L2 regularization paramater')\n",
        "plt.legend()\n"
      ],
      "execution_count": 0,
      "outputs": [
        {
          "output_type": "execute_result",
          "data": {
            "text/plain": [
              "<matplotlib.legend.Legend at 0x7fe499b34860>"
            ]
          },
          "metadata": {
            "tags": []
          },
          "execution_count": 48
        },
        {
          "output_type": "display_data",
          "data": {
            "image/png": "[encoded data removed]",
            "text/plain": [
              "<Figure size 792x432 with 1 Axes>"
            ]
          },
          "metadata": {
            "tags": []
          }
        }
      ]
    },
    {
      "cell_type": "markdown",
      "metadata": {
        "id": "nx-5yn5xpjSt",
        "colab_type": "text"
      },
      "source": [
        "## Get predictions for best model"
      ]
    },
    {
      "cell_type": "code",
      "metadata": {
        "id": "2YYiHWnnFXFq",
        "colab_type": "code",
        "outputId": "1660cb37-ba0d-48d9-ee4e-806919971fec",
        "colab": {
          "base_uri": "https://localhost:8080/",
          "height": 35
        }
      },
      "source": [
        "best_predictions.count()"
      ],
      "execution_count": 0,
      "outputs": [
        {
          "output_type": "execute_result",
          "data": {
            "text/plain": [
              "283217"
            ]
          },
          "metadata": {
            "tags": []
          },
          "execution_count": 50
        }
      ]
    },
    {
      "cell_type": "code",
      "metadata": {
        "id": "LYuWISlvpjSy",
        "colab_type": "code",
        "outputId": "7b664d61-37c4-4509-a2b0-c9e799624332",
        "colab": {
          "base_uri": "https://localhost:8080/",
          "height": 206
        }
      },
      "source": [
        "bp = best_predictions.toPandas()\n",
        "bp.head()"
      ],
      "execution_count": 0,
      "outputs": [
        {
          "output_type": "execute_result",
          "data": {
            "text/html": [
              "<div>\n",
              "<style scoped>\n",
              "    .dataframe tbody tr th:only-of-type {\n",
              "        vertical-align: middle;\n",
              "    }\n",
              "\n",
              "    .dataframe tbody tr th {\n",
              "        vertical-align: top;\n",
              "    }\n",
              "\n",
              "    .dataframe thead th {\n",
              "        text-align: right;\n",
              "    }\n",
              "</style>\n",
              "<table border=\"1\" class=\"dataframe\">\n",
              "  <thead>\n",
              "    <tr style=\"text-align: right;\">\n",
              "      <th></th>\n",
              "      <th>newuser_id</th>\n",
              "      <th>newbus_id</th>\n",
              "      <th>rating</th>\n",
              "      <th>prediction</th>\n",
              "    </tr>\n",
              "  </thead>\n",
              "  <tbody>\n",
              "    <tr>\n",
              "      <th>0</th>\n",
              "      <td>125803</td>\n",
              "      <td>300474</td>\n",
              "      <td>1.00</td>\n",
              "      <td>2.18</td>\n",
              "    </tr>\n",
              "    <tr>\n",
              "      <th>1</th>\n",
              "      <td>198656</td>\n",
              "      <td>300539</td>\n",
              "      <td>1.00</td>\n",
              "      <td>2.21</td>\n",
              "    </tr>\n",
              "    <tr>\n",
              "      <th>2</th>\n",
              "      <td>262443</td>\n",
              "      <td>300574</td>\n",
              "      <td>5.00</td>\n",
              "      <td>3.15</td>\n",
              "    </tr>\n",
              "    <tr>\n",
              "      <th>3</th>\n",
              "      <td>201946</td>\n",
              "      <td>300601</td>\n",
              "      <td>5.00</td>\n",
              "      <td>3.41</td>\n",
              "    </tr>\n",
              "    <tr>\n",
              "      <th>4</th>\n",
              "      <td>194911</td>\n",
              "      <td>300601</td>\n",
              "      <td>5.00</td>\n",
              "      <td>4.55</td>\n",
              "    </tr>\n",
              "  </tbody>\n",
              "</table>\n",
              "</div>"
            ],
            "text/plain": [
              "   newuser_id  newbus_id  rating  prediction\n",
              "0      125803     300474    1.00        2.18\n",
              "1      198656     300539    1.00        2.21\n",
              "2      262443     300574    5.00        3.15\n",
              "3      201946     300601    5.00        3.41\n",
              "4      194911     300601    5.00        4.55"
            ]
          },
          "metadata": {
            "tags": []
          },
          "execution_count": 49
        }
      ]
    },
    {
      "cell_type": "code",
      "metadata": {
        "id": "v3k2hmYmK3j7",
        "colab_type": "code",
        "outputId": "66308713-28a8-4f41-f016-34b98c09148f",
        "colab": {
          "base_uri": "https://localhost:8080/",
          "height": 206
        }
      },
      "source": [
        "ratings_test.toPandas().head()"
      ],
      "execution_count": 0,
      "outputs": [
        {
          "output_type": "execute_result",
          "data": {
            "text/html": [
              "<div>\n",
              "<style scoped>\n",
              "    .dataframe tbody tr th:only-of-type {\n",
              "        vertical-align: middle;\n",
              "    }\n",
              "\n",
              "    .dataframe tbody tr th {\n",
              "        vertical-align: top;\n",
              "    }\n",
              "\n",
              "    .dataframe thead th {\n",
              "        text-align: right;\n",
              "    }\n",
              "</style>\n",
              "<table border=\"1\" class=\"dataframe\">\n",
              "  <thead>\n",
              "    <tr style=\"text-align: right;\">\n",
              "      <th></th>\n",
              "      <th>newuser_id</th>\n",
              "      <th>newbus_id</th>\n",
              "      <th>rating</th>\n",
              "    </tr>\n",
              "  </thead>\n",
              "  <tbody>\n",
              "    <tr>\n",
              "      <th>0</th>\n",
              "      <td>10718</td>\n",
              "      <td>464362</td>\n",
              "      <td>5.00</td>\n",
              "    </tr>\n",
              "    <tr>\n",
              "      <th>1</th>\n",
              "      <td>274006</td>\n",
              "      <td>457736</td>\n",
              "      <td>2.00</td>\n",
              "    </tr>\n",
              "    <tr>\n",
              "      <th>2</th>\n",
              "      <td>3497</td>\n",
              "      <td>300815</td>\n",
              "      <td>5.00</td>\n",
              "    </tr>\n",
              "    <tr>\n",
              "      <th>3</th>\n",
              "      <td>155483</td>\n",
              "      <td>353085</td>\n",
              "      <td>3.00</td>\n",
              "    </tr>\n",
              "    <tr>\n",
              "      <th>4</th>\n",
              "      <td>7615</td>\n",
              "      <td>312087</td>\n",
              "      <td>4.00</td>\n",
              "    </tr>\n",
              "  </tbody>\n",
              "</table>\n",
              "</div>"
            ],
            "text/plain": [
              "   newuser_id  newbus_id  rating\n",
              "0       10718     464362    5.00\n",
              "1      274006     457736    2.00\n",
              "2        3497     300815    5.00\n",
              "3      155483     353085    3.00\n",
              "4        7615     312087    4.00"
            ]
          },
          "metadata": {
            "tags": []
          },
          "execution_count": 51
        }
      ]
    },
    {
      "cell_type": "code",
      "metadata": {
        "id": "bENR4h7DLRJS",
        "colab_type": "code",
        "outputId": "f13033fb-c631-466f-a762-b16cb9d41d62",
        "colab": {
          "base_uri": "https://localhost:8080/",
          "height": 237
        }
      },
      "source": [
        "bp.newuser_id.value_counts()"
      ],
      "execution_count": 0,
      "outputs": [
        {
          "output_type": "execute_result",
          "data": {
            "text/plain": [
              "2047      1\n",
              "121454    1\n",
              "125544    1\n",
              "123497    1\n",
              "129642    1\n",
              "         ..\n",
              "38328     1\n",
              "60855     1\n",
              "58806     1\n",
              "64949     1\n",
              "2049      1\n",
              "Name: newuser_id, Length: 283217, dtype: int64"
            ]
          },
          "metadata": {
            "tags": []
          },
          "execution_count": 52
        }
      ]
    },
    {
      "cell_type": "code",
      "metadata": {
        "id": "hby_d6CcLv-h",
        "colab_type": "code",
        "outputId": "471fc3fa-1474-4bf5-edc7-f8220f6abfbd",
        "colab": {
          "base_uri": "https://localhost:8080/",
          "height": 300
        }
      },
      "source": [
        "testcsv.describe()"
      ],
      "execution_count": 0,
      "outputs": [
        {
          "output_type": "execute_result",
          "data": {
            "text/html": [
              "<div>\n",
              "<style scoped>\n",
              "    .dataframe tbody tr th:only-of-type {\n",
              "        vertical-align: middle;\n",
              "    }\n",
              "\n",
              "    .dataframe tbody tr th {\n",
              "        vertical-align: top;\n",
              "    }\n",
              "\n",
              "    .dataframe thead th {\n",
              "        text-align: right;\n",
              "    }\n",
              "</style>\n",
              "<table border=\"1\" class=\"dataframe\">\n",
              "  <thead>\n",
              "    <tr style=\"text-align: right;\">\n",
              "      <th></th>\n",
              "      <th>rating</th>\n",
              "    </tr>\n",
              "  </thead>\n",
              "  <tbody>\n",
              "    <tr>\n",
              "      <th>count</th>\n",
              "      <td>286130.00</td>\n",
              "    </tr>\n",
              "    <tr>\n",
              "      <th>mean</th>\n",
              "      <td>3.77</td>\n",
              "    </tr>\n",
              "    <tr>\n",
              "      <th>std</th>\n",
              "      <td>1.52</td>\n",
              "    </tr>\n",
              "    <tr>\n",
              "      <th>min</th>\n",
              "      <td>1.00</td>\n",
              "    </tr>\n",
              "    <tr>\n",
              "      <th>25%</th>\n",
              "      <td>3.00</td>\n",
              "    </tr>\n",
              "    <tr>\n",
              "      <th>50%</th>\n",
              "      <td>5.00</td>\n",
              "    </tr>\n",
              "    <tr>\n",
              "      <th>75%</th>\n",
              "      <td>5.00</td>\n",
              "    </tr>\n",
              "    <tr>\n",
              "      <th>max</th>\n",
              "      <td>5.00</td>\n",
              "    </tr>\n",
              "  </tbody>\n",
              "</table>\n",
              "</div>"
            ],
            "text/plain": [
              "         rating\n",
              "count 286130.00\n",
              "mean       3.77\n",
              "std        1.52\n",
              "min        1.00\n",
              "25%        3.00\n",
              "50%        5.00\n",
              "75%        5.00\n",
              "max        5.00"
            ]
          },
          "metadata": {
            "tags": []
          },
          "execution_count": 53
        }
      ]
    },
    {
      "cell_type": "markdown",
      "metadata": {
        "id": "aNqkE5FC86Oh",
        "colab_type": "text"
      },
      "source": [
        "### Save predictions of best model to file"
      ]
    },
    {
      "cell_type": "code",
      "metadata": {
        "id": "R527EH-M89k6",
        "colab_type": "code",
        "colab": {}
      },
      "source": [
        "#map back ids\n",
        "inverted_users = dict([[v,k] for k,v in users.items()])\n",
        "inverted_bus = dict([[v,k] for k,v in bus.items()])\n",
        "\n",
        "bp['user_id'] = bp.newuser_id.map(inverted_users)\n",
        "bp['business_id'] = bp.newbus_id.map(inverted_bus)"
      ],
      "execution_count": 0,
      "outputs": []
    },
    {
      "cell_type": "code",
      "metadata": {
        "id": "_ywAqvdU-bTm",
        "colab_type": "code",
        "outputId": "527b775c-267c-4aac-c74b-976654c8ef5c",
        "colab": {
          "base_uri": "https://localhost:8080/",
          "height": 206
        }
      },
      "source": [
        "bp.head()"
      ],
      "execution_count": 0,
      "outputs": [
        {
          "output_type": "execute_result",
          "data": {
            "text/html": [
              "<div>\n",
              "<style scoped>\n",
              "    .dataframe tbody tr th:only-of-type {\n",
              "        vertical-align: middle;\n",
              "    }\n",
              "\n",
              "    .dataframe tbody tr th {\n",
              "        vertical-align: top;\n",
              "    }\n",
              "\n",
              "    .dataframe thead th {\n",
              "        text-align: right;\n",
              "    }\n",
              "</style>\n",
              "<table border=\"1\" class=\"dataframe\">\n",
              "  <thead>\n",
              "    <tr style=\"text-align: right;\">\n",
              "      <th></th>\n",
              "      <th>newuser_id</th>\n",
              "      <th>newbus_id</th>\n",
              "      <th>rating</th>\n",
              "      <th>prediction</th>\n",
              "      <th>user_id</th>\n",
              "      <th>business_id</th>\n",
              "    </tr>\n",
              "  </thead>\n",
              "  <tbody>\n",
              "    <tr>\n",
              "      <th>0</th>\n",
              "      <td>125803</td>\n",
              "      <td>300474</td>\n",
              "      <td>1.00</td>\n",
              "      <td>2.18</td>\n",
              "      <td>tp_N-Oliz3aPYkMzXzKh4A</td>\n",
              "      <td>V8RhIBBwWLW7hYW24Aehig</td>\n",
              "    </tr>\n",
              "    <tr>\n",
              "      <th>1</th>\n",
              "      <td>198656</td>\n",
              "      <td>300539</td>\n",
              "      <td>1.00</td>\n",
              "      <td>2.21</td>\n",
              "      <td>pzXQ146CxQCHRxjQcXktIA</td>\n",
              "      <td>F615s6_0g5vAGVFdh7hwGQ</td>\n",
              "    </tr>\n",
              "    <tr>\n",
              "      <th>2</th>\n",
              "      <td>262443</td>\n",
              "      <td>300574</td>\n",
              "      <td>5.00</td>\n",
              "      <td>3.15</td>\n",
              "      <td>Wp2LPKHC0agCMe-f3mmzpg</td>\n",
              "      <td>lY5KRmX58HYs2mGaRBDd2A</td>\n",
              "    </tr>\n",
              "    <tr>\n",
              "      <th>3</th>\n",
              "      <td>201946</td>\n",
              "      <td>300601</td>\n",
              "      <td>5.00</td>\n",
              "      <td>3.41</td>\n",
              "      <td>NPxRScPZATPjLP8lpSETwQ</td>\n",
              "      <td>6qKjl6xJQzLb9ka-QbTudA</td>\n",
              "    </tr>\n",
              "    <tr>\n",
              "      <th>4</th>\n",
              "      <td>194911</td>\n",
              "      <td>300601</td>\n",
              "      <td>5.00</td>\n",
              "      <td>4.55</td>\n",
              "      <td>cd8F1NM8Tn-jTVVa2wZKKA</td>\n",
              "      <td>6qKjl6xJQzLb9ka-QbTudA</td>\n",
              "    </tr>\n",
              "  </tbody>\n",
              "</table>\n",
              "</div>"
            ],
            "text/plain": [
              "   newuser_id  newbus_id  ...                 user_id             business_id\n",
              "0      125803     300474  ...  tp_N-Oliz3aPYkMzXzKh4A  V8RhIBBwWLW7hYW24Aehig\n",
              "1      198656     300539  ...  pzXQ146CxQCHRxjQcXktIA  F615s6_0g5vAGVFdh7hwGQ\n",
              "2      262443     300574  ...  Wp2LPKHC0agCMe-f3mmzpg  lY5KRmX58HYs2mGaRBDd2A\n",
              "3      201946     300601  ...  NPxRScPZATPjLP8lpSETwQ  6qKjl6xJQzLb9ka-QbTudA\n",
              "4      194911     300601  ...  cd8F1NM8Tn-jTVVa2wZKKA  6qKjl6xJQzLb9ka-QbTudA\n",
              "\n",
              "[5 rows x 6 columns]"
            ]
          },
          "metadata": {
            "tags": []
          },
          "execution_count": 78
        }
      ]
    },
    {
      "cell_type": "code",
      "metadata": {
        "id": "ydKlY2jl_lmN",
        "colab_type": "code",
        "outputId": "2bf38ad8-c0e1-4032-c4cc-f30b9b13bcba",
        "colab": {
          "base_uri": "https://localhost:8080/",
          "height": 424
        }
      },
      "source": [
        "bp.sort_values('user_id')"
      ],
      "execution_count": 0,
      "outputs": [
        {
          "output_type": "execute_result",
          "data": {
            "text/html": [
              "<div>\n",
              "<style scoped>\n",
              "    .dataframe tbody tr th:only-of-type {\n",
              "        vertical-align: middle;\n",
              "    }\n",
              "\n",
              "    .dataframe tbody tr th {\n",
              "        vertical-align: top;\n",
              "    }\n",
              "\n",
              "    .dataframe thead th {\n",
              "        text-align: right;\n",
              "    }\n",
              "</style>\n",
              "<table border=\"1\" class=\"dataframe\">\n",
              "  <thead>\n",
              "    <tr style=\"text-align: right;\">\n",
              "      <th></th>\n",
              "      <th>newuser_id</th>\n",
              "      <th>newbus_id</th>\n",
              "      <th>rating</th>\n",
              "      <th>prediction</th>\n",
              "      <th>user_id</th>\n",
              "      <th>business_id</th>\n",
              "    </tr>\n",
              "  </thead>\n",
              "  <tbody>\n",
              "    <tr>\n",
              "      <th>11193</th>\n",
              "      <td>10718</td>\n",
              "      <td>464362</td>\n",
              "      <td>5.00</td>\n",
              "      <td>3.86</td>\n",
              "      <td>---1lKK3aKOuomHnwAkAow</td>\n",
              "      <td>Hqs4YNST_ZHbshwyi4bnsQ</td>\n",
              "    </tr>\n",
              "    <tr>\n",
              "      <th>38844</th>\n",
              "      <td>274006</td>\n",
              "      <td>457736</td>\n",
              "      <td>2.00</td>\n",
              "      <td>3.29</td>\n",
              "      <td>--0kuuLmuYBe3Rmu0Iycww</td>\n",
              "      <td>PYe_FDw6QTbTf66WcGE_tw</td>\n",
              "    </tr>\n",
              "    <tr>\n",
              "      <th>257015</th>\n",
              "      <td>3497</td>\n",
              "      <td>300815</td>\n",
              "      <td>5.00</td>\n",
              "      <td>3.20</td>\n",
              "      <td>--2HUmLkcNHZp0xw6AMBPg</td>\n",
              "      <td>KW9RNyBPmc77f9FsO92qYw</td>\n",
              "    </tr>\n",
              "    <tr>\n",
              "      <th>274719</th>\n",
              "      <td>155483</td>\n",
              "      <td>353085</td>\n",
              "      <td>3.00</td>\n",
              "      <td>3.34</td>\n",
              "      <td>--2vR0DIsmQ6WfcSzKWigw</td>\n",
              "      <td>BLIJ-p5wYuAhw6Pp6mh6mw</td>\n",
              "    </tr>\n",
              "    <tr>\n",
              "      <th>20004</th>\n",
              "      <td>7615</td>\n",
              "      <td>312087</td>\n",
              "      <td>4.00</td>\n",
              "      <td>3.99</td>\n",
              "      <td>--3WaS23LcIXtxyFULJHTA</td>\n",
              "      <td>UKrfUw8quQiQM2N9i1nH0g</td>\n",
              "    </tr>\n",
              "    <tr>\n",
              "      <th>...</th>\n",
              "      <td>...</td>\n",
              "      <td>...</td>\n",
              "      <td>...</td>\n",
              "      <td>...</td>\n",
              "      <td>...</td>\n",
              "      <td>...</td>\n",
              "    </tr>\n",
              "    <tr>\n",
              "      <th>199399</th>\n",
              "      <td>262244</td>\n",
              "      <td>407049</td>\n",
              "      <td>5.00</td>\n",
              "      <td>1.18</td>\n",
              "      <td>zzrZ8gFESj5pe-SFZ-h0lw</td>\n",
              "      <td>P2uNvUI1RCX8RGKFzj4ceA</td>\n",
              "    </tr>\n",
              "    <tr>\n",
              "      <th>35300</th>\n",
              "      <td>266133</td>\n",
              "      <td>368735</td>\n",
              "      <td>1.00</td>\n",
              "      <td>3.26</td>\n",
              "      <td>zzsmdXHUFBYuKUtPbXWjRA</td>\n",
              "      <td>P6zYuNINXKKm5AZ8P5exmQ</td>\n",
              "    </tr>\n",
              "    <tr>\n",
              "      <th>94152</th>\n",
              "      <td>149125</td>\n",
              "      <td>300942</td>\n",
              "      <td>5.00</td>\n",
              "      <td>3.42</td>\n",
              "      <td>zzvV3l9IqTRX7Db8nxThbA</td>\n",
              "      <td>LucXqItGj0JZD6EgySOakg</td>\n",
              "    </tr>\n",
              "    <tr>\n",
              "      <th>106853</th>\n",
              "      <td>132189</td>\n",
              "      <td>477903</td>\n",
              "      <td>5.00</td>\n",
              "      <td>3.35</td>\n",
              "      <td>zzw0Z6-_VDp9ShIRSKIsQw</td>\n",
              "      <td>1hfYBwAI7pFz50l5n4JpqQ</td>\n",
              "    </tr>\n",
              "    <tr>\n",
              "      <th>165879</th>\n",
              "      <td>272431</td>\n",
              "      <td>393275</td>\n",
              "      <td>1.00</td>\n",
              "      <td>1.39</td>\n",
              "      <td>zzxZoMmjbUjXcWZzrE3PIw</td>\n",
              "      <td>g6l78EOVGYzMmnTSGj8TcA</td>\n",
              "    </tr>\n",
              "  </tbody>\n",
              "</table>\n",
              "<p>283217 rows × 6 columns</p>\n",
              "</div>"
            ],
            "text/plain": [
              "        newuser_id  newbus_id  ...                 user_id             business_id\n",
              "11193        10718     464362  ...  ---1lKK3aKOuomHnwAkAow  Hqs4YNST_ZHbshwyi4bnsQ\n",
              "38844       274006     457736  ...  --0kuuLmuYBe3Rmu0Iycww  PYe_FDw6QTbTf66WcGE_tw\n",
              "257015        3497     300815  ...  --2HUmLkcNHZp0xw6AMBPg  KW9RNyBPmc77f9FsO92qYw\n",
              "274719      155483     353085  ...  --2vR0DIsmQ6WfcSzKWigw  BLIJ-p5wYuAhw6Pp6mh6mw\n",
              "20004         7615     312087  ...  --3WaS23LcIXtxyFULJHTA  UKrfUw8quQiQM2N9i1nH0g\n",
              "...            ...        ...  ...                     ...                     ...\n",
              "199399      262244     407049  ...  zzrZ8gFESj5pe-SFZ-h0lw  P2uNvUI1RCX8RGKFzj4ceA\n",
              "35300       266133     368735  ...  zzsmdXHUFBYuKUtPbXWjRA  P6zYuNINXKKm5AZ8P5exmQ\n",
              "94152       149125     300942  ...  zzvV3l9IqTRX7Db8nxThbA  LucXqItGj0JZD6EgySOakg\n",
              "106853      132189     477903  ...  zzw0Z6-_VDp9ShIRSKIsQw  1hfYBwAI7pFz50l5n4JpqQ\n",
              "165879      272431     393275  ...  zzxZoMmjbUjXcWZzrE3PIw  g6l78EOVGYzMmnTSGj8TcA\n",
              "\n",
              "[283217 rows x 6 columns]"
            ]
          },
          "metadata": {
            "tags": []
          },
          "execution_count": 57
        }
      ]
    },
    {
      "cell_type": "code",
      "metadata": {
        "id": "Tz4fUc2D_Ptu",
        "colab_type": "code",
        "outputId": "f3bcaa17-1a4a-421e-ec49-18bbca43bc3e",
        "colab": {
          "base_uri": "https://localhost:8080/",
          "height": 206
        }
      },
      "source": [
        "testcsv.head()"
      ],
      "execution_count": 0,
      "outputs": [
        {
          "output_type": "execute_result",
          "data": {
            "text/html": [
              "<div>\n",
              "<style scoped>\n",
              "    .dataframe tbody tr th:only-of-type {\n",
              "        vertical-align: middle;\n",
              "    }\n",
              "\n",
              "    .dataframe tbody tr th {\n",
              "        vertical-align: top;\n",
              "    }\n",
              "\n",
              "    .dataframe thead th {\n",
              "        text-align: right;\n",
              "    }\n",
              "</style>\n",
              "<table border=\"1\" class=\"dataframe\">\n",
              "  <thead>\n",
              "    <tr style=\"text-align: right;\">\n",
              "      <th></th>\n",
              "      <th>review_id</th>\n",
              "      <th>user_id</th>\n",
              "      <th>business_id</th>\n",
              "      <th>rating</th>\n",
              "      <th>date</th>\n",
              "    </tr>\n",
              "  </thead>\n",
              "  <tbody>\n",
              "    <tr>\n",
              "      <th>0</th>\n",
              "      <td>wEJK2PeiS6Au0TOyxTyqUA</td>\n",
              "      <td>---1lKK3aKOuomHnwAkAow</td>\n",
              "      <td>Hqs4YNST_ZHbshwyi4bnsQ</td>\n",
              "      <td>5.00</td>\n",
              "      <td>2018-10-11 23:29:57</td>\n",
              "    </tr>\n",
              "    <tr>\n",
              "      <th>1</th>\n",
              "      <td>8QLqN2qZPeN6qh4i9tj-rw</td>\n",
              "      <td>--0kuuLmuYBe3Rmu0Iycww</td>\n",
              "      <td>PYe_FDw6QTbTf66WcGE_tw</td>\n",
              "      <td>2.00</td>\n",
              "      <td>2014-04-21 16:58:28</td>\n",
              "    </tr>\n",
              "    <tr>\n",
              "      <th>2</th>\n",
              "      <td>dgtVm1qaV3KSzC1Cv7M7kg</td>\n",
              "      <td>--2HUmLkcNHZp0xw6AMBPg</td>\n",
              "      <td>KW9RNyBPmc77f9FsO92qYw</td>\n",
              "      <td>5.00</td>\n",
              "      <td>2018-10-04 02:02:28</td>\n",
              "    </tr>\n",
              "    <tr>\n",
              "      <th>3</th>\n",
              "      <td>419OFmkJ4DSc2zkjuxX5hw</td>\n",
              "      <td>--2vR0DIsmQ6WfcSzKWigw</td>\n",
              "      <td>BLIJ-p5wYuAhw6Pp6mh6mw</td>\n",
              "      <td>3.00</td>\n",
              "      <td>2018-01-11 04:24:17</td>\n",
              "    </tr>\n",
              "    <tr>\n",
              "      <th>4</th>\n",
              "      <td>6KblMvyPMH__K_eMKhHWOg</td>\n",
              "      <td>--3WaS23LcIXtxyFULJHTA</td>\n",
              "      <td>UKrfUw8quQiQM2N9i1nH0g</td>\n",
              "      <td>4.00</td>\n",
              "      <td>2018-09-03 19:32:11</td>\n",
              "    </tr>\n",
              "  </tbody>\n",
              "</table>\n",
              "</div>"
            ],
            "text/plain": [
              "                review_id                 user_id  ... rating                 date\n",
              "0  wEJK2PeiS6Au0TOyxTyqUA  ---1lKK3aKOuomHnwAkAow  ...   5.00  2018-10-11 23:29:57\n",
              "1  8QLqN2qZPeN6qh4i9tj-rw  --0kuuLmuYBe3Rmu0Iycww  ...   2.00  2014-04-21 16:58:28\n",
              "2  dgtVm1qaV3KSzC1Cv7M7kg  --2HUmLkcNHZp0xw6AMBPg  ...   5.00  2018-10-04 02:02:28\n",
              "3  419OFmkJ4DSc2zkjuxX5hw  --2vR0DIsmQ6WfcSzKWigw  ...   3.00  2018-01-11 04:24:17\n",
              "4  6KblMvyPMH__K_eMKhHWOg  --3WaS23LcIXtxyFULJHTA  ...   4.00  2018-09-03 19:32:11\n",
              "\n",
              "[5 rows x 5 columns]"
            ]
          },
          "metadata": {
            "tags": []
          },
          "execution_count": 58
        }
      ]
    },
    {
      "cell_type": "code",
      "metadata": {
        "id": "1H4Ur0HhEaRk",
        "colab_type": "code",
        "colab": {}
      },
      "source": [
        "bp2 = bp[['user_id','business_id','rating','prediction']].copy()\n",
        "bp2 = bp2.sort_values('user_id')"
      ],
      "execution_count": 0,
      "outputs": []
    },
    {
      "cell_type": "code",
      "metadata": {
        "id": "OV4AEGGyEfGY",
        "colab_type": "code",
        "outputId": "58153810-952d-4f0e-b44e-8d60a9c61bc8",
        "colab": {
          "base_uri": "https://localhost:8080/",
          "height": 35
        }
      },
      "source": [
        "bp2.user_id.size"
      ],
      "execution_count": 0,
      "outputs": [
        {
          "output_type": "execute_result",
          "data": {
            "text/plain": [
              "283217"
            ]
          },
          "metadata": {
            "tags": []
          },
          "execution_count": 60
        }
      ]
    },
    {
      "cell_type": "code",
      "metadata": {
        "id": "SKRy4DH6AgYp",
        "colab_type": "code",
        "outputId": "8aaab302-cdc0-4172-ac37-25ec27625c8c",
        "colab": {
          "base_uri": "https://localhost:8080/",
          "height": 363
        }
      },
      "source": [
        "#find users the model did not make a prediction on\n",
        "users_in_test = bp.user_id\n",
        "missing_pred = testcsv[~testcsv.user_id.isin(bp.user_id)]\n",
        "missing_pred = missing_pred[['user_id','business_id','rating']].copy()\n",
        "missing_pred.sort_values('user_id').head(10)"
      ],
      "execution_count": 0,
      "outputs": [
        {
          "output_type": "execute_result",
          "data": {
            "text/html": [
              "<div>\n",
              "<style scoped>\n",
              "    .dataframe tbody tr th:only-of-type {\n",
              "        vertical-align: middle;\n",
              "    }\n",
              "\n",
              "    .dataframe tbody tr th {\n",
              "        vertical-align: top;\n",
              "    }\n",
              "\n",
              "    .dataframe thead th {\n",
              "        text-align: right;\n",
              "    }\n",
              "</style>\n",
              "<table border=\"1\" class=\"dataframe\">\n",
              "  <thead>\n",
              "    <tr style=\"text-align: right;\">\n",
              "      <th></th>\n",
              "      <th>user_id</th>\n",
              "      <th>business_id</th>\n",
              "      <th>rating</th>\n",
              "    </tr>\n",
              "  </thead>\n",
              "  <tbody>\n",
              "    <tr>\n",
              "      <th>24</th>\n",
              "      <td>--RlSfc-QmcHFGHyX6aVjA</td>\n",
              "      <td>Oz1Ci9y2MnwYyAjVsoZg5Q</td>\n",
              "      <td>4.00</td>\n",
              "    </tr>\n",
              "    <tr>\n",
              "      <th>90</th>\n",
              "      <td>-0OE9Pn8vSK-WjJeRtHDtw</td>\n",
              "      <td>DiE8MZaW3c5LFg0e3YQXbg</td>\n",
              "      <td>5.00</td>\n",
              "    </tr>\n",
              "    <tr>\n",
              "      <th>446</th>\n",
              "      <td>-5SOwLPH9eLbTdTJrnjxgg</td>\n",
              "      <td>RZR6AYmF0RJAFmgj8I11Gg</td>\n",
              "      <td>1.00</td>\n",
              "    </tr>\n",
              "    <tr>\n",
              "      <th>462</th>\n",
              "      <td>-5i7xSNuaXWwODXqjEEEYQ</td>\n",
              "      <td>78op3fqT0itfTYbELGJvxg</td>\n",
              "      <td>4.00</td>\n",
              "    </tr>\n",
              "    <tr>\n",
              "      <th>490</th>\n",
              "      <td>-66F_Lt6WZrRua8ZAjXdqg</td>\n",
              "      <td>_5u--hWbsm3h6j3E_6P0mg</td>\n",
              "      <td>5.00</td>\n",
              "    </tr>\n",
              "    <tr>\n",
              "      <th>551</th>\n",
              "      <td>-6wGVtKapke4GtIl59j55g</td>\n",
              "      <td>hgFipW1RMfDuQK2MtsWmiw</td>\n",
              "      <td>5.00</td>\n",
              "    </tr>\n",
              "    <tr>\n",
              "      <th>827</th>\n",
              "      <td>-AtM3OKL31Sek9zSi3D-MA</td>\n",
              "      <td>6h_v9mTSGYGLAvgOoS-AYQ</td>\n",
              "      <td>5.00</td>\n",
              "    </tr>\n",
              "    <tr>\n",
              "      <th>874</th>\n",
              "      <td>-BYjdLFzvOJl1Y5_Z7FrUw</td>\n",
              "      <td>UuO4syJqP1gs-QMkAwEONw</td>\n",
              "      <td>1.00</td>\n",
              "    </tr>\n",
              "    <tr>\n",
              "      <th>1002</th>\n",
              "      <td>-DFCC64NXgqrxlO8aLU5rg</td>\n",
              "      <td>-lK3k0x__vrvMCcyhEi2vA</td>\n",
              "      <td>4.00</td>\n",
              "    </tr>\n",
              "    <tr>\n",
              "      <th>1316</th>\n",
              "      <td>-HfAVM2M8H4XtKLdQRgHlA</td>\n",
              "      <td>xUJ54bt0kDBUWCtEw9z4fw</td>\n",
              "      <td>1.00</td>\n",
              "    </tr>\n",
              "  </tbody>\n",
              "</table>\n",
              "</div>"
            ],
            "text/plain": [
              "                     user_id             business_id  rating\n",
              "24    --RlSfc-QmcHFGHyX6aVjA  Oz1Ci9y2MnwYyAjVsoZg5Q    4.00\n",
              "90    -0OE9Pn8vSK-WjJeRtHDtw  DiE8MZaW3c5LFg0e3YQXbg    5.00\n",
              "446   -5SOwLPH9eLbTdTJrnjxgg  RZR6AYmF0RJAFmgj8I11Gg    1.00\n",
              "462   -5i7xSNuaXWwODXqjEEEYQ  78op3fqT0itfTYbELGJvxg    4.00\n",
              "490   -66F_Lt6WZrRua8ZAjXdqg  _5u--hWbsm3h6j3E_6P0mg    5.00\n",
              "551   -6wGVtKapke4GtIl59j55g  hgFipW1RMfDuQK2MtsWmiw    5.00\n",
              "827   -AtM3OKL31Sek9zSi3D-MA  6h_v9mTSGYGLAvgOoS-AYQ    5.00\n",
              "874   -BYjdLFzvOJl1Y5_Z7FrUw  UuO4syJqP1gs-QMkAwEONw    1.00\n",
              "1002  -DFCC64NXgqrxlO8aLU5rg  -lK3k0x__vrvMCcyhEi2vA    4.00\n",
              "1316  -HfAVM2M8H4XtKLdQRgHlA  xUJ54bt0kDBUWCtEw9z4fw    1.00"
            ]
          },
          "metadata": {
            "tags": []
          },
          "execution_count": 85
        }
      ]
    },
    {
      "cell_type": "code",
      "metadata": {
        "id": "AE3PwoRoFRtp",
        "colab_type": "code",
        "outputId": "36793c48-32ae-4837-8048-488df16a0e78",
        "colab": {
          "base_uri": "https://localhost:8080/",
          "height": 424
        }
      },
      "source": [
        "missing_pred['newuser_id'] = missing_pred.user_id.map(users)\n",
        "missing_pred['newbus_id'] = missing_pred.business_id.map(bus)\n",
        "missing_pred"
      ],
      "execution_count": 0,
      "outputs": [
        {
          "output_type": "execute_result",
          "data": {
            "text/html": [
              "<div>\n",
              "<style scoped>\n",
              "    .dataframe tbody tr th:only-of-type {\n",
              "        vertical-align: middle;\n",
              "    }\n",
              "\n",
              "    .dataframe tbody tr th {\n",
              "        vertical-align: top;\n",
              "    }\n",
              "\n",
              "    .dataframe thead th {\n",
              "        text-align: right;\n",
              "    }\n",
              "</style>\n",
              "<table border=\"1\" class=\"dataframe\">\n",
              "  <thead>\n",
              "    <tr style=\"text-align: right;\">\n",
              "      <th></th>\n",
              "      <th>user_id</th>\n",
              "      <th>business_id</th>\n",
              "      <th>rating</th>\n",
              "      <th>newuser_id</th>\n",
              "      <th>newbus_id</th>\n",
              "    </tr>\n",
              "  </thead>\n",
              "  <tbody>\n",
              "    <tr>\n",
              "      <th>24</th>\n",
              "      <td>--RlSfc-QmcHFGHyX6aVjA</td>\n",
              "      <td>Oz1Ci9y2MnwYyAjVsoZg5Q</td>\n",
              "      <td>4.00</td>\n",
              "      <td>98313</td>\n",
              "      <td>333283</td>\n",
              "    </tr>\n",
              "    <tr>\n",
              "      <th>90</th>\n",
              "      <td>-0OE9Pn8vSK-WjJeRtHDtw</td>\n",
              "      <td>DiE8MZaW3c5LFg0e3YQXbg</td>\n",
              "      <td>5.00</td>\n",
              "      <td>38849</td>\n",
              "      <td>312345</td>\n",
              "    </tr>\n",
              "    <tr>\n",
              "      <th>446</th>\n",
              "      <td>-5SOwLPH9eLbTdTJrnjxgg</td>\n",
              "      <td>RZR6AYmF0RJAFmgj8I11Gg</td>\n",
              "      <td>1.00</td>\n",
              "      <td>266842</td>\n",
              "      <td>455725</td>\n",
              "    </tr>\n",
              "    <tr>\n",
              "      <th>462</th>\n",
              "      <td>-5i7xSNuaXWwODXqjEEEYQ</td>\n",
              "      <td>78op3fqT0itfTYbELGJvxg</td>\n",
              "      <td>4.00</td>\n",
              "      <td>153938</td>\n",
              "      <td>372760</td>\n",
              "    </tr>\n",
              "    <tr>\n",
              "      <th>490</th>\n",
              "      <td>-66F_Lt6WZrRua8ZAjXdqg</td>\n",
              "      <td>_5u--hWbsm3h6j3E_6P0mg</td>\n",
              "      <td>5.00</td>\n",
              "      <td>256992</td>\n",
              "      <td>362680</td>\n",
              "    </tr>\n",
              "    <tr>\n",
              "      <th>...</th>\n",
              "      <td>...</td>\n",
              "      <td>...</td>\n",
              "      <td>...</td>\n",
              "      <td>...</td>\n",
              "      <td>...</td>\n",
              "    </tr>\n",
              "    <tr>\n",
              "      <th>285901</th>\n",
              "      <td>zwYCoSqLldPPL6409lySng</td>\n",
              "      <td>IhD8NkSLwF-207jxMOCY3Q</td>\n",
              "      <td>5.00</td>\n",
              "      <td>278268</td>\n",
              "      <td>304117</td>\n",
              "    </tr>\n",
              "    <tr>\n",
              "      <th>285947</th>\n",
              "      <td>zxEGx5TJcizUpbufPNusUQ</td>\n",
              "      <td>LfjgSONDpGF7RJOCv-r9Dg</td>\n",
              "      <td>5.00</td>\n",
              "      <td>270794</td>\n",
              "      <td>353685</td>\n",
              "    </tr>\n",
              "    <tr>\n",
              "      <th>286061</th>\n",
              "      <td>zz-sXS6jNhVKJQUQtOrmXQ</td>\n",
              "      <td>S51hd1jI1SK7VCtOPkVN2Q</td>\n",
              "      <td>5.00</td>\n",
              "      <td>281669</td>\n",
              "      <td>420573</td>\n",
              "    </tr>\n",
              "    <tr>\n",
              "      <th>286075</th>\n",
              "      <td>zzBuXG7J0QMrIZeHq-JfSg</td>\n",
              "      <td>OayEFsHTrtc_px-W9n3rWg</td>\n",
              "      <td>5.00</td>\n",
              "      <td>270270</td>\n",
              "      <td>397274</td>\n",
              "    </tr>\n",
              "    <tr>\n",
              "      <th>286086</th>\n",
              "      <td>zzIcU_GIjk8RP-Z4FiuAvA</td>\n",
              "      <td>LePAK97ZcoXvigkkfKNFmA</td>\n",
              "      <td>5.00</td>\n",
              "      <td>258618</td>\n",
              "      <td>397011</td>\n",
              "    </tr>\n",
              "  </tbody>\n",
              "</table>\n",
              "<p>2913 rows × 5 columns</p>\n",
              "</div>"
            ],
            "text/plain": [
              "                       user_id             business_id  ...  newuser_id  newbus_id\n",
              "24      --RlSfc-QmcHFGHyX6aVjA  Oz1Ci9y2MnwYyAjVsoZg5Q  ...       98313     333283\n",
              "90      -0OE9Pn8vSK-WjJeRtHDtw  DiE8MZaW3c5LFg0e3YQXbg  ...       38849     312345\n",
              "446     -5SOwLPH9eLbTdTJrnjxgg  RZR6AYmF0RJAFmgj8I11Gg  ...      266842     455725\n",
              "462     -5i7xSNuaXWwODXqjEEEYQ  78op3fqT0itfTYbELGJvxg  ...      153938     372760\n",
              "490     -66F_Lt6WZrRua8ZAjXdqg  _5u--hWbsm3h6j3E_6P0mg  ...      256992     362680\n",
              "...                        ...                     ...  ...         ...        ...\n",
              "285901  zwYCoSqLldPPL6409lySng  IhD8NkSLwF-207jxMOCY3Q  ...      278268     304117\n",
              "285947  zxEGx5TJcizUpbufPNusUQ  LfjgSONDpGF7RJOCv-r9Dg  ...      270794     353685\n",
              "286061  zz-sXS6jNhVKJQUQtOrmXQ  S51hd1jI1SK7VCtOPkVN2Q  ...      281669     420573\n",
              "286075  zzBuXG7J0QMrIZeHq-JfSg  OayEFsHTrtc_px-W9n3rWg  ...      270270     397274\n",
              "286086  zzIcU_GIjk8RP-Z4FiuAvA  LePAK97ZcoXvigkkfKNFmA  ...      258618     397011\n",
              "\n",
              "[2913 rows x 5 columns]"
            ]
          },
          "metadata": {
            "tags": []
          },
          "execution_count": 86
        }
      ]
    },
    {
      "cell_type": "code",
      "metadata": {
        "id": "P_hslOeoDK_w",
        "colab_type": "code",
        "colab": {}
      },
      "source": [
        "missing_pred_spark = spark.createDataFrame(missing_pred[['newuser_id','newbus_id','rating']].copy())"
      ],
      "execution_count": 0,
      "outputs": []
    },
    {
      "cell_type": "code",
      "metadata": {
        "id": "t6eJEfZzDhXK",
        "colab_type": "code",
        "colab": {}
      },
      "source": [
        "missing_pred_try = best_model.transform(missing_pred_spark)"
      ],
      "execution_count": 0,
      "outputs": []
    },
    {
      "cell_type": "code",
      "metadata": {
        "id": "uQISzznRDxpz",
        "colab_type": "code",
        "outputId": "c2850f7a-feb2-4115-fc77-d9df97c798ab",
        "colab": {
          "base_uri": "https://localhost:8080/",
          "height": 49
        }
      },
      "source": [
        "missing_pred_try.toPandas()"
      ],
      "execution_count": 0,
      "outputs": [
        {
          "output_type": "execute_result",
          "data": {
            "text/html": [
              "<div>\n",
              "<style scoped>\n",
              "    .dataframe tbody tr th:only-of-type {\n",
              "        vertical-align: middle;\n",
              "    }\n",
              "\n",
              "    .dataframe tbody tr th {\n",
              "        vertical-align: top;\n",
              "    }\n",
              "\n",
              "    .dataframe thead th {\n",
              "        text-align: right;\n",
              "    }\n",
              "</style>\n",
              "<table border=\"1\" class=\"dataframe\">\n",
              "  <thead>\n",
              "    <tr style=\"text-align: right;\">\n",
              "      <th></th>\n",
              "      <th>newuser_id</th>\n",
              "      <th>newbus_id</th>\n",
              "      <th>rating</th>\n",
              "      <th>prediction</th>\n",
              "    </tr>\n",
              "  </thead>\n",
              "  <tbody>\n",
              "  </tbody>\n",
              "</table>\n",
              "</div>"
            ],
            "text/plain": [
              "Empty DataFrame\n",
              "Columns: [newuser_id, newbus_id, rating, prediction]\n",
              "Index: []"
            ]
          },
          "metadata": {
            "tags": []
          },
          "execution_count": 89
        }
      ]
    },
    {
      "cell_type": "code",
      "metadata": {
        "id": "AxQAYrDLGihP",
        "colab_type": "code",
        "outputId": "ecdf5de7-d3af-413d-f150-fa76ae881d82",
        "colab": {
          "base_uri": "https://localhost:8080/",
          "height": 49
        }
      },
      "source": [
        "train[train.business_id==\"Oz1Ci9y2MnwYyAjVsoZg5Q\"]"
      ],
      "execution_count": 0,
      "outputs": [
        {
          "output_type": "execute_result",
          "data": {
            "text/html": [
              "<div>\n",
              "<style scoped>\n",
              "    .dataframe tbody tr th:only-of-type {\n",
              "        vertical-align: middle;\n",
              "    }\n",
              "\n",
              "    .dataframe tbody tr th {\n",
              "        vertical-align: top;\n",
              "    }\n",
              "\n",
              "    .dataframe thead th {\n",
              "        text-align: right;\n",
              "    }\n",
              "</style>\n",
              "<table border=\"1\" class=\"dataframe\">\n",
              "  <thead>\n",
              "    <tr style=\"text-align: right;\">\n",
              "      <th></th>\n",
              "      <th>user_id</th>\n",
              "      <th>business_id</th>\n",
              "      <th>rating</th>\n",
              "      <th>newuser_id</th>\n",
              "      <th>newbus_id</th>\n",
              "    </tr>\n",
              "  </thead>\n",
              "  <tbody>\n",
              "  </tbody>\n",
              "</table>\n",
              "</div>"
            ],
            "text/plain": [
              "Empty DataFrame\n",
              "Columns: [user_id, business_id, rating, newuser_id, newbus_id]\n",
              "Index: []"
            ]
          },
          "metadata": {
            "tags": []
          },
          "execution_count": 90
        }
      ]
    },
    {
      "cell_type": "markdown",
      "metadata": {
        "id": "SregYAXmIv0B",
        "colab_type": "text"
      },
      "source": [
        "There are 2913 observations without a prediction.\n",
        "The problem is not that the model is not being able to predict a value for these rows, but actually that those observations have business ids not present in the training set, hence the model can't figure out a prediction for those rows (remember that for this dataset we are able to ensure that every user is present both in train and test sets, but we can't do the same for business).\n",
        "\n",
        "Given this situation we have 2 options:\n",
        "\n",
        "\n",
        "\n",
        "> Evaluate the model for an incomplete set of predictions (test set - 2,913 observations).\n",
        "\n",
        "> Give the mean of the vector of predictions to the 2,913 observations in order to have predictions for the entire test set.\n",
        "\n"
      ]
    },
    {
      "cell_type": "markdown",
      "metadata": {
        "id": "laSR90pVMjfu",
        "colab_type": "text"
      },
      "source": [
        "#### First Option"
      ]
    },
    {
      "cell_type": "code",
      "metadata": {
        "id": "Quj3_c-hKM_m",
        "colab_type": "code",
        "colab": {}
      },
      "source": [
        "predicted_users = [x for x in test.user_id.tolist() if x not in missing_pred.user_id.tolist()]"
      ],
      "execution_count": 0,
      "outputs": []
    },
    {
      "cell_type": "code",
      "metadata": {
        "id": "nOTsxQpILIMf",
        "colab_type": "code",
        "outputId": "0e550038-694f-494d-a72e-4b6bf2bb486e",
        "colab": {
          "base_uri": "https://localhost:8080/",
          "height": 35
        }
      },
      "source": [
        "\n",
        "len(predicted_users)"
      ],
      "execution_count": 0,
      "outputs": [
        {
          "output_type": "execute_result",
          "data": {
            "text/plain": [
              "283217"
            ]
          },
          "metadata": {
            "tags": []
          },
          "execution_count": 97
        }
      ]
    },
    {
      "cell_type": "code",
      "metadata": {
        "id": "5cKswVHRLVmO",
        "colab_type": "code",
        "colab": {}
      },
      "source": [
        "predicted_users_review = testcsv.review_id[testcsv.user_id.isin(predicted_users)]"
      ],
      "execution_count": 0,
      "outputs": []
    },
    {
      "cell_type": "code",
      "metadata": {
        "id": "oeMbDAtJMKd0",
        "colab_type": "code",
        "outputId": "46f5b97b-59cd-4746-93d5-17bfd32a5260",
        "colab": {
          "base_uri": "https://localhost:8080/",
          "height": 237
        }
      },
      "source": [
        "predicted_users_review"
      ],
      "execution_count": 0,
      "outputs": [
        {
          "output_type": "execute_result",
          "data": {
            "text/plain": [
              "0         wEJK2PeiS6Au0TOyxTyqUA\n",
              "1         8QLqN2qZPeN6qh4i9tj-rw\n",
              "2         dgtVm1qaV3KSzC1Cv7M7kg\n",
              "3         419OFmkJ4DSc2zkjuxX5hw\n",
              "4         6KblMvyPMH__K_eMKhHWOg\n",
              "                   ...          \n",
              "286125    oOxa0qNQK6RLK-EsasCQzg\n",
              "286126    ElFGQ4pTi4geHQ2mYBDzug\n",
              "286127    3NlTwm1txpcG-ZepmZ66Yg\n",
              "286128    _htR70NBrPuJ5sQzm-RAkw\n",
              "286129    tTrtMgLmp2REgIG3Pouxdw\n",
              "Name: review_id, Length: 283217, dtype: object"
            ]
          },
          "metadata": {
            "tags": []
          },
          "execution_count": 106
        }
      ]
    },
    {
      "cell_type": "code",
      "metadata": {
        "id": "bsi-wjojABGN",
        "colab_type": "code",
        "colab": {}
      },
      "source": [
        "#add review_id back\n",
        "bp2['review_id'] = predicted_users_review.tolist()\n"
      ],
      "execution_count": 0,
      "outputs": []
    },
    {
      "cell_type": "code",
      "metadata": {
        "id": "Dua-MPVrL_vI",
        "colab_type": "code",
        "outputId": "5aa0985b-d00a-41a8-8cce-5aff18394682",
        "colab": {
          "base_uri": "https://localhost:8080/",
          "height": 206
        }
      },
      "source": [
        "testcsv.head()"
      ],
      "execution_count": 0,
      "outputs": [
        {
          "output_type": "execute_result",
          "data": {
            "text/html": [
              "<div>\n",
              "<style scoped>\n",
              "    .dataframe tbody tr th:only-of-type {\n",
              "        vertical-align: middle;\n",
              "    }\n",
              "\n",
              "    .dataframe tbody tr th {\n",
              "        vertical-align: top;\n",
              "    }\n",
              "\n",
              "    .dataframe thead th {\n",
              "        text-align: right;\n",
              "    }\n",
              "</style>\n",
              "<table border=\"1\" class=\"dataframe\">\n",
              "  <thead>\n",
              "    <tr style=\"text-align: right;\">\n",
              "      <th></th>\n",
              "      <th>review_id</th>\n",
              "      <th>user_id</th>\n",
              "      <th>business_id</th>\n",
              "      <th>rating</th>\n",
              "      <th>date</th>\n",
              "    </tr>\n",
              "  </thead>\n",
              "  <tbody>\n",
              "    <tr>\n",
              "      <th>0</th>\n",
              "      <td>wEJK2PeiS6Au0TOyxTyqUA</td>\n",
              "      <td>---1lKK3aKOuomHnwAkAow</td>\n",
              "      <td>Hqs4YNST_ZHbshwyi4bnsQ</td>\n",
              "      <td>5.00</td>\n",
              "      <td>2018-10-11 23:29:57</td>\n",
              "    </tr>\n",
              "    <tr>\n",
              "      <th>1</th>\n",
              "      <td>8QLqN2qZPeN6qh4i9tj-rw</td>\n",
              "      <td>--0kuuLmuYBe3Rmu0Iycww</td>\n",
              "      <td>PYe_FDw6QTbTf66WcGE_tw</td>\n",
              "      <td>2.00</td>\n",
              "      <td>2014-04-21 16:58:28</td>\n",
              "    </tr>\n",
              "    <tr>\n",
              "      <th>2</th>\n",
              "      <td>dgtVm1qaV3KSzC1Cv7M7kg</td>\n",
              "      <td>--2HUmLkcNHZp0xw6AMBPg</td>\n",
              "      <td>KW9RNyBPmc77f9FsO92qYw</td>\n",
              "      <td>5.00</td>\n",
              "      <td>2018-10-04 02:02:28</td>\n",
              "    </tr>\n",
              "    <tr>\n",
              "      <th>3</th>\n",
              "      <td>419OFmkJ4DSc2zkjuxX5hw</td>\n",
              "      <td>--2vR0DIsmQ6WfcSzKWigw</td>\n",
              "      <td>BLIJ-p5wYuAhw6Pp6mh6mw</td>\n",
              "      <td>3.00</td>\n",
              "      <td>2018-01-11 04:24:17</td>\n",
              "    </tr>\n",
              "    <tr>\n",
              "      <th>4</th>\n",
              "      <td>6KblMvyPMH__K_eMKhHWOg</td>\n",
              "      <td>--3WaS23LcIXtxyFULJHTA</td>\n",
              "      <td>UKrfUw8quQiQM2N9i1nH0g</td>\n",
              "      <td>4.00</td>\n",
              "      <td>2018-09-03 19:32:11</td>\n",
              "    </tr>\n",
              "  </tbody>\n",
              "</table>\n",
              "</div>"
            ],
            "text/plain": [
              "                review_id                 user_id  ... rating                 date\n",
              "0  wEJK2PeiS6Au0TOyxTyqUA  ---1lKK3aKOuomHnwAkAow  ...   5.00  2018-10-11 23:29:57\n",
              "1  8QLqN2qZPeN6qh4i9tj-rw  --0kuuLmuYBe3Rmu0Iycww  ...   2.00  2014-04-21 16:58:28\n",
              "2  dgtVm1qaV3KSzC1Cv7M7kg  --2HUmLkcNHZp0xw6AMBPg  ...   5.00  2018-10-04 02:02:28\n",
              "3  419OFmkJ4DSc2zkjuxX5hw  --2vR0DIsmQ6WfcSzKWigw  ...   3.00  2018-01-11 04:24:17\n",
              "4  6KblMvyPMH__K_eMKhHWOg  --3WaS23LcIXtxyFULJHTA  ...   4.00  2018-09-03 19:32:11\n",
              "\n",
              "[5 rows x 5 columns]"
            ]
          },
          "metadata": {
            "tags": []
          },
          "execution_count": 105
        }
      ]
    },
    {
      "cell_type": "code",
      "metadata": {
        "id": "YNGvgmdzLuV2",
        "colab_type": "code",
        "outputId": "658f9689-708b-4d3d-e2ee-155452aa7990",
        "colab": {
          "base_uri": "https://localhost:8080/",
          "height": 424
        }
      },
      "source": [
        "bp2"
      ],
      "execution_count": 0,
      "outputs": [
        {
          "output_type": "execute_result",
          "data": {
            "text/html": [
              "<div>\n",
              "<style scoped>\n",
              "    .dataframe tbody tr th:only-of-type {\n",
              "        vertical-align: middle;\n",
              "    }\n",
              "\n",
              "    .dataframe tbody tr th {\n",
              "        vertical-align: top;\n",
              "    }\n",
              "\n",
              "    .dataframe thead th {\n",
              "        text-align: right;\n",
              "    }\n",
              "</style>\n",
              "<table border=\"1\" class=\"dataframe\">\n",
              "  <thead>\n",
              "    <tr style=\"text-align: right;\">\n",
              "      <th></th>\n",
              "      <th>user_id</th>\n",
              "      <th>business_id</th>\n",
              "      <th>rating</th>\n",
              "      <th>prediction</th>\n",
              "      <th>review_id</th>\n",
              "    </tr>\n",
              "  </thead>\n",
              "  <tbody>\n",
              "    <tr>\n",
              "      <th>11193</th>\n",
              "      <td>---1lKK3aKOuomHnwAkAow</td>\n",
              "      <td>Hqs4YNST_ZHbshwyi4bnsQ</td>\n",
              "      <td>5.00</td>\n",
              "      <td>3.86</td>\n",
              "      <td>wEJK2PeiS6Au0TOyxTyqUA</td>\n",
              "    </tr>\n",
              "    <tr>\n",
              "      <th>38844</th>\n",
              "      <td>--0kuuLmuYBe3Rmu0Iycww</td>\n",
              "      <td>PYe_FDw6QTbTf66WcGE_tw</td>\n",
              "      <td>2.00</td>\n",
              "      <td>3.29</td>\n",
              "      <td>8QLqN2qZPeN6qh4i9tj-rw</td>\n",
              "    </tr>\n",
              "    <tr>\n",
              "      <th>257015</th>\n",
              "      <td>--2HUmLkcNHZp0xw6AMBPg</td>\n",
              "      <td>KW9RNyBPmc77f9FsO92qYw</td>\n",
              "      <td>5.00</td>\n",
              "      <td>3.20</td>\n",
              "      <td>dgtVm1qaV3KSzC1Cv7M7kg</td>\n",
              "    </tr>\n",
              "    <tr>\n",
              "      <th>274719</th>\n",
              "      <td>--2vR0DIsmQ6WfcSzKWigw</td>\n",
              "      <td>BLIJ-p5wYuAhw6Pp6mh6mw</td>\n",
              "      <td>3.00</td>\n",
              "      <td>3.34</td>\n",
              "      <td>419OFmkJ4DSc2zkjuxX5hw</td>\n",
              "    </tr>\n",
              "    <tr>\n",
              "      <th>20004</th>\n",
              "      <td>--3WaS23LcIXtxyFULJHTA</td>\n",
              "      <td>UKrfUw8quQiQM2N9i1nH0g</td>\n",
              "      <td>4.00</td>\n",
              "      <td>3.99</td>\n",
              "      <td>6KblMvyPMH__K_eMKhHWOg</td>\n",
              "    </tr>\n",
              "    <tr>\n",
              "      <th>...</th>\n",
              "      <td>...</td>\n",
              "      <td>...</td>\n",
              "      <td>...</td>\n",
              "      <td>...</td>\n",
              "      <td>...</td>\n",
              "    </tr>\n",
              "    <tr>\n",
              "      <th>199399</th>\n",
              "      <td>zzrZ8gFESj5pe-SFZ-h0lw</td>\n",
              "      <td>P2uNvUI1RCX8RGKFzj4ceA</td>\n",
              "      <td>5.00</td>\n",
              "      <td>1.18</td>\n",
              "      <td>oOxa0qNQK6RLK-EsasCQzg</td>\n",
              "    </tr>\n",
              "    <tr>\n",
              "      <th>35300</th>\n",
              "      <td>zzsmdXHUFBYuKUtPbXWjRA</td>\n",
              "      <td>P6zYuNINXKKm5AZ8P5exmQ</td>\n",
              "      <td>1.00</td>\n",
              "      <td>3.26</td>\n",
              "      <td>ElFGQ4pTi4geHQ2mYBDzug</td>\n",
              "    </tr>\n",
              "    <tr>\n",
              "      <th>94152</th>\n",
              "      <td>zzvV3l9IqTRX7Db8nxThbA</td>\n",
              "      <td>LucXqItGj0JZD6EgySOakg</td>\n",
              "      <td>5.00</td>\n",
              "      <td>3.42</td>\n",
              "      <td>3NlTwm1txpcG-ZepmZ66Yg</td>\n",
              "    </tr>\n",
              "    <tr>\n",
              "      <th>106853</th>\n",
              "      <td>zzw0Z6-_VDp9ShIRSKIsQw</td>\n",
              "      <td>1hfYBwAI7pFz50l5n4JpqQ</td>\n",
              "      <td>5.00</td>\n",
              "      <td>3.35</td>\n",
              "      <td>_htR70NBrPuJ5sQzm-RAkw</td>\n",
              "    </tr>\n",
              "    <tr>\n",
              "      <th>165879</th>\n",
              "      <td>zzxZoMmjbUjXcWZzrE3PIw</td>\n",
              "      <td>g6l78EOVGYzMmnTSGj8TcA</td>\n",
              "      <td>1.00</td>\n",
              "      <td>1.39</td>\n",
              "      <td>tTrtMgLmp2REgIG3Pouxdw</td>\n",
              "    </tr>\n",
              "  </tbody>\n",
              "</table>\n",
              "<p>283217 rows × 5 columns</p>\n",
              "</div>"
            ],
            "text/plain": [
              "                       user_id  ...               review_id\n",
              "11193   ---1lKK3aKOuomHnwAkAow  ...  wEJK2PeiS6Au0TOyxTyqUA\n",
              "38844   --0kuuLmuYBe3Rmu0Iycww  ...  8QLqN2qZPeN6qh4i9tj-rw\n",
              "257015  --2HUmLkcNHZp0xw6AMBPg  ...  dgtVm1qaV3KSzC1Cv7M7kg\n",
              "274719  --2vR0DIsmQ6WfcSzKWigw  ...  419OFmkJ4DSc2zkjuxX5hw\n",
              "20004   --3WaS23LcIXtxyFULJHTA  ...  6KblMvyPMH__K_eMKhHWOg\n",
              "...                        ...  ...                     ...\n",
              "199399  zzrZ8gFESj5pe-SFZ-h0lw  ...  oOxa0qNQK6RLK-EsasCQzg\n",
              "35300   zzsmdXHUFBYuKUtPbXWjRA  ...  ElFGQ4pTi4geHQ2mYBDzug\n",
              "94152   zzvV3l9IqTRX7Db8nxThbA  ...  3NlTwm1txpcG-ZepmZ66Yg\n",
              "106853  zzw0Z6-_VDp9ShIRSKIsQw  ...  _htR70NBrPuJ5sQzm-RAkw\n",
              "165879  zzxZoMmjbUjXcWZzrE3PIw  ...  tTrtMgLmp2REgIG3Pouxdw\n",
              "\n",
              "[283217 rows x 5 columns]"
            ]
          },
          "metadata": {
            "tags": []
          },
          "execution_count": 108
        }
      ]
    },
    {
      "cell_type": "code",
      "metadata": {
        "id": "SOpbQzk8CDI_",
        "colab_type": "code",
        "colab": {}
      },
      "source": [
        "#save incomplete predictions to csv\n",
        "bp2.to_csv(drive_root+\"MF model/MF_predictions_subset.csv\", index=False)"
      ],
      "execution_count": 0,
      "outputs": []
    },
    {
      "cell_type": "markdown",
      "metadata": {
        "id": "GndGml8UMoz6",
        "colab_type": "text"
      },
      "source": [
        "#### Second Option"
      ]
    },
    {
      "cell_type": "code",
      "metadata": {
        "id": "LV8ohsReMnvK",
        "colab_type": "code",
        "colab": {}
      },
      "source": [
        "#replace with mean\n",
        "pred_mean = bp.prediction.mean()"
      ],
      "execution_count": 0,
      "outputs": []
    },
    {
      "cell_type": "code",
      "metadata": {
        "id": "GvRXvcHaNXzt",
        "colab_type": "code",
        "colab": {}
      },
      "source": [
        "missing2 = testcsv.iloc[missing_pred.index].copy()"
      ],
      "execution_count": 0,
      "outputs": []
    },
    {
      "cell_type": "code",
      "metadata": {
        "id": "Qv-QpgwLNjAd",
        "colab_type": "code",
        "colab": {}
      },
      "source": [
        "missing2['prediction'] = pred_mean"
      ],
      "execution_count": 0,
      "outputs": []
    },
    {
      "cell_type": "code",
      "metadata": {
        "id": "mK_BpDTxNnFW",
        "colab_type": "code",
        "outputId": "5a6e1b00-19f1-4a1e-bf83-a86b432817c5",
        "colab": {
          "base_uri": "https://localhost:8080/",
          "height": 424
        }
      },
      "source": [
        "missing2"
      ],
      "execution_count": 0,
      "outputs": [
        {
          "output_type": "execute_result",
          "data": {
            "text/html": [
              "<div>\n",
              "<style scoped>\n",
              "    .dataframe tbody tr th:only-of-type {\n",
              "        vertical-align: middle;\n",
              "    }\n",
              "\n",
              "    .dataframe tbody tr th {\n",
              "        vertical-align: top;\n",
              "    }\n",
              "\n",
              "    .dataframe thead th {\n",
              "        text-align: right;\n",
              "    }\n",
              "</style>\n",
              "<table border=\"1\" class=\"dataframe\">\n",
              "  <thead>\n",
              "    <tr style=\"text-align: right;\">\n",
              "      <th></th>\n",
              "      <th>review_id</th>\n",
              "      <th>user_id</th>\n",
              "      <th>business_id</th>\n",
              "      <th>rating</th>\n",
              "      <th>date</th>\n",
              "      <th>prediction</th>\n",
              "    </tr>\n",
              "  </thead>\n",
              "  <tbody>\n",
              "    <tr>\n",
              "      <th>24</th>\n",
              "      <td>-3XiOw_tdVwRsDD-j7Me-g</td>\n",
              "      <td>--RlSfc-QmcHFGHyX6aVjA</td>\n",
              "      <td>Oz1Ci9y2MnwYyAjVsoZg5Q</td>\n",
              "      <td>4.00</td>\n",
              "      <td>2018-11-04 07:01:17</td>\n",
              "      <td>3.25</td>\n",
              "    </tr>\n",
              "    <tr>\n",
              "      <th>90</th>\n",
              "      <td>FDKuzjb4K9fRUvqxbhMn3Q</td>\n",
              "      <td>-0OE9Pn8vSK-WjJeRtHDtw</td>\n",
              "      <td>DiE8MZaW3c5LFg0e3YQXbg</td>\n",
              "      <td>5.00</td>\n",
              "      <td>2017-08-24 16:15:14</td>\n",
              "      <td>3.25</td>\n",
              "    </tr>\n",
              "    <tr>\n",
              "      <th>446</th>\n",
              "      <td>TBPSJHaQQdRF_dqDGwNu3g</td>\n",
              "      <td>-5SOwLPH9eLbTdTJrnjxgg</td>\n",
              "      <td>RZR6AYmF0RJAFmgj8I11Gg</td>\n",
              "      <td>1.00</td>\n",
              "      <td>2018-05-06 00:31:09</td>\n",
              "      <td>3.25</td>\n",
              "    </tr>\n",
              "    <tr>\n",
              "      <th>462</th>\n",
              "      <td>AaVGUlWFfJNNdpxgr23atA</td>\n",
              "      <td>-5i7xSNuaXWwODXqjEEEYQ</td>\n",
              "      <td>78op3fqT0itfTYbELGJvxg</td>\n",
              "      <td>4.00</td>\n",
              "      <td>2017-05-04 19:28:13</td>\n",
              "      <td>3.25</td>\n",
              "    </tr>\n",
              "    <tr>\n",
              "      <th>490</th>\n",
              "      <td>_A_3wcLqK-2PscagzN0qEw</td>\n",
              "      <td>-66F_Lt6WZrRua8ZAjXdqg</td>\n",
              "      <td>_5u--hWbsm3h6j3E_6P0mg</td>\n",
              "      <td>5.00</td>\n",
              "      <td>2018-08-02 03:15:02</td>\n",
              "      <td>3.25</td>\n",
              "    </tr>\n",
              "    <tr>\n",
              "      <th>...</th>\n",
              "      <td>...</td>\n",
              "      <td>...</td>\n",
              "      <td>...</td>\n",
              "      <td>...</td>\n",
              "      <td>...</td>\n",
              "      <td>...</td>\n",
              "    </tr>\n",
              "    <tr>\n",
              "      <th>285901</th>\n",
              "      <td>TY7PKEXxmzzgQzWG8A264A</td>\n",
              "      <td>zwYCoSqLldPPL6409lySng</td>\n",
              "      <td>IhD8NkSLwF-207jxMOCY3Q</td>\n",
              "      <td>5.00</td>\n",
              "      <td>2018-04-17 19:23:12</td>\n",
              "      <td>3.25</td>\n",
              "    </tr>\n",
              "    <tr>\n",
              "      <th>285947</th>\n",
              "      <td>BAYZz4CV5_igsaXk81vdmQ</td>\n",
              "      <td>zxEGx5TJcizUpbufPNusUQ</td>\n",
              "      <td>LfjgSONDpGF7RJOCv-r9Dg</td>\n",
              "      <td>5.00</td>\n",
              "      <td>2018-01-13 19:56:02</td>\n",
              "      <td>3.25</td>\n",
              "    </tr>\n",
              "    <tr>\n",
              "      <th>286061</th>\n",
              "      <td>9uklFZiXKBbUz7cx2vQTYQ</td>\n",
              "      <td>zz-sXS6jNhVKJQUQtOrmXQ</td>\n",
              "      <td>S51hd1jI1SK7VCtOPkVN2Q</td>\n",
              "      <td>5.00</td>\n",
              "      <td>2016-01-12 21:01:18</td>\n",
              "      <td>3.25</td>\n",
              "    </tr>\n",
              "    <tr>\n",
              "      <th>286075</th>\n",
              "      <td>iff1Hv5Id5Klaw3-LxbNiw</td>\n",
              "      <td>zzBuXG7J0QMrIZeHq-JfSg</td>\n",
              "      <td>OayEFsHTrtc_px-W9n3rWg</td>\n",
              "      <td>5.00</td>\n",
              "      <td>2015-03-14 16:44:28</td>\n",
              "      <td>3.25</td>\n",
              "    </tr>\n",
              "    <tr>\n",
              "      <th>286086</th>\n",
              "      <td>LSA7jpQcp1g5vou02SPRYA</td>\n",
              "      <td>zzIcU_GIjk8RP-Z4FiuAvA</td>\n",
              "      <td>LePAK97ZcoXvigkkfKNFmA</td>\n",
              "      <td>5.00</td>\n",
              "      <td>2018-01-18 19:43:07</td>\n",
              "      <td>3.25</td>\n",
              "    </tr>\n",
              "  </tbody>\n",
              "</table>\n",
              "<p>2913 rows × 6 columns</p>\n",
              "</div>"
            ],
            "text/plain": [
              "                     review_id  ... prediction\n",
              "24      -3XiOw_tdVwRsDD-j7Me-g  ...       3.25\n",
              "90      FDKuzjb4K9fRUvqxbhMn3Q  ...       3.25\n",
              "446     TBPSJHaQQdRF_dqDGwNu3g  ...       3.25\n",
              "462     AaVGUlWFfJNNdpxgr23atA  ...       3.25\n",
              "490     _A_3wcLqK-2PscagzN0qEw  ...       3.25\n",
              "...                        ...  ...        ...\n",
              "285901  TY7PKEXxmzzgQzWG8A264A  ...       3.25\n",
              "285947  BAYZz4CV5_igsaXk81vdmQ  ...       3.25\n",
              "286061  9uklFZiXKBbUz7cx2vQTYQ  ...       3.25\n",
              "286075  iff1Hv5Id5Klaw3-LxbNiw  ...       3.25\n",
              "286086  LSA7jpQcp1g5vou02SPRYA  ...       3.25\n",
              "\n",
              "[2913 rows x 6 columns]"
            ]
          },
          "metadata": {
            "tags": []
          },
          "execution_count": 117
        }
      ]
    },
    {
      "cell_type": "code",
      "metadata": {
        "id": "mHWE_W0oNrDk",
        "colab_type": "code",
        "colab": {}
      },
      "source": [
        "pred_complete = bp2.append(missing2[['user_id','business_id','rating','prediction','review_id']].copy())"
      ],
      "execution_count": 0,
      "outputs": []
    },
    {
      "cell_type": "code",
      "metadata": {
        "id": "jXZWF8kGOHLP",
        "colab_type": "code",
        "colab": {}
      },
      "source": [
        "pred_complete.to_csv(drive_root+\"MF model/MF_predictions_meanreplaced.csv\", index=False)"
      ],
      "execution_count": 0,
      "outputs": []
    }
  ]
}