{
  "nbformat": 4,
  "nbformat_minor": 0,
  "metadata": {
    "colab": {
      "name": "Final Project - bias model.ipynb",
      "provenance": [],
      "collapsed_sections": [],
      "machine_shape": "hm"
    },
    "kernelspec": {
      "name": "python3",
      "display_name": "Python 3"
    },
    "accelerator": "GPU"
  },
  "cells": [
    {
      "cell_type": "markdown",
      "metadata": {
        "id": "y3Spl5QF7iEZ",
        "colab_type": "text"
      },
      "source": [
        "# Baseline Bias Model"
      ]
    },
    {
      "cell_type": "markdown",
      "metadata": {
        "id": "vCUkTWrv7o7X",
        "colab_type": "text"
      },
      "source": [
        "The idea is to get a baseline model for some metrics of prediction. This model is basically a fixed effects regression, and it test the effect of each independent variable (user and product) over the response variable (rating) and the interaction of user*product over the response variable. \n",
        "The estimation of the model should tell us whether the named effects are statistically significant or not, to then chose a model to predict some ratings and get a prediction power metric."
      ]
    },
    {
      "cell_type": "code",
      "metadata": {
        "id": "UJZi7gNF3uNg",
        "colab_type": "code",
        "colab": {}
      },
      "source": [
        "import pandas as pd\n",
        "import numpy as np"
      ],
      "execution_count": 0,
      "outputs": []
    },
    {
      "cell_type": "code",
      "metadata": {
        "id": "W9PGZkAT_rLB",
        "colab_type": "code",
        "outputId": "fa4a29ad-77b9-420e-8612-e8d1955f2f75",
        "colab": {
          "base_uri": "https://localhost:8080/",
          "height": 35
        }
      },
      "source": [
        "from google.colab import drive\n",
        "drive.mount('/content/drive')"
      ],
      "execution_count": 0,
      "outputs": [
        {
          "output_type": "stream",
          "text": [
            "Drive already mounted at /content/drive; to attempt to forcibly remount, call drive.mount(\"/content/drive\", force_remount=True).\n"
          ],
          "name": "stdout"
        }
      ]
    },
    {
      "cell_type": "code",
      "metadata": {
        "id": "XsN1uMHwFSvU",
        "colab_type": "code",
        "colab": {}
      },
      "source": [
        "drive_root = \"/content/drive/My Drive/Final Project/\""
      ],
      "execution_count": 0,
      "outputs": []
    },
    {
      "cell_type": "markdown",
      "metadata": {
        "id": "3L5hjCp_IU6i",
        "colab_type": "text"
      },
      "source": [
        "### Read Train and Test Dataframes"
      ]
    },
    {
      "cell_type": "code",
      "metadata": {
        "id": "_7DmzX0cIPM3",
        "colab_type": "code",
        "colab": {}
      },
      "source": [
        "pd.set_option('display.float_format', lambda x: '%.2f' % x)"
      ],
      "execution_count": 0,
      "outputs": []
    },
    {
      "cell_type": "code",
      "metadata": {
        "id": "7X0UTY0mFkVT",
        "colab_type": "code",
        "colab": {}
      },
      "source": [
        "train = pd.read_csv(drive_root+\"Clean Data/train_set_new.csv\", low_memory=False)"
      ],
      "execution_count": 0,
      "outputs": []
    },
    {
      "cell_type": "code",
      "metadata": {
        "id": "z7BpSh0NHSOV",
        "colab_type": "code",
        "outputId": "cf578a6c-5a6e-4421-c767-f091e41e432b",
        "colab": {
          "base_uri": "https://localhost:8080/",
          "height": 206
        }
      },
      "source": [
        "train.head()"
      ],
      "execution_count": 0,
      "outputs": [
        {
          "output_type": "execute_result",
          "data": {
            "text/html": [
              "<div>\n",
              "<style scoped>\n",
              "    .dataframe tbody tr th:only-of-type {\n",
              "        vertical-align: middle;\n",
              "    }\n",
              "\n",
              "    .dataframe tbody tr th {\n",
              "        vertical-align: top;\n",
              "    }\n",
              "\n",
              "    .dataframe thead th {\n",
              "        text-align: right;\n",
              "    }\n",
              "</style>\n",
              "<table border=\"1\" class=\"dataframe\">\n",
              "  <thead>\n",
              "    <tr style=\"text-align: right;\">\n",
              "      <th></th>\n",
              "      <th>review_id</th>\n",
              "      <th>user_id</th>\n",
              "      <th>business_id</th>\n",
              "      <th>rating</th>\n",
              "      <th>date</th>\n",
              "    </tr>\n",
              "  </thead>\n",
              "  <tbody>\n",
              "    <tr>\n",
              "      <th>0</th>\n",
              "      <td>Q1sbwvVQXV2734tPgoKj4Q</td>\n",
              "      <td>hG7b0MtEbXx5QzbzE6C_VA</td>\n",
              "      <td>ujmEBvifdJM6h6RLv4wQIg</td>\n",
              "      <td>1.00</td>\n",
              "      <td>2013-05-07 04:34:36</td>\n",
              "    </tr>\n",
              "    <tr>\n",
              "      <th>1</th>\n",
              "      <td>2TzJjDVDEuAW6MR5Vuc1ug</td>\n",
              "      <td>n6-Gk65cPZL6Uz8qRm3NYw</td>\n",
              "      <td>WTqjgwHlXbSFevF32_DJVw</td>\n",
              "      <td>5.00</td>\n",
              "      <td>2016-11-09 20:09:03</td>\n",
              "    </tr>\n",
              "    <tr>\n",
              "      <th>2</th>\n",
              "      <td>G7XHMxG0bx9oBJNECG4IFg</td>\n",
              "      <td>jlu4CztcSxrKx56ba1a5AQ</td>\n",
              "      <td>3fw2X5bZYeW9xCz_zGhOHg</td>\n",
              "      <td>3.00</td>\n",
              "      <td>2016-05-07 01:21:02</td>\n",
              "    </tr>\n",
              "    <tr>\n",
              "      <th>3</th>\n",
              "      <td>8e9HxxLjjqc9ez5ezzN7iQ</td>\n",
              "      <td>d6xvYpyzcfbF_AZ8vMB7QA</td>\n",
              "      <td>zvO-PJCpNk4fgAVUnExYAA</td>\n",
              "      <td>1.00</td>\n",
              "      <td>2010-10-05 19:12:35</td>\n",
              "    </tr>\n",
              "    <tr>\n",
              "      <th>4</th>\n",
              "      <td>qrffudO73zsslZbe8B9D3Q</td>\n",
              "      <td>sG_h0dIzTKWa3Q6fmb4u-g</td>\n",
              "      <td>b2jN2mm9Wf3RcrZCgfo1cg</td>\n",
              "      <td>2.00</td>\n",
              "      <td>2015-01-18 14:04:18</td>\n",
              "    </tr>\n",
              "  </tbody>\n",
              "</table>\n",
              "</div>"
            ],
            "text/plain": [
              "                review_id                 user_id  ... rating                 date\n",
              "0  Q1sbwvVQXV2734tPgoKj4Q  hG7b0MtEbXx5QzbzE6C_VA  ...   1.00  2013-05-07 04:34:36\n",
              "1  2TzJjDVDEuAW6MR5Vuc1ug  n6-Gk65cPZL6Uz8qRm3NYw  ...   5.00  2016-11-09 20:09:03\n",
              "2  G7XHMxG0bx9oBJNECG4IFg  jlu4CztcSxrKx56ba1a5AQ  ...   3.00  2016-05-07 01:21:02\n",
              "3  8e9HxxLjjqc9ez5ezzN7iQ  d6xvYpyzcfbF_AZ8vMB7QA  ...   1.00  2010-10-05 19:12:35\n",
              "4  qrffudO73zsslZbe8B9D3Q  sG_h0dIzTKWa3Q6fmb4u-g  ...   2.00  2015-01-18 14:04:18\n",
              "\n",
              "[5 rows x 5 columns]"
            ]
          },
          "metadata": {
            "tags": []
          },
          "execution_count": 15
        }
      ]
    },
    {
      "cell_type": "code",
      "metadata": {
        "id": "Il9KzpxjHI4R",
        "colab_type": "code",
        "outputId": "9e79129d-0aca-4d4f-ca4d-82aa807d2dc1",
        "colab": {
          "base_uri": "https://localhost:8080/",
          "height": 300
        }
      },
      "source": [
        "train.describe()"
      ],
      "execution_count": 0,
      "outputs": [
        {
          "output_type": "execute_result",
          "data": {
            "text/html": [
              "<div>\n",
              "<style scoped>\n",
              "    .dataframe tbody tr th:only-of-type {\n",
              "        vertical-align: middle;\n",
              "    }\n",
              "\n",
              "    .dataframe tbody tr th {\n",
              "        vertical-align: top;\n",
              "    }\n",
              "\n",
              "    .dataframe thead th {\n",
              "        text-align: right;\n",
              "    }\n",
              "</style>\n",
              "<table border=\"1\" class=\"dataframe\">\n",
              "  <thead>\n",
              "    <tr style=\"text-align: right;\">\n",
              "      <th></th>\n",
              "      <th>rating</th>\n",
              "    </tr>\n",
              "  </thead>\n",
              "  <tbody>\n",
              "    <tr>\n",
              "      <th>count</th>\n",
              "      <td>4252142.00</td>\n",
              "    </tr>\n",
              "    <tr>\n",
              "      <th>mean</th>\n",
              "      <td>3.75</td>\n",
              "    </tr>\n",
              "    <tr>\n",
              "      <th>std</th>\n",
              "      <td>1.35</td>\n",
              "    </tr>\n",
              "    <tr>\n",
              "      <th>min</th>\n",
              "      <td>1.00</td>\n",
              "    </tr>\n",
              "    <tr>\n",
              "      <th>25%</th>\n",
              "      <td>3.00</td>\n",
              "    </tr>\n",
              "    <tr>\n",
              "      <th>50%</th>\n",
              "      <td>4.00</td>\n",
              "    </tr>\n",
              "    <tr>\n",
              "      <th>75%</th>\n",
              "      <td>5.00</td>\n",
              "    </tr>\n",
              "    <tr>\n",
              "      <th>max</th>\n",
              "      <td>5.00</td>\n",
              "    </tr>\n",
              "  </tbody>\n",
              "</table>\n",
              "</div>"
            ],
            "text/plain": [
              "          rating\n",
              "count 4252142.00\n",
              "mean        3.75\n",
              "std         1.35\n",
              "min         1.00\n",
              "25%         3.00\n",
              "50%         4.00\n",
              "75%         5.00\n",
              "max         5.00"
            ]
          },
          "metadata": {
            "tags": []
          },
          "execution_count": 16
        }
      ]
    },
    {
      "cell_type": "code",
      "metadata": {
        "id": "palGJOBwJHHL",
        "colab_type": "code",
        "outputId": "618c2e41-6be9-473b-d1f9-b9f1386fadb9",
        "colab": {
          "base_uri": "https://localhost:8080/",
          "height": 237
        }
      },
      "source": [
        "train.user_id.value_counts()"
      ],
      "execution_count": 0,
      "outputs": [
        {
          "output_type": "execute_result",
          "data": {
            "text/plain": [
              "CxDOIDnH8gp9KXzpBHJYXw    4128\n",
              "bLbSNkLggFnqwNNzzq-Ijw    2353\n",
              "PKEzKWv_FktMm2mGPjwd0Q    1821\n",
              "ELcQDlf69kb-ihJfxZyL0A    1763\n",
              "DK57YibC5ShBmqQl97CKog    1726\n",
              "                          ... \n",
              "mXimc5-6ty518Nh3UFLzgA       4\n",
              "qdkkG3t_piHaR4IiAtR2YA       4\n",
              "p2FRjdnz2z06BCzuu_I0Lg       4\n",
              "t21dZOntAXHdkrlw80hDCg       4\n",
              "eM4cjVUyX--72bHZiCM9gA       4\n",
              "Name: user_id, Length: 286130, dtype: int64"
            ]
          },
          "metadata": {
            "tags": []
          },
          "execution_count": 17
        }
      ]
    },
    {
      "cell_type": "markdown",
      "metadata": {
        "id": "4kVgt-FZyCB3",
        "colab_type": "text"
      },
      "source": [
        "### Calculate user and business bias in Train set"
      ]
    },
    {
      "cell_type": "code",
      "metadata": {
        "id": "Gvu2XPI_yBh-",
        "colab_type": "code",
        "colab": {}
      },
      "source": [
        "grouped_user = train.groupby(\"user_id\")['rating'].mean()"
      ],
      "execution_count": 0,
      "outputs": []
    },
    {
      "cell_type": "code",
      "metadata": {
        "id": "ugGKxyRzy3wY",
        "colab_type": "code",
        "outputId": "6503be79-7ef9-4881-b556-d980a8f532d6",
        "colab": {
          "base_uri": "https://localhost:8080/",
          "height": 256
        }
      },
      "source": [
        "grouped_user"
      ],
      "execution_count": 0,
      "outputs": [
        {
          "output_type": "execute_result",
          "data": {
            "text/plain": [
              "user_id\n",
              "---1lKK3aKOuomHnwAkAow   4.01\n",
              "--0kuuLmuYBe3Rmu0Iycww   3.45\n",
              "--2HUmLkcNHZp0xw6AMBPg   4.58\n",
              "--2vR0DIsmQ6WfcSzKWigw   4.12\n",
              "--3WaS23LcIXtxyFULJHTA   3.93\n",
              "                         ... \n",
              "zzrZ8gFESj5pe-SFZ-h0lw   4.80\n",
              "zzsmdXHUFBYuKUtPbXWjRA   5.00\n",
              "zzvV3l9IqTRX7Db8nxThbA   4.25\n",
              "zzw0Z6-_VDp9ShIRSKIsQw   3.22\n",
              "zzxZoMmjbUjXcWZzrE3PIw   1.80\n",
              "Name: rating, Length: 286130, dtype: float64"
            ]
          },
          "metadata": {
            "tags": []
          },
          "execution_count": 19
        }
      ]
    },
    {
      "cell_type": "code",
      "metadata": {
        "id": "VYvP-1PK2hSp",
        "colab_type": "code",
        "colab": {}
      },
      "source": [
        "grouped_bus = train.groupby(\"business_id\")['rating'].mean()"
      ],
      "execution_count": 0,
      "outputs": []
    },
    {
      "cell_type": "code",
      "metadata": {
        "id": "m259sKr12lCg",
        "colab_type": "code",
        "outputId": "d82f3a66-86c6-4258-fe97-93ad1be574b5",
        "colab": {
          "base_uri": "https://localhost:8080/",
          "height": 256
        }
      },
      "source": [
        "grouped_bus"
      ],
      "execution_count": 0,
      "outputs": [
        {
          "output_type": "execute_result",
          "data": {
            "text/plain": [
              "business_id\n",
              "--1UhMGODdWsrMastO9DZw   4.25\n",
              "--6MefnULPED_I942VcFNA   3.30\n",
              "--7zmmkVg-IMGaXbuVd0SQ   3.79\n",
              "--8LPVSo5i0Oo61X01sV9A   3.00\n",
              "--9QQLMTbFzLJ_oT-ON3Xw   3.36\n",
              "                         ... \n",
              "zzvlwkcNR1CCqOPXwuvz2A   4.00\n",
              "zzwaS0xn1MVEPEf0hNLjew   3.59\n",
              "zzwhN7x37nyjP0ZM8oiHmw   4.07\n",
              "zzwicjPC9g246MK2M1ZFBA   3.10\n",
              "zzzaIBwimxVej4tY6qFOUQ   3.48\n",
              "Name: rating, Length: 183398, dtype: float64"
            ]
          },
          "metadata": {
            "tags": []
          },
          "execution_count": 21
        }
      ]
    },
    {
      "cell_type": "markdown",
      "metadata": {
        "id": "p6LHV0HA2t11",
        "colab_type": "text"
      },
      "source": [
        "Calculate global rating mean"
      ]
    },
    {
      "cell_type": "code",
      "metadata": {
        "id": "KpV6TyP42w1i",
        "colab_type": "code",
        "outputId": "2c422a97-df4a-4c43-ee1e-158210709d9c",
        "colab": {
          "base_uri": "https://localhost:8080/",
          "height": 35
        }
      },
      "source": [
        "global_mean = train.rating.mean()\n",
        "global_mean"
      ],
      "execution_count": 0,
      "outputs": [
        {
          "output_type": "execute_result",
          "data": {
            "text/plain": [
              "3.7483973959477366"
            ]
          },
          "metadata": {
            "tags": []
          },
          "execution_count": 22
        }
      ]
    },
    {
      "cell_type": "markdown",
      "metadata": {
        "id": "FGXbazei3KAt",
        "colab_type": "text"
      },
      "source": [
        "Substract the global mean to each user and business mean to calculate user and business bias"
      ]
    },
    {
      "cell_type": "code",
      "metadata": {
        "id": "HbBqP12hc3AW",
        "colab_type": "code",
        "colab": {}
      },
      "source": [
        "user_bias = (grouped_user - global_mean).to_frame(name='u_bias').reset_index(level=0)\n",
        "bus_bias = (grouped_bus - global_mean).to_frame(name='b_bias').reset_index(level=0)"
      ],
      "execution_count": 0,
      "outputs": []
    },
    {
      "cell_type": "code",
      "metadata": {
        "id": "18qxJvpR3R_h",
        "colab_type": "code",
        "outputId": "3fd36500-19f5-4fc3-a7be-b4026a69952f",
        "colab": {
          "base_uri": "https://localhost:8080/",
          "height": 424
        }
      },
      "source": [
        "user_bias"
      ],
      "execution_count": 0,
      "outputs": [
        {
          "output_type": "execute_result",
          "data": {
            "text/html": [
              "<div>\n",
              "<style scoped>\n",
              "    .dataframe tbody tr th:only-of-type {\n",
              "        vertical-align: middle;\n",
              "    }\n",
              "\n",
              "    .dataframe tbody tr th {\n",
              "        vertical-align: top;\n",
              "    }\n",
              "\n",
              "    .dataframe thead th {\n",
              "        text-align: right;\n",
              "    }\n",
              "</style>\n",
              "<table border=\"1\" class=\"dataframe\">\n",
              "  <thead>\n",
              "    <tr style=\"text-align: right;\">\n",
              "      <th></th>\n",
              "      <th>user_id</th>\n",
              "      <th>u_bias</th>\n",
              "    </tr>\n",
              "  </thead>\n",
              "  <tbody>\n",
              "    <tr>\n",
              "      <th>0</th>\n",
              "      <td>---1lKK3aKOuomHnwAkAow</td>\n",
              "      <td>0.26</td>\n",
              "    </tr>\n",
              "    <tr>\n",
              "      <th>1</th>\n",
              "      <td>--0kuuLmuYBe3Rmu0Iycww</td>\n",
              "      <td>-0.29</td>\n",
              "    </tr>\n",
              "    <tr>\n",
              "      <th>2</th>\n",
              "      <td>--2HUmLkcNHZp0xw6AMBPg</td>\n",
              "      <td>0.83</td>\n",
              "    </tr>\n",
              "    <tr>\n",
              "      <th>3</th>\n",
              "      <td>--2vR0DIsmQ6WfcSzKWigw</td>\n",
              "      <td>0.37</td>\n",
              "    </tr>\n",
              "    <tr>\n",
              "      <th>4</th>\n",
              "      <td>--3WaS23LcIXtxyFULJHTA</td>\n",
              "      <td>0.18</td>\n",
              "    </tr>\n",
              "    <tr>\n",
              "      <th>...</th>\n",
              "      <td>...</td>\n",
              "      <td>...</td>\n",
              "    </tr>\n",
              "    <tr>\n",
              "      <th>286125</th>\n",
              "      <td>zzrZ8gFESj5pe-SFZ-h0lw</td>\n",
              "      <td>1.05</td>\n",
              "    </tr>\n",
              "    <tr>\n",
              "      <th>286126</th>\n",
              "      <td>zzsmdXHUFBYuKUtPbXWjRA</td>\n",
              "      <td>1.25</td>\n",
              "    </tr>\n",
              "    <tr>\n",
              "      <th>286127</th>\n",
              "      <td>zzvV3l9IqTRX7Db8nxThbA</td>\n",
              "      <td>0.50</td>\n",
              "    </tr>\n",
              "    <tr>\n",
              "      <th>286128</th>\n",
              "      <td>zzw0Z6-_VDp9ShIRSKIsQw</td>\n",
              "      <td>-0.53</td>\n",
              "    </tr>\n",
              "    <tr>\n",
              "      <th>286129</th>\n",
              "      <td>zzxZoMmjbUjXcWZzrE3PIw</td>\n",
              "      <td>-1.95</td>\n",
              "    </tr>\n",
              "  </tbody>\n",
              "</table>\n",
              "<p>286130 rows × 2 columns</p>\n",
              "</div>"
            ],
            "text/plain": [
              "                       user_id  u_bias\n",
              "0       ---1lKK3aKOuomHnwAkAow    0.26\n",
              "1       --0kuuLmuYBe3Rmu0Iycww   -0.29\n",
              "2       --2HUmLkcNHZp0xw6AMBPg    0.83\n",
              "3       --2vR0DIsmQ6WfcSzKWigw    0.37\n",
              "4       --3WaS23LcIXtxyFULJHTA    0.18\n",
              "...                        ...     ...\n",
              "286125  zzrZ8gFESj5pe-SFZ-h0lw    1.05\n",
              "286126  zzsmdXHUFBYuKUtPbXWjRA    1.25\n",
              "286127  zzvV3l9IqTRX7Db8nxThbA    0.50\n",
              "286128  zzw0Z6-_VDp9ShIRSKIsQw   -0.53\n",
              "286129  zzxZoMmjbUjXcWZzrE3PIw   -1.95\n",
              "\n",
              "[286130 rows x 2 columns]"
            ]
          },
          "metadata": {
            "tags": []
          },
          "execution_count": 24
        }
      ]
    },
    {
      "cell_type": "code",
      "metadata": {
        "id": "zsqzHWh8dfpx",
        "colab_type": "code",
        "outputId": "9da767d3-859a-4b16-f9bb-4d201436123b",
        "colab": {
          "base_uri": "https://localhost:8080/",
          "height": 424
        }
      },
      "source": [
        "bus_bias"
      ],
      "execution_count": 0,
      "outputs": [
        {
          "output_type": "execute_result",
          "data": {
            "text/html": [
              "<div>\n",
              "<style scoped>\n",
              "    .dataframe tbody tr th:only-of-type {\n",
              "        vertical-align: middle;\n",
              "    }\n",
              "\n",
              "    .dataframe tbody tr th {\n",
              "        vertical-align: top;\n",
              "    }\n",
              "\n",
              "    .dataframe thead th {\n",
              "        text-align: right;\n",
              "    }\n",
              "</style>\n",
              "<table border=\"1\" class=\"dataframe\">\n",
              "  <thead>\n",
              "    <tr style=\"text-align: right;\">\n",
              "      <th></th>\n",
              "      <th>business_id</th>\n",
              "      <th>b_bias</th>\n",
              "    </tr>\n",
              "  </thead>\n",
              "  <tbody>\n",
              "    <tr>\n",
              "      <th>0</th>\n",
              "      <td>--1UhMGODdWsrMastO9DZw</td>\n",
              "      <td>0.50</td>\n",
              "    </tr>\n",
              "    <tr>\n",
              "      <th>1</th>\n",
              "      <td>--6MefnULPED_I942VcFNA</td>\n",
              "      <td>-0.45</td>\n",
              "    </tr>\n",
              "    <tr>\n",
              "      <th>2</th>\n",
              "      <td>--7zmmkVg-IMGaXbuVd0SQ</td>\n",
              "      <td>0.04</td>\n",
              "    </tr>\n",
              "    <tr>\n",
              "      <th>3</th>\n",
              "      <td>--8LPVSo5i0Oo61X01sV9A</td>\n",
              "      <td>-0.75</td>\n",
              "    </tr>\n",
              "    <tr>\n",
              "      <th>4</th>\n",
              "      <td>--9QQLMTbFzLJ_oT-ON3Xw</td>\n",
              "      <td>-0.38</td>\n",
              "    </tr>\n",
              "    <tr>\n",
              "      <th>...</th>\n",
              "      <td>...</td>\n",
              "      <td>...</td>\n",
              "    </tr>\n",
              "    <tr>\n",
              "      <th>183393</th>\n",
              "      <td>zzvlwkcNR1CCqOPXwuvz2A</td>\n",
              "      <td>0.25</td>\n",
              "    </tr>\n",
              "    <tr>\n",
              "      <th>183394</th>\n",
              "      <td>zzwaS0xn1MVEPEf0hNLjew</td>\n",
              "      <td>-0.16</td>\n",
              "    </tr>\n",
              "    <tr>\n",
              "      <th>183395</th>\n",
              "      <td>zzwhN7x37nyjP0ZM8oiHmw</td>\n",
              "      <td>0.33</td>\n",
              "    </tr>\n",
              "    <tr>\n",
              "      <th>183396</th>\n",
              "      <td>zzwicjPC9g246MK2M1ZFBA</td>\n",
              "      <td>-0.64</td>\n",
              "    </tr>\n",
              "    <tr>\n",
              "      <th>183397</th>\n",
              "      <td>zzzaIBwimxVej4tY6qFOUQ</td>\n",
              "      <td>-0.26</td>\n",
              "    </tr>\n",
              "  </tbody>\n",
              "</table>\n",
              "<p>183398 rows × 2 columns</p>\n",
              "</div>"
            ],
            "text/plain": [
              "                   business_id  b_bias\n",
              "0       --1UhMGODdWsrMastO9DZw    0.50\n",
              "1       --6MefnULPED_I942VcFNA   -0.45\n",
              "2       --7zmmkVg-IMGaXbuVd0SQ    0.04\n",
              "3       --8LPVSo5i0Oo61X01sV9A   -0.75\n",
              "4       --9QQLMTbFzLJ_oT-ON3Xw   -0.38\n",
              "...                        ...     ...\n",
              "183393  zzvlwkcNR1CCqOPXwuvz2A    0.25\n",
              "183394  zzwaS0xn1MVEPEf0hNLjew   -0.16\n",
              "183395  zzwhN7x37nyjP0ZM8oiHmw    0.33\n",
              "183396  zzwicjPC9g246MK2M1ZFBA   -0.64\n",
              "183397  zzzaIBwimxVej4tY6qFOUQ   -0.26\n",
              "\n",
              "[183398 rows x 2 columns]"
            ]
          },
          "metadata": {
            "tags": []
          },
          "execution_count": 25
        }
      ]
    },
    {
      "cell_type": "markdown",
      "metadata": {
        "id": "49pI_e-EpBc-",
        "colab_type": "text"
      },
      "source": [
        "Read last review file and make a prediction for this data"
      ]
    },
    {
      "cell_type": "code",
      "metadata": {
        "id": "KvBauMcZpG5E",
        "colab_type": "code",
        "colab": {}
      },
      "source": [
        "last_review = pd.read_csv(drive_root+\"Clean Data/last_review.csv\", low_memory=False)"
      ],
      "execution_count": 0,
      "outputs": []
    },
    {
      "cell_type": "code",
      "metadata": {
        "id": "Jskt_ITxpTZ2",
        "colab_type": "code",
        "colab": {}
      },
      "source": [
        "#merge test set with bias columns\n",
        "last_review_pred = pd.merge(pd.merge(last_review,user_bias, how='left',on='user_id'),bus_bias, how='left',on='business_id')"
      ],
      "execution_count": 0,
      "outputs": []
    },
    {
      "cell_type": "code",
      "metadata": {
        "id": "B8XfLynPpxwh",
        "colab_type": "code",
        "outputId": "dd433ae3-14b4-4e93-fb66-896c8ea4f071",
        "colab": {
          "base_uri": "https://localhost:8080/",
          "height": 424
        }
      },
      "source": [
        "last_review_pred"
      ],
      "execution_count": 0,
      "outputs": [
        {
          "output_type": "execute_result",
          "data": {
            "text/html": [
              "<div>\n",
              "<style scoped>\n",
              "    .dataframe tbody tr th:only-of-type {\n",
              "        vertical-align: middle;\n",
              "    }\n",
              "\n",
              "    .dataframe tbody tr th {\n",
              "        vertical-align: top;\n",
              "    }\n",
              "\n",
              "    .dataframe thead th {\n",
              "        text-align: right;\n",
              "    }\n",
              "</style>\n",
              "<table border=\"1\" class=\"dataframe\">\n",
              "  <thead>\n",
              "    <tr style=\"text-align: right;\">\n",
              "      <th></th>\n",
              "      <th>review_id</th>\n",
              "      <th>user_id</th>\n",
              "      <th>business_id</th>\n",
              "      <th>rating</th>\n",
              "      <th>date</th>\n",
              "      <th>u_bias</th>\n",
              "      <th>b_bias</th>\n",
              "    </tr>\n",
              "  </thead>\n",
              "  <tbody>\n",
              "    <tr>\n",
              "      <th>0</th>\n",
              "      <td>wEJK2PeiS6Au0TOyxTyqUA</td>\n",
              "      <td>---1lKK3aKOuomHnwAkAow</td>\n",
              "      <td>Hqs4YNST_ZHbshwyi4bnsQ</td>\n",
              "      <td>5.00</td>\n",
              "      <td>2018-10-11 23:29:57</td>\n",
              "      <td>0.26</td>\n",
              "      <td>0.65</td>\n",
              "    </tr>\n",
              "    <tr>\n",
              "      <th>1</th>\n",
              "      <td>8QLqN2qZPeN6qh4i9tj-rw</td>\n",
              "      <td>--0kuuLmuYBe3Rmu0Iycww</td>\n",
              "      <td>PYe_FDw6QTbTf66WcGE_tw</td>\n",
              "      <td>2.00</td>\n",
              "      <td>2014-04-21 16:58:28</td>\n",
              "      <td>-0.29</td>\n",
              "      <td>0.25</td>\n",
              "    </tr>\n",
              "    <tr>\n",
              "      <th>2</th>\n",
              "      <td>dgtVm1qaV3KSzC1Cv7M7kg</td>\n",
              "      <td>--2HUmLkcNHZp0xw6AMBPg</td>\n",
              "      <td>KW9RNyBPmc77f9FsO92qYw</td>\n",
              "      <td>5.00</td>\n",
              "      <td>2018-10-04 02:02:28</td>\n",
              "      <td>0.83</td>\n",
              "      <td>-0.73</td>\n",
              "    </tr>\n",
              "    <tr>\n",
              "      <th>3</th>\n",
              "      <td>419OFmkJ4DSc2zkjuxX5hw</td>\n",
              "      <td>--2vR0DIsmQ6WfcSzKWigw</td>\n",
              "      <td>BLIJ-p5wYuAhw6Pp6mh6mw</td>\n",
              "      <td>3.00</td>\n",
              "      <td>2018-01-11 04:24:17</td>\n",
              "      <td>0.37</td>\n",
              "      <td>-0.34</td>\n",
              "    </tr>\n",
              "    <tr>\n",
              "      <th>4</th>\n",
              "      <td>6KblMvyPMH__K_eMKhHWOg</td>\n",
              "      <td>--3WaS23LcIXtxyFULJHTA</td>\n",
              "      <td>UKrfUw8quQiQM2N9i1nH0g</td>\n",
              "      <td>4.00</td>\n",
              "      <td>2018-09-03 19:32:11</td>\n",
              "      <td>0.18</td>\n",
              "      <td>0.92</td>\n",
              "    </tr>\n",
              "    <tr>\n",
              "      <th>...</th>\n",
              "      <td>...</td>\n",
              "      <td>...</td>\n",
              "      <td>...</td>\n",
              "      <td>...</td>\n",
              "      <td>...</td>\n",
              "      <td>...</td>\n",
              "      <td>...</td>\n",
              "    </tr>\n",
              "    <tr>\n",
              "      <th>286125</th>\n",
              "      <td>oOxa0qNQK6RLK-EsasCQzg</td>\n",
              "      <td>zzrZ8gFESj5pe-SFZ-h0lw</td>\n",
              "      <td>P2uNvUI1RCX8RGKFzj4ceA</td>\n",
              "      <td>5.00</td>\n",
              "      <td>2018-08-02 21:26:39</td>\n",
              "      <td>1.05</td>\n",
              "      <td>-2.75</td>\n",
              "    </tr>\n",
              "    <tr>\n",
              "      <th>286126</th>\n",
              "      <td>ElFGQ4pTi4geHQ2mYBDzug</td>\n",
              "      <td>zzsmdXHUFBYuKUtPbXWjRA</td>\n",
              "      <td>P6zYuNINXKKm5AZ8P5exmQ</td>\n",
              "      <td>1.00</td>\n",
              "      <td>2018-06-03 22:16:42</td>\n",
              "      <td>1.25</td>\n",
              "      <td>-1.16</td>\n",
              "    </tr>\n",
              "    <tr>\n",
              "      <th>286127</th>\n",
              "      <td>3NlTwm1txpcG-ZepmZ66Yg</td>\n",
              "      <td>zzvV3l9IqTRX7Db8nxThbA</td>\n",
              "      <td>LucXqItGj0JZD6EgySOakg</td>\n",
              "      <td>5.00</td>\n",
              "      <td>2018-03-10 03:41:30</td>\n",
              "      <td>0.50</td>\n",
              "      <td>-0.30</td>\n",
              "    </tr>\n",
              "    <tr>\n",
              "      <th>286128</th>\n",
              "      <td>_htR70NBrPuJ5sQzm-RAkw</td>\n",
              "      <td>zzw0Z6-_VDp9ShIRSKIsQw</td>\n",
              "      <td>1hfYBwAI7pFz50l5n4JpqQ</td>\n",
              "      <td>5.00</td>\n",
              "      <td>2018-07-22 16:42:02</td>\n",
              "      <td>-0.53</td>\n",
              "      <td>0.82</td>\n",
              "    </tr>\n",
              "    <tr>\n",
              "      <th>286129</th>\n",
              "      <td>tTrtMgLmp2REgIG3Pouxdw</td>\n",
              "      <td>zzxZoMmjbUjXcWZzrE3PIw</td>\n",
              "      <td>g6l78EOVGYzMmnTSGj8TcA</td>\n",
              "      <td>1.00</td>\n",
              "      <td>2017-09-29 23:14:29</td>\n",
              "      <td>-1.95</td>\n",
              "      <td>-0.33</td>\n",
              "    </tr>\n",
              "  </tbody>\n",
              "</table>\n",
              "<p>286130 rows × 7 columns</p>\n",
              "</div>"
            ],
            "text/plain": [
              "                     review_id                 user_id  ... u_bias  b_bias\n",
              "0       wEJK2PeiS6Au0TOyxTyqUA  ---1lKK3aKOuomHnwAkAow  ...   0.26    0.65\n",
              "1       8QLqN2qZPeN6qh4i9tj-rw  --0kuuLmuYBe3Rmu0Iycww  ...  -0.29    0.25\n",
              "2       dgtVm1qaV3KSzC1Cv7M7kg  --2HUmLkcNHZp0xw6AMBPg  ...   0.83   -0.73\n",
              "3       419OFmkJ4DSc2zkjuxX5hw  --2vR0DIsmQ6WfcSzKWigw  ...   0.37   -0.34\n",
              "4       6KblMvyPMH__K_eMKhHWOg  --3WaS23LcIXtxyFULJHTA  ...   0.18    0.92\n",
              "...                        ...                     ...  ...    ...     ...\n",
              "286125  oOxa0qNQK6RLK-EsasCQzg  zzrZ8gFESj5pe-SFZ-h0lw  ...   1.05   -2.75\n",
              "286126  ElFGQ4pTi4geHQ2mYBDzug  zzsmdXHUFBYuKUtPbXWjRA  ...   1.25   -1.16\n",
              "286127  3NlTwm1txpcG-ZepmZ66Yg  zzvV3l9IqTRX7Db8nxThbA  ...   0.50   -0.30\n",
              "286128  _htR70NBrPuJ5sQzm-RAkw  zzw0Z6-_VDp9ShIRSKIsQw  ...  -0.53    0.82\n",
              "286129  tTrtMgLmp2REgIG3Pouxdw  zzxZoMmjbUjXcWZzrE3PIw  ...  -1.95   -0.33\n",
              "\n",
              "[286130 rows x 7 columns]"
            ]
          },
          "metadata": {
            "tags": []
          },
          "execution_count": 28
        }
      ]
    },
    {
      "cell_type": "code",
      "metadata": {
        "id": "bpg_gbZwp7yk",
        "colab_type": "code",
        "outputId": "a96be901-5214-4b5e-88a6-cf61be9a4b88",
        "colab": {
          "base_uri": "https://localhost:8080/",
          "height": 164
        }
      },
      "source": [
        "#check business' with no bias\n",
        "last_review_pred.isnull().sum()"
      ],
      "execution_count": 0,
      "outputs": [
        {
          "output_type": "execute_result",
          "data": {
            "text/plain": [
              "review_id         0\n",
              "user_id           0\n",
              "business_id       0\n",
              "rating            0\n",
              "date              0\n",
              "u_bias            0\n",
              "b_bias         2913\n",
              "dtype: int64"
            ]
          },
          "metadata": {
            "tags": []
          },
          "execution_count": 29
        }
      ]
    },
    {
      "cell_type": "code",
      "metadata": {
        "colab_type": "code",
        "id": "rg7_9d1dqPdn",
        "colab": {}
      },
      "source": [
        "#replace Nan business bias with zeros\n",
        "last_review_pred.b_bias = last_review_pred.b_bias.fillna(0)"
      ],
      "execution_count": 0,
      "outputs": []
    },
    {
      "cell_type": "code",
      "metadata": {
        "colab_type": "code",
        "outputId": "09118bf3-236d-4de9-a510-0ba23f2e9fd7",
        "id": "Z-7sfJ3gqPeR",
        "colab": {
          "base_uri": "https://localhost:8080/",
          "height": 164
        }
      },
      "source": [
        "last_review_pred.isnull().sum()"
      ],
      "execution_count": 0,
      "outputs": [
        {
          "output_type": "execute_result",
          "data": {
            "text/plain": [
              "review_id      0\n",
              "user_id        0\n",
              "business_id    0\n",
              "rating         0\n",
              "date           0\n",
              "u_bias         0\n",
              "b_bias         0\n",
              "dtype: int64"
            ]
          },
          "metadata": {
            "tags": []
          },
          "execution_count": 31
        }
      ]
    },
    {
      "cell_type": "markdown",
      "metadata": {
        "id": "45VH_zUoO4TC",
        "colab_type": "text"
      },
      "source": [
        "Calculate predictions for last review file"
      ]
    },
    {
      "cell_type": "code",
      "metadata": {
        "id": "nzeTUSeZqbtw",
        "colab_type": "code",
        "colab": {}
      },
      "source": [
        "#create and calculate predictions for last review\n",
        "last_review_pred['prediction'] = global_mean+ last_review_pred.u_bias + last_review_pred.b_bias"
      ],
      "execution_count": 0,
      "outputs": []
    },
    {
      "cell_type": "code",
      "metadata": {
        "id": "V1YE1QiQqnRW",
        "colab_type": "code",
        "outputId": "e8158627-7914-43fb-bd9e-0bc796500b32",
        "colab": {
          "base_uri": "https://localhost:8080/",
          "height": 597
        }
      },
      "source": [
        "last_review_pred"
      ],
      "execution_count": 0,
      "outputs": [
        {
          "output_type": "execute_result",
          "data": {
            "text/html": [
              "<div>\n",
              "<style scoped>\n",
              "    .dataframe tbody tr th:only-of-type {\n",
              "        vertical-align: middle;\n",
              "    }\n",
              "\n",
              "    .dataframe tbody tr th {\n",
              "        vertical-align: top;\n",
              "    }\n",
              "\n",
              "    .dataframe thead th {\n",
              "        text-align: right;\n",
              "    }\n",
              "</style>\n",
              "<table border=\"1\" class=\"dataframe\">\n",
              "  <thead>\n",
              "    <tr style=\"text-align: right;\">\n",
              "      <th></th>\n",
              "      <th>review_id</th>\n",
              "      <th>user_id</th>\n",
              "      <th>business_id</th>\n",
              "      <th>rating</th>\n",
              "      <th>date</th>\n",
              "      <th>u_bias</th>\n",
              "      <th>b_bias</th>\n",
              "      <th>prediction</th>\n",
              "    </tr>\n",
              "  </thead>\n",
              "  <tbody>\n",
              "    <tr>\n",
              "      <th>0</th>\n",
              "      <td>wEJK2PeiS6Au0TOyxTyqUA</td>\n",
              "      <td>---1lKK3aKOuomHnwAkAow</td>\n",
              "      <td>Hqs4YNST_ZHbshwyi4bnsQ</td>\n",
              "      <td>5.00</td>\n",
              "      <td>2018-10-11 23:29:57</td>\n",
              "      <td>0.26</td>\n",
              "      <td>0.65</td>\n",
              "      <td>4.66</td>\n",
              "    </tr>\n",
              "    <tr>\n",
              "      <th>1</th>\n",
              "      <td>8QLqN2qZPeN6qh4i9tj-rw</td>\n",
              "      <td>--0kuuLmuYBe3Rmu0Iycww</td>\n",
              "      <td>PYe_FDw6QTbTf66WcGE_tw</td>\n",
              "      <td>2.00</td>\n",
              "      <td>2014-04-21 16:58:28</td>\n",
              "      <td>-0.29</td>\n",
              "      <td>0.25</td>\n",
              "      <td>3.71</td>\n",
              "    </tr>\n",
              "    <tr>\n",
              "      <th>2</th>\n",
              "      <td>dgtVm1qaV3KSzC1Cv7M7kg</td>\n",
              "      <td>--2HUmLkcNHZp0xw6AMBPg</td>\n",
              "      <td>KW9RNyBPmc77f9FsO92qYw</td>\n",
              "      <td>5.00</td>\n",
              "      <td>2018-10-04 02:02:28</td>\n",
              "      <td>0.83</td>\n",
              "      <td>-0.73</td>\n",
              "      <td>3.85</td>\n",
              "    </tr>\n",
              "    <tr>\n",
              "      <th>3</th>\n",
              "      <td>419OFmkJ4DSc2zkjuxX5hw</td>\n",
              "      <td>--2vR0DIsmQ6WfcSzKWigw</td>\n",
              "      <td>BLIJ-p5wYuAhw6Pp6mh6mw</td>\n",
              "      <td>3.00</td>\n",
              "      <td>2018-01-11 04:24:17</td>\n",
              "      <td>0.37</td>\n",
              "      <td>-0.34</td>\n",
              "      <td>3.77</td>\n",
              "    </tr>\n",
              "    <tr>\n",
              "      <th>4</th>\n",
              "      <td>6KblMvyPMH__K_eMKhHWOg</td>\n",
              "      <td>--3WaS23LcIXtxyFULJHTA</td>\n",
              "      <td>UKrfUw8quQiQM2N9i1nH0g</td>\n",
              "      <td>4.00</td>\n",
              "      <td>2018-09-03 19:32:11</td>\n",
              "      <td>0.18</td>\n",
              "      <td>0.92</td>\n",
              "      <td>4.85</td>\n",
              "    </tr>\n",
              "    <tr>\n",
              "      <th>...</th>\n",
              "      <td>...</td>\n",
              "      <td>...</td>\n",
              "      <td>...</td>\n",
              "      <td>...</td>\n",
              "      <td>...</td>\n",
              "      <td>...</td>\n",
              "      <td>...</td>\n",
              "      <td>...</td>\n",
              "    </tr>\n",
              "    <tr>\n",
              "      <th>286125</th>\n",
              "      <td>oOxa0qNQK6RLK-EsasCQzg</td>\n",
              "      <td>zzrZ8gFESj5pe-SFZ-h0lw</td>\n",
              "      <td>P2uNvUI1RCX8RGKFzj4ceA</td>\n",
              "      <td>5.00</td>\n",
              "      <td>2018-08-02 21:26:39</td>\n",
              "      <td>1.05</td>\n",
              "      <td>-2.75</td>\n",
              "      <td>2.05</td>\n",
              "    </tr>\n",
              "    <tr>\n",
              "      <th>286126</th>\n",
              "      <td>ElFGQ4pTi4geHQ2mYBDzug</td>\n",
              "      <td>zzsmdXHUFBYuKUtPbXWjRA</td>\n",
              "      <td>P6zYuNINXKKm5AZ8P5exmQ</td>\n",
              "      <td>1.00</td>\n",
              "      <td>2018-06-03 22:16:42</td>\n",
              "      <td>1.25</td>\n",
              "      <td>-1.16</td>\n",
              "      <td>3.84</td>\n",
              "    </tr>\n",
              "    <tr>\n",
              "      <th>286127</th>\n",
              "      <td>3NlTwm1txpcG-ZepmZ66Yg</td>\n",
              "      <td>zzvV3l9IqTRX7Db8nxThbA</td>\n",
              "      <td>LucXqItGj0JZD6EgySOakg</td>\n",
              "      <td>5.00</td>\n",
              "      <td>2018-03-10 03:41:30</td>\n",
              "      <td>0.50</td>\n",
              "      <td>-0.30</td>\n",
              "      <td>3.95</td>\n",
              "    </tr>\n",
              "    <tr>\n",
              "      <th>286128</th>\n",
              "      <td>_htR70NBrPuJ5sQzm-RAkw</td>\n",
              "      <td>zzw0Z6-_VDp9ShIRSKIsQw</td>\n",
              "      <td>1hfYBwAI7pFz50l5n4JpqQ</td>\n",
              "      <td>5.00</td>\n",
              "      <td>2018-07-22 16:42:02</td>\n",
              "      <td>-0.53</td>\n",
              "      <td>0.82</td>\n",
              "      <td>4.05</td>\n",
              "    </tr>\n",
              "    <tr>\n",
              "      <th>286129</th>\n",
              "      <td>tTrtMgLmp2REgIG3Pouxdw</td>\n",
              "      <td>zzxZoMmjbUjXcWZzrE3PIw</td>\n",
              "      <td>g6l78EOVGYzMmnTSGj8TcA</td>\n",
              "      <td>1.00</td>\n",
              "      <td>2017-09-29 23:14:29</td>\n",
              "      <td>-1.95</td>\n",
              "      <td>-0.33</td>\n",
              "      <td>1.47</td>\n",
              "    </tr>\n",
              "  </tbody>\n",
              "</table>\n",
              "<p>286130 rows × 8 columns</p>\n",
              "</div>"
            ],
            "text/plain": [
              "                     review_id                 user_id  ... b_bias  prediction\n",
              "0       wEJK2PeiS6Au0TOyxTyqUA  ---1lKK3aKOuomHnwAkAow  ...   0.65        4.66\n",
              "1       8QLqN2qZPeN6qh4i9tj-rw  --0kuuLmuYBe3Rmu0Iycww  ...   0.25        3.71\n",
              "2       dgtVm1qaV3KSzC1Cv7M7kg  --2HUmLkcNHZp0xw6AMBPg  ...  -0.73        3.85\n",
              "3       419OFmkJ4DSc2zkjuxX5hw  --2vR0DIsmQ6WfcSzKWigw  ...  -0.34        3.77\n",
              "4       6KblMvyPMH__K_eMKhHWOg  --3WaS23LcIXtxyFULJHTA  ...   0.92        4.85\n",
              "...                        ...                     ...  ...    ...         ...\n",
              "286125  oOxa0qNQK6RLK-EsasCQzg  zzrZ8gFESj5pe-SFZ-h0lw  ...  -2.75        2.05\n",
              "286126  ElFGQ4pTi4geHQ2mYBDzug  zzsmdXHUFBYuKUtPbXWjRA  ...  -1.16        3.84\n",
              "286127  3NlTwm1txpcG-ZepmZ66Yg  zzvV3l9IqTRX7Db8nxThbA  ...  -0.30        3.95\n",
              "286128  _htR70NBrPuJ5sQzm-RAkw  zzw0Z6-_VDp9ShIRSKIsQw  ...   0.82        4.05\n",
              "286129  tTrtMgLmp2REgIG3Pouxdw  zzxZoMmjbUjXcWZzrE3PIw  ...  -0.33        1.47\n",
              "\n",
              "[286130 rows x 8 columns]"
            ]
          },
          "metadata": {
            "tags": []
          },
          "execution_count": 33
        }
      ]
    },
    {
      "cell_type": "markdown",
      "metadata": {
        "id": "Zu18nRk5CwIX",
        "colab_type": "text"
      },
      "source": [
        "With predictions done, calculate RMSE of the model on Test set"
      ]
    },
    {
      "cell_type": "code",
      "metadata": {
        "id": "BppjjMIeIINp",
        "colab_type": "code",
        "outputId": "f482f04f-e8b7-4ff5-e00b-d36b93bfe447",
        "colab": {
          "base_uri": "https://localhost:8080/",
          "height": 54
        }
      },
      "source": [
        "from sklearn.metrics import mean_squared_error\n",
        "from sklearn.metrics import mean_absolute_error\n",
        "\n",
        "rmse = np.sqrt(mean_squared_error(last_review_pred.rating, last_review_pred.prediction))\n",
        "mae = mean_absolute_error(last_review_pred.rating, last_review_pred.prediction)\n",
        "\n",
        "print(\"The RMSE of bias based model is : {}\".format(rmse))\n",
        "print(\"The MAE of bias based model is : {}\".format(mae))"
      ],
      "execution_count": 0,
      "outputs": [
        {
          "output_type": "stream",
          "text": [
            "The RMSE of bias based model is : 1.3915867020822716\n",
            "The MAE of bias based model is : 1.0669430218853058\n"
          ],
          "name": "stdout"
        }
      ]
    },
    {
      "cell_type": "markdown",
      "metadata": {
        "id": "toTkNxcDqs6i",
        "colab_type": "text"
      },
      "source": [
        "Save predictions for last review to csv file"
      ]
    },
    {
      "cell_type": "code",
      "metadata": {
        "id": "XzIGoDVsPadr",
        "colab_type": "code",
        "colab": {}
      },
      "source": [
        "predictions_csv = last_review_pred[['review_id','user_id','business_id','rating' ,'prediction']].copy()"
      ],
      "execution_count": 0,
      "outputs": []
    },
    {
      "cell_type": "code",
      "metadata": {
        "id": "XW4OHD14qv5N",
        "colab_type": "code",
        "colab": {}
      },
      "source": [
        "predictions_csv.to_csv(drive_root+\"Bias Model/biasmodel_lastreview_predictions.csv\", index=False)"
      ],
      "execution_count": 0,
      "outputs": []
    }
  ]
}