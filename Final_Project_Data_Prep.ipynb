{
  "nbformat": 4,
  "nbformat_minor": 0,
  "metadata": {
    "colab": {
      "name": "Final Project - Data Prep",
      "provenance": [],
      "collapsed_sections": [],
      "machine_shape": "hm"
    },
    "kernelspec": {
      "name": "python3",
      "display_name": "Python 3"
    },
    "accelerator": "GPU"
  },
  "cells": [
    {
      "cell_type": "markdown",
      "metadata": {
        "id": "TY3euaScngit",
        "colab_type": "text"
      },
      "source": [
        "## Oscar Jasklowski (ovj2101), Jacqueline Araya (ja3076) \n",
        "#### Personalization IEOR 4571, Fall 2019\n",
        "#### Final Project"
      ]
    },
    {
      "cell_type": "code",
      "metadata": {
        "id": "Hqp3KmiJnP8g",
        "colab_type": "code",
        "colab": {}
      },
      "source": [
        "# Import required packages:\n",
        "import pandas as pd\n",
        "import numpy as np\n",
        "from google.colab import files, drive\n",
        "import json\n",
        "from tqdm import tqdm"
      ],
      "execution_count": 0,
      "outputs": []
    },
    {
      "cell_type": "code",
      "metadata": {
        "id": "zdXLx8YUddcD",
        "colab_type": "code",
        "colab": {}
      },
      "source": [
        "# Connect to Google Drive (to download raw data, upload clean data)\n",
        "!pip install -U -q PyDrive\n",
        "from pydrive.auth import GoogleAuth\n",
        "from pydrive.drive import GoogleDrive\n",
        "from google.colab import auth\n",
        "from oauth2client.client import GoogleCredentials\n",
        "# Authenticate and create the PyDrive client.\n",
        "auth.authenticate_user()\n",
        "gauth = GoogleAuth()\n",
        "gauth.credentials = GoogleCredentials.get_application_default()\n",
        "drive = GoogleDrive(gauth)"
      ],
      "execution_count": 0,
      "outputs": []
    },
    {
      "cell_type": "markdown",
      "metadata": {
        "id": "isKy6NRJDF3d",
        "colab_type": "text"
      },
      "source": [
        "## Data Prep Pipeline\n",
        "1. Download raw JSON data\n",
        "2. Convert to dataframes \n",
        "3. Save to CSVs in Drive \n",
        "4. (correctness check) When you read the CSVs from drive, do you get identical DFs to step 2?"
      ]
    },
    {
      "cell_type": "markdown",
      "metadata": {
        "id": "tQ2r2xatD5sb",
        "colab_type": "text"
      },
      "source": [
        "### Save all six datasets as Dataframes (and CSVs on Drive)\n",
        "1. review\n",
        "2. user\n",
        "3. business\n",
        "4. checkin\n",
        "5. tip\n",
        "6. photo\n"
      ]
    },
    {
      "cell_type": "code",
      "metadata": {
        "id": "TYdRITrSEJua",
        "colab_type": "code",
        "colab": {}
      },
      "source": [
        "# Three methods to \n",
        "# 1) download JSON data, \n",
        "# 2) save to Dataframe, and \n",
        "# 3) upload to google drive\n",
        "\n",
        "def unpack(name, id_hash):\n",
        "  downloaded = drive.CreateFile({'id': id_hash})\n",
        "  f_name = name + '.json'\n",
        "  downloaded.GetContentFile(f_name)\n",
        "  print(\"Download complete for: \", f_name)\n",
        "\n",
        "def json_to_df(filename):\n",
        "  \"\"\"\n",
        "  Inputs: Name of a JSON file\n",
        "  Output: Dataframe containing the data of the JSON file\n",
        "  \"\"\"\n",
        "  with open(filename) as json_file:\n",
        "    skel = json.loads((json_file.readline()))  \n",
        "\n",
        "  # Creates a dictionary skeleton; empty list for each key\n",
        "  for k, v in skel.items():\n",
        "    skel[k] = []\n",
        "\n",
        "  # Fill this skeleton:\n",
        "  with open(filename) as f:\n",
        "    for line in f:\n",
        "      blob = json.loads(line)\n",
        "      for key, value in blob.items():\n",
        "        skel[key] += [value]\n",
        "\n",
        "  print(\"Dataframe complete for: \", filename)\n",
        "  return pd.DataFrame(skel)\n",
        "\n",
        "def upload_csv_to_drive(destination_folder, dataframe, csv_filename):\n",
        "  dataframe.to_csv(csv_filename, index=False)\n",
        "  tmp = drive.CreateFile({\"parents\": [{\"kind\": \"drive#fileLink\", \"id\": destination_folder}]})\n",
        "  tmp.SetContentFile(csv_filename)\n",
        "  tmp.Upload()\n",
        "  print(\"Upload complete for: \", csv_filename)"
      ],
      "execution_count": 0,
      "outputs": []
    },
    {
      "cell_type": "code",
      "metadata": {
        "id": "57gLRW0zhT6-",
        "colab_type": "code",
        "outputId": "bc4879f9-b627-4070-fe6b-780963f37c46",
        "colab": {
          "base_uri": "https://localhost:8080/",
          "height": 69
        }
      },
      "source": [
        "# These IDs come from the Google Drive URL:\n",
        "\n",
        "files = {\n",
        "  'rating': '1WUEEeVt-T-JSkFicb6q8nqL3pLoyQOkD',\n",
        "  'user': '1ZTY2M8bV9OM77P4Y0DxC_IYSAptJ1Dp0',\n",
        "  'business': '1lO8K8ud6nJPUJ5sW46k6PbU79PyZGwU_',\n",
        "  'checkin': '1Sjd5LMAVakh_G3XQnwohqsz8r-lI5AUV',\n",
        "  'tip': '13mgMOYWfP_xGmuTCjsvGqFPrxuz1z60k',\n",
        "  'photo': '1b_nqCQDsXKZ-5Ks2h29HeRZQ9OvGUX3M',\n",
        "}\n",
        "\n",
        "# For each JSON, download it, transform to DF then CSV, save to Google Drive:\n",
        "for key, value in files.items():\n",
        "  unpack(key, value)\n",
        "  df_filename = key + '.json'\n",
        "  csv_filename = key + '_df.csv'\n",
        "  tmp_df = json_to_df(df_filename) \n",
        "  upload_csv_to_drive(\"138BMjfpGmQescIUmfX_4TA6A2l6g_eP_\", tmp_df, csv_filename)\n",
        "  del tmp_df\n"
      ],
      "execution_count": 0,
      "outputs": [
        {
          "output_type": "stream",
          "text": [
            "Download complete for:  tip.json\n",
            "Dataframe complete for:  tip.json\n",
            "Upload complete for:  tip_df.csv\n"
          ],
          "name": "stdout"
        }
      ]
    },
    {
      "cell_type": "code",
      "metadata": {
        "id": "wtc77I9Wlp93",
        "colab_type": "code",
        "colab": {}
      },
      "source": [
        "# Create method to upload dataframes to google drive as CSVs:\n",
        "\n",
        "def upload_csv_to_drive(destination_folder, dataframe, csv_filename):\n",
        "  dataframe.to_csv(csv_filename, index=False)\n",
        "  tmp = drive.CreateFile({\"parents\": [{\"kind\": \"drive#fileLink\", \"id\": destination_folder}]})\n",
        "  tmp.SetContentFile(csv_filename)\n",
        "  tmp.Upload()\n"
      ],
      "execution_count": 0,
      "outputs": []
    },
    {
      "cell_type": "code",
      "metadata": {
        "id": "le7KmSG80Ioj",
        "colab_type": "code",
        "colab": {}
      },
      "source": [
        "# Save to Google Drive:\n",
        "\n",
        "users.to_csv('users_df.csv', index=False)\n",
        "ratings.to_csv('ratings_df.csv', index=False)\n",
        "\n",
        "# ID of your destination folder (\"Clean Data\"):\n",
        "fid = '138BMjfpGmQescIUmfX_4TA6A2l6g_eP_'\n",
        "\n",
        "# Save Ratings\n",
        "r = drive.CreateFile({\"parents\": [{\"kind\": \"drive#fileLink\", \"id\": fid}]})\n",
        "r.SetContentFile('ratings_df.csv')\n",
        "r.Upload()\n",
        "\n",
        "# Save Users\n",
        "u = drive.CreateFile({\"parents\": [{\"kind\": \"drive#fileLink\", \"id\": fid}]})\n",
        "u.SetContentFile('users_df.csv')\n",
        "u.Upload()"
      ],
      "execution_count": 0,
      "outputs": []
    },
    {
      "cell_type": "markdown",
      "metadata": {
        "id": "g6HY-Dcn9_eL",
        "colab_type": "text"
      },
      "source": [
        "# Data cleaned and saved. \n"
      ]
    },
    {
      "cell_type": "markdown",
      "metadata": {
        "id": "GUDvXkDo3PU8",
        "colab_type": "text"
      },
      "source": [
        "### Sanity check: if we download our CSVs from drive, do we get the exact same dataframes as when we built them directly from JSON?"
      ]
    },
    {
      "cell_type": "code",
      "metadata": {
        "id": "cDyqIL2ynRUT",
        "colab_type": "code",
        "outputId": "169064aa-db31-4c60-ba19-357812bdbe57",
        "colab": {
          "base_uri": "https://localhost:8080/",
          "height": 35
        }
      },
      "source": [
        "# Great. Ratings behaving exactly as expected (after cleanup process)\n",
        "ratings.equals(ratings_test)"
      ],
      "execution_count": 0,
      "outputs": [
        {
          "output_type": "execute_result",
          "data": {
            "text/plain": [
              "True"
            ]
          },
          "metadata": {
            "tags": []
          },
          "execution_count": 159
        }
      ]
    }
  ]
}