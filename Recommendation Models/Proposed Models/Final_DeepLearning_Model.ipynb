{
  "nbformat": 4,
  "nbformat_minor": 0,
  "metadata": {
    "colab": {
      "name": "Final - DeepLearning-Model.ipynb",
      "provenance": [],
      "collapsed_sections": [],
      "machine_shape": "hm"
    },
    "kernelspec": {
      "name": "python3",
      "display_name": "Python 3"
    },
    "accelerator": "GPU"
  },
  "cells": [
    {
      "cell_type": "markdown",
      "metadata": {
        "id": "vpREAwmZSZu6",
        "colab_type": "text"
      },
      "source": [
        "#Deep Learning Model"
      ]
    },
    {
      "cell_type": "code",
      "metadata": {
        "id": "yRU3I15USToO",
        "colab_type": "code",
        "outputId": "8dad0ca0-d5a9-4f4a-e9dd-0719a865fe15",
        "colab": {
          "base_uri": "https://localhost:8080/",
          "height": 35
        }
      },
      "source": [
        "import numpy as np\n",
        "import pandas as pd\n",
        "%tensorflow_version 2.x\n",
        "import tensorflow as tf"
      ],
      "execution_count": 0,
      "outputs": [
        {
          "output_type": "stream",
          "text": [
            "TensorFlow 2.x selected.\n"
          ],
          "name": "stdout"
        }
      ]
    },
    {
      "cell_type": "code",
      "metadata": {
        "id": "uq5fHMs5tCrq",
        "colab_type": "code",
        "colab": {}
      },
      "source": [
        "from tensorflow import feature_column\n",
        "from tensorflow.keras import layers"
      ],
      "execution_count": 0,
      "outputs": []
    },
    {
      "cell_type": "code",
      "metadata": {
        "id": "7daMfR0AmDJj",
        "colab_type": "code",
        "outputId": "85f6013e-ddab-470e-d875-8aaa4f61266c",
        "colab": {
          "base_uri": "https://localhost:8080/",
          "height": 129
        }
      },
      "source": [
        "from google.colab import drive\n",
        "drive.mount('/content/drive')"
      ],
      "execution_count": 0,
      "outputs": [
        {
          "output_type": "stream",
          "text": [
            "Go to this URL in a browser: https://accounts.google.com/o/oauth2/auth?client_id=947318989803-6bn6qk8qdgf4n4g3pfee6491hc0brc4i.apps.googleusercontent.com&redirect_uri=urn%3aietf%3awg%3aoauth%3a2.0%3aoob&response_type=code&scope=email%20https%3a%2f%2fwww.googleapis.com%2fauth%2fdocs.test%20https%3a%2f%2fwww.googleapis.com%2fauth%2fdrive%20https%3a%2f%2fwww.googleapis.com%2fauth%2fdrive.photos.readonly%20https%3a%2f%2fwww.googleapis.com%2fauth%2fpeopleapi.readonly\n",
            "\n",
            "Enter your authorization code:\n",
            "··········\n",
            "Mounted at /content/drive\n"
          ],
          "name": "stdout"
        }
      ]
    },
    {
      "cell_type": "code",
      "metadata": {
        "id": "i1RtoyuAmDmz",
        "colab_type": "code",
        "colab": {}
      },
      "source": [
        "drive_root = \"/content/drive/My Drive/Final Project/\""
      ],
      "execution_count": 0,
      "outputs": []
    },
    {
      "cell_type": "code",
      "metadata": {
        "id": "_7DmzX0cIPM3",
        "colab_type": "code",
        "colab": {}
      },
      "source": [
        "pd.set_option('display.float_format', lambda x: '%.2f' % x)"
      ],
      "execution_count": 0,
      "outputs": []
    },
    {
      "cell_type": "markdown",
      "metadata": {
        "id": "xBVvVn-RVc3H",
        "colab_type": "text"
      },
      "source": [
        "### Read data and transform to Dataframe"
      ]
    },
    {
      "cell_type": "code",
      "metadata": {
        "id": "7X0UTY0mFkVT",
        "colab_type": "code",
        "colab": {}
      },
      "source": [
        "traincsv = pd.read_csv(drive_root+\"Clean Data/train_set_new.csv\", low_memory=False)\n",
        "train = traincsv[['review_id','user_id', 'business_id', 'rating']].copy()\n",
        "\n",
        "last_review = pd.read_csv(drive_root+\"Clean Data/last_review.csv\", low_memory=False)\n",
        "test = last_review[['review_id','user_id', 'business_id', 'rating']].copy()\n",
        "\n",
        "#val_set = pd.read_csv(drive_root+\"Clean Data/test_set_new.csv\", low_memory=False)\n",
        "#create a validation set with a special split that ensures that every user in on train and validation set\n",
        "val = (train.groupby('user_id')).apply(lambda x: x.sample(n=round(0.2*len(x)))).droplevel(level=0)\n",
        "#val = val_set[['review_id','user_id', 'business_id', 'rating']].copy()"
      ],
      "execution_count": 0,
      "outputs": []
    },
    {
      "cell_type": "code",
      "metadata": {
        "id": "P7VA1DgYWIa9",
        "colab_type": "code",
        "colab": {}
      },
      "source": [
        "val = val.sample(frac=1).reset_index(drop=True)"
      ],
      "execution_count": 0,
      "outputs": []
    },
    {
      "cell_type": "markdown",
      "metadata": {
        "id": "vsQkZIwbVvqq",
        "colab_type": "text"
      },
      "source": [
        "Add extra data of business/user -> features"
      ]
    },
    {
      "cell_type": "code",
      "metadata": {
        "id": "pGqr4ybP5tYt",
        "colab_type": "code",
        "colab": {}
      },
      "source": [
        "categoriescsv =  pd.read_csv(drive_root+\"Clean Data/categorization.csv\", low_memory=False)"
      ],
      "execution_count": 0,
      "outputs": []
    },
    {
      "cell_type": "code",
      "metadata": {
        "id": "Fsl3DT8EJsHu",
        "colab_type": "code",
        "outputId": "b2e56f96-5462-46c1-ad50-726c6b4381cd",
        "colab": {
          "base_uri": "https://localhost:8080/",
          "height": 244
        }
      },
      "source": [
        "categoriescsv.head()"
      ],
      "execution_count": 0,
      "outputs": [
        {
          "output_type": "execute_result",
          "data": {
            "text/html": [
              "<div>\n",
              "<style scoped>\n",
              "    .dataframe tbody tr th:only-of-type {\n",
              "        vertical-align: middle;\n",
              "    }\n",
              "\n",
              "    .dataframe tbody tr th {\n",
              "        vertical-align: top;\n",
              "    }\n",
              "\n",
              "    .dataframe thead th {\n",
              "        text-align: right;\n",
              "    }\n",
              "</style>\n",
              "<table border=\"1\" class=\"dataframe\">\n",
              "  <thead>\n",
              "    <tr style=\"text-align: right;\">\n",
              "      <th></th>\n",
              "      <th>review_id</th>\n",
              "      <th>user_id</th>\n",
              "      <th>business_id</th>\n",
              "      <th>stars</th>\n",
              "      <th>city</th>\n",
              "      <th>state</th>\n",
              "      <th>is_open</th>\n",
              "      <th>business_popularity_bin</th>\n",
              "      <th>user_activity_bin</th>\n",
              "    </tr>\n",
              "  </thead>\n",
              "  <tbody>\n",
              "    <tr>\n",
              "      <th>0</th>\n",
              "      <td>Q1sbwvVQXV2734tPgoKj4Q</td>\n",
              "      <td>hG7b0MtEbXx5QzbzE6C_VA</td>\n",
              "      <td>ujmEBvifdJM6h6RLv4wQIg</td>\n",
              "      <td>1.00</td>\n",
              "      <td>Las Vegas</td>\n",
              "      <td>NV</td>\n",
              "      <td>1.00</td>\n",
              "      <td>high</td>\n",
              "      <td>medium</td>\n",
              "    </tr>\n",
              "    <tr>\n",
              "      <th>1</th>\n",
              "      <td>GJXCdrto3ASJOqKeVWPi6Q</td>\n",
              "      <td>yXQM5uF2jS6es16SJzNHfg</td>\n",
              "      <td>NZnhc2sEQy3RmzKTZnqtwQ</td>\n",
              "      <td>5.00</td>\n",
              "      <td>Las Vegas</td>\n",
              "      <td>NV</td>\n",
              "      <td>1.00</td>\n",
              "      <td>high</td>\n",
              "      <td>exclude</td>\n",
              "    </tr>\n",
              "    <tr>\n",
              "      <th>2</th>\n",
              "      <td>2TzJjDVDEuAW6MR5Vuc1ug</td>\n",
              "      <td>n6-Gk65cPZL6Uz8qRm3NYw</td>\n",
              "      <td>WTqjgwHlXbSFevF32_DJVw</td>\n",
              "      <td>5.00</td>\n",
              "      <td>Chandler</td>\n",
              "      <td>AZ</td>\n",
              "      <td>1.00</td>\n",
              "      <td>high</td>\n",
              "      <td>low</td>\n",
              "    </tr>\n",
              "    <tr>\n",
              "      <th>3</th>\n",
              "      <td>yi0R0Ugj_xUx_Nek0-_Qig</td>\n",
              "      <td>dacAIZ6fTM6mqwW5uxkskg</td>\n",
              "      <td>ikCg8xy5JIg_NGPx-MSIDA</td>\n",
              "      <td>5.00</td>\n",
              "      <td>Calgary</td>\n",
              "      <td>AB</td>\n",
              "      <td>1.00</td>\n",
              "      <td>medium</td>\n",
              "      <td>exclude</td>\n",
              "    </tr>\n",
              "    <tr>\n",
              "      <th>4</th>\n",
              "      <td>11a8sVPMUFtaC7_ABRkmtw</td>\n",
              "      <td>ssoyf2_x0EQMed6fgHeMyQ</td>\n",
              "      <td>b1b1eb3uo-w561D0ZfCEiQ</td>\n",
              "      <td>1.00</td>\n",
              "      <td>Scottsdale</td>\n",
              "      <td>AZ</td>\n",
              "      <td>1.00</td>\n",
              "      <td>high</td>\n",
              "      <td>exclude</td>\n",
              "    </tr>\n",
              "  </tbody>\n",
              "</table>\n",
              "</div>"
            ],
            "text/plain": [
              "                review_id  ... user_activity_bin\n",
              "0  Q1sbwvVQXV2734tPgoKj4Q  ...            medium\n",
              "1  GJXCdrto3ASJOqKeVWPi6Q  ...           exclude\n",
              "2  2TzJjDVDEuAW6MR5Vuc1ug  ...               low\n",
              "3  yi0R0Ugj_xUx_Nek0-_Qig  ...           exclude\n",
              "4  11a8sVPMUFtaC7_ABRkmtw  ...           exclude\n",
              "\n",
              "[5 rows x 9 columns]"
            ]
          },
          "metadata": {
            "tags": []
          },
          "execution_count": 17
        }
      ]
    },
    {
      "cell_type": "markdown",
      "metadata": {
        "colab_type": "text",
        "id": "9nH8x5gcK0zG"
      },
      "source": [
        "Add categories of business data"
      ]
    },
    {
      "cell_type": "code",
      "metadata": {
        "colab_type": "code",
        "outputId": "7d535500-637b-4bed-987c-db0981af6198",
        "id": "IWckYsqWK0zR",
        "colab": {
          "base_uri": "https://localhost:8080/",
          "height": 206
        }
      },
      "source": [
        "buscsv = pd.read_csv(drive_root+\"Clean Data/business_df.csv\", low_memory=False, usecols=['business_id','categories'])\n",
        "buscsv.head()"
      ],
      "execution_count": 0,
      "outputs": [
        {
          "output_type": "execute_result",
          "data": {
            "text/html": [
              "<div>\n",
              "<style scoped>\n",
              "    .dataframe tbody tr th:only-of-type {\n",
              "        vertical-align: middle;\n",
              "    }\n",
              "\n",
              "    .dataframe tbody tr th {\n",
              "        vertical-align: top;\n",
              "    }\n",
              "\n",
              "    .dataframe thead th {\n",
              "        text-align: right;\n",
              "    }\n",
              "</style>\n",
              "<table border=\"1\" class=\"dataframe\">\n",
              "  <thead>\n",
              "    <tr style=\"text-align: right;\">\n",
              "      <th></th>\n",
              "      <th>business_id</th>\n",
              "      <th>categories</th>\n",
              "    </tr>\n",
              "  </thead>\n",
              "  <tbody>\n",
              "    <tr>\n",
              "      <th>0</th>\n",
              "      <td>1SWheh84yJXfytovILXOAQ</td>\n",
              "      <td>Golf, Active Life</td>\n",
              "    </tr>\n",
              "    <tr>\n",
              "      <th>1</th>\n",
              "      <td>QXAEGFB4oINsVuTFxEYKFQ</td>\n",
              "      <td>Specialty Food, Restaurants, Dim Sum, Imported...</td>\n",
              "    </tr>\n",
              "    <tr>\n",
              "      <th>2</th>\n",
              "      <td>gnKjwL_1w79qoiV3IC_xQQ</td>\n",
              "      <td>Sushi Bars, Restaurants, Japanese</td>\n",
              "    </tr>\n",
              "    <tr>\n",
              "      <th>3</th>\n",
              "      <td>xvX2CttrVhyG2z1dFg_0xw</td>\n",
              "      <td>Insurance, Financial Services</td>\n",
              "    </tr>\n",
              "    <tr>\n",
              "      <th>4</th>\n",
              "      <td>HhyxOkGAM07SRYtlQ4wMFQ</td>\n",
              "      <td>Plumbing, Shopping, Local Services, Home Servi...</td>\n",
              "    </tr>\n",
              "  </tbody>\n",
              "</table>\n",
              "</div>"
            ],
            "text/plain": [
              "              business_id                                         categories\n",
              "0  1SWheh84yJXfytovILXOAQ                                  Golf, Active Life\n",
              "1  QXAEGFB4oINsVuTFxEYKFQ  Specialty Food, Restaurants, Dim Sum, Imported...\n",
              "2  gnKjwL_1w79qoiV3IC_xQQ                  Sushi Bars, Restaurants, Japanese\n",
              "3  xvX2CttrVhyG2z1dFg_0xw                      Insurance, Financial Services\n",
              "4  HhyxOkGAM07SRYtlQ4wMFQ  Plumbing, Shopping, Local Services, Home Servi..."
            ]
          },
          "metadata": {
            "tags": []
          },
          "execution_count": 18
        }
      ]
    },
    {
      "cell_type": "code",
      "metadata": {
        "colab_type": "code",
        "id": "6W-SWM1yK0zl",
        "colab": {}
      },
      "source": [
        "#merge features with categories\n",
        "cat_bus = pd.merge(categoriescsv,buscsv, on=['business_id'], how='inner')"
      ],
      "execution_count": 0,
      "outputs": []
    },
    {
      "cell_type": "code",
      "metadata": {
        "id": "vr_40_6NQJUw",
        "colab_type": "code",
        "colab": {}
      },
      "source": [
        "#merge train/test/val with features\n",
        "train2 = pd.merge(train, cat_bus, on=['review_id','user_id','business_id'],how='inner')\n",
        "test2 = pd.merge(test, cat_bus, on=['review_id','user_id','business_id'],how='inner')\n",
        "val2 = pd.merge(val, cat_bus, on=['review_id','user_id','business_id'],how='inner')"
      ],
      "execution_count": 0,
      "outputs": []
    },
    {
      "cell_type": "code",
      "metadata": {
        "id": "z7BpSh0NHSOV",
        "colab_type": "code",
        "outputId": "5728788e-d00c-4d1a-ec89-0a8d24da2c90",
        "colab": {
          "base_uri": "https://localhost:8080/",
          "height": 355
        }
      },
      "source": [
        "train2.head(3)"
      ],
      "execution_count": 0,
      "outputs": [
        {
          "output_type": "execute_result",
          "data": {
            "text/html": [
              "<div>\n",
              "<style scoped>\n",
              "    .dataframe tbody tr th:only-of-type {\n",
              "        vertical-align: middle;\n",
              "    }\n",
              "\n",
              "    .dataframe tbody tr th {\n",
              "        vertical-align: top;\n",
              "    }\n",
              "\n",
              "    .dataframe thead th {\n",
              "        text-align: right;\n",
              "    }\n",
              "</style>\n",
              "<table border=\"1\" class=\"dataframe\">\n",
              "  <thead>\n",
              "    <tr style=\"text-align: right;\">\n",
              "      <th></th>\n",
              "      <th>review_id</th>\n",
              "      <th>user_id</th>\n",
              "      <th>business_id</th>\n",
              "      <th>rating</th>\n",
              "      <th>stars</th>\n",
              "      <th>city</th>\n",
              "      <th>state</th>\n",
              "      <th>is_open</th>\n",
              "      <th>business_popularity_bin</th>\n",
              "      <th>user_activity_bin</th>\n",
              "      <th>categories</th>\n",
              "    </tr>\n",
              "  </thead>\n",
              "  <tbody>\n",
              "    <tr>\n",
              "      <th>0</th>\n",
              "      <td>Q1sbwvVQXV2734tPgoKj4Q</td>\n",
              "      <td>hG7b0MtEbXx5QzbzE6C_VA</td>\n",
              "      <td>ujmEBvifdJM6h6RLv4wQIg</td>\n",
              "      <td>1.00</td>\n",
              "      <td>1.00</td>\n",
              "      <td>Las Vegas</td>\n",
              "      <td>NV</td>\n",
              "      <td>1.00</td>\n",
              "      <td>high</td>\n",
              "      <td>medium</td>\n",
              "      <td>Fitness &amp; Instruction, Doctors, Health &amp; Medic...</td>\n",
              "    </tr>\n",
              "    <tr>\n",
              "      <th>1</th>\n",
              "      <td>2TzJjDVDEuAW6MR5Vuc1ug</td>\n",
              "      <td>n6-Gk65cPZL6Uz8qRm3NYw</td>\n",
              "      <td>WTqjgwHlXbSFevF32_DJVw</td>\n",
              "      <td>5.00</td>\n",
              "      <td>5.00</td>\n",
              "      <td>Chandler</td>\n",
              "      <td>AZ</td>\n",
              "      <td>1.00</td>\n",
              "      <td>high</td>\n",
              "      <td>low</td>\n",
              "      <td>Health &amp; Medical, Cosmetic Dentists, Orthodont...</td>\n",
              "    </tr>\n",
              "    <tr>\n",
              "      <th>2</th>\n",
              "      <td>G7XHMxG0bx9oBJNECG4IFg</td>\n",
              "      <td>jlu4CztcSxrKx56ba1a5AQ</td>\n",
              "      <td>3fw2X5bZYeW9xCz_zGhOHg</td>\n",
              "      <td>3.00</td>\n",
              "      <td>3.00</td>\n",
              "      <td>Markham</td>\n",
              "      <td>ON</td>\n",
              "      <td>1.00</td>\n",
              "      <td>high</td>\n",
              "      <td>high</td>\n",
              "      <td>Food, Chinese, Restaurants, Desserts</td>\n",
              "    </tr>\n",
              "  </tbody>\n",
              "</table>\n",
              "</div>"
            ],
            "text/plain": [
              "                review_id  ...                                         categories\n",
              "0  Q1sbwvVQXV2734tPgoKj4Q  ...  Fitness & Instruction, Doctors, Health & Medic...\n",
              "1  2TzJjDVDEuAW6MR5Vuc1ug  ...  Health & Medical, Cosmetic Dentists, Orthodont...\n",
              "2  G7XHMxG0bx9oBJNECG4IFg  ...               Food, Chinese, Restaurants, Desserts\n",
              "\n",
              "[3 rows x 11 columns]"
            ]
          },
          "metadata": {
            "tags": []
          },
          "execution_count": 21
        }
      ]
    },
    {
      "cell_type": "code",
      "metadata": {
        "id": "oLLGf5CvL_Fq",
        "colab_type": "code",
        "outputId": "6f5a59fa-dfc2-442b-c018-ab6cda3bd766",
        "colab": {
          "base_uri": "https://localhost:8080/",
          "height": 237
        }
      },
      "source": [
        "#check for missing categories in training\n",
        "train2.isna().sum()"
      ],
      "execution_count": 0,
      "outputs": [
        {
          "output_type": "execute_result",
          "data": {
            "text/plain": [
              "review_id                    0\n",
              "user_id                      0\n",
              "business_id                  0\n",
              "rating                       0\n",
              "stars                        0\n",
              "city                         2\n",
              "state                        0\n",
              "is_open                      0\n",
              "business_popularity_bin      0\n",
              "user_activity_bin            0\n",
              "categories                 952\n",
              "dtype: int64"
            ]
          },
          "metadata": {
            "tags": []
          },
          "execution_count": 22
        }
      ]
    },
    {
      "cell_type": "code",
      "metadata": {
        "id": "KamtDVcYUInp",
        "colab_type": "code",
        "colab": {}
      },
      "source": [
        "#select columns and define types of variables\n",
        "dl_train = train2[[\"rating\",\"city\",\"state\",\"is_open\",\"business_popularity_bin\",\"user_activity_bin\",\"categories\"]].copy()\n",
        "dl_test = test2[[\"rating\",\"city\",\"state\",\"is_open\",\"business_popularity_bin\",\"user_activity_bin\",\"categories\"]].copy()\n",
        "dl_val = val2[[\"rating\",\"city\",\"state\",\"is_open\",\"business_popularity_bin\",\"user_activity_bin\",\"categories\"]].copy()\n",
        "\n",
        "dl_train = dl_train.astype({\"rating\": float, \"city\":str, \"state\": str, \"is_open\":int, \"business_popularity_bin\":str, \"user_activity_bin\": str, \"categories\":str})\n",
        "dl_test = dl_test.astype({\"rating\": float, \"city\":str, \"state\": str, \"is_open\":int, \"business_popularity_bin\":str, \"user_activity_bin\": str, \"categories\":str})\n",
        "dl_val = dl_val.astype({\"rating\": float, \"city\":str, \"state\": str, \"is_open\":int, \"business_popularity_bin\":str, \"user_activity_bin\": str,\"categories\":str})"
      ],
      "execution_count": 0,
      "outputs": []
    },
    {
      "cell_type": "code",
      "metadata": {
        "id": "VOSijnqNsuAU",
        "colab_type": "code",
        "colab": {}
      },
      "source": [
        "#Add a column of standardized ratings\n",
        "#std_train = dl_train[['rating', 'city', 'state', 'is_open', 'business_popularity_bin', 'user_activity_bin','categories']].copy()\n",
        "#std_test = dl_test[['rating', 'city', 'state', 'is_open', 'business_popularity_bin', 'user_activity_bin','categories']].copy()\n",
        "#std_val = dl_val[['rating', 'city', 'state', 'is_open', 'business_popularity_bin', 'user_activity_bin','categories']].copy()\n",
        "\n",
        "#std_train['rating'] = pd.to_numeric(std_train.rating)\n",
        "#std_test['rating'] = pd.to_numeric(std_test.rating)\n",
        "#std_val['rating'] = pd.to_numeric(std_val.rating)\n",
        "\n",
        "def norm(x):\n",
        "  '''\n",
        "  x: array\n",
        "  '''\n",
        "  return (x - dl_train.rating.mean()) / dl_train.rating.std()\n",
        "\n",
        "\n",
        "dl_train['rating_std'] = norm(dl_train['rating'])\n",
        "dl_test['rating_std'] = norm(dl_test['rating'])\n",
        "dl_val['rating_std'] = norm(dl_train['rating'])"
      ],
      "execution_count": 0,
      "outputs": []
    },
    {
      "cell_type": "markdown",
      "metadata": {
        "id": "JcWbAUB9YGvA",
        "colab_type": "text"
      },
      "source": [
        "### Create a tensorflow Dataset from pandas Dataframe"
      ]
    },
    {
      "cell_type": "markdown",
      "metadata": {
        "id": "WKlt7EfiVGKL",
        "colab_type": "text"
      },
      "source": [
        "Define variable types"
      ]
    },
    {
      "cell_type": "code",
      "metadata": {
        "id": "tnpBrMoEtz7-",
        "colab_type": "code",
        "colab": {}
      },
      "source": [
        "cities = dl_train.city.unique()\n",
        "states = dl_train.state.unique()\n",
        "isopen = dl_train.is_open.unique()\n",
        "business_pop = dl_train.business_popularity_bin.unique()\n",
        "user_actv =  dl_train.user_activity_bin.unique()"
      ],
      "execution_count": 0,
      "outputs": []
    },
    {
      "cell_type": "code",
      "metadata": {
        "id": "8zcgcu20uQFW",
        "colab_type": "code",
        "outputId": "48d54c1d-ceaa-4095-c524-9601fbe58146",
        "colab": {
          "base_uri": "https://localhost:8080/",
          "height": 109
        }
      },
      "source": [
        "print(\"Number of cities: \",len(cities))\n",
        "print(\"Number of states: \",len(states))\n",
        "print(\"Business is open categories:\", isopen)\n",
        "print(\"Business popularity categories: \",business_pop)\n",
        "print(\"User activity categories: \",user_actv)\n"
      ],
      "execution_count": 0,
      "outputs": [
        {
          "output_type": "stream",
          "text": [
            "Number of cities:  1142\n",
            "Number of states:  29\n",
            "Business is open categories: [1 0]\n",
            "Business popularity categories:  ['high' 'medium' 'low']\n",
            "User activity categories:  ['medium' 'low' 'high']\n"
          ],
          "name": "stdout"
        }
      ]
    },
    {
      "cell_type": "markdown",
      "metadata": {
        "id": "GBiUxA0GZ44l",
        "colab_type": "text"
      },
      "source": [
        "Create tensorflow categorical columns from features"
      ]
    },
    {
      "cell_type": "code",
      "metadata": {
        "id": "0S-14qs4tiLa",
        "colab_type": "code",
        "colab": {}
      },
      "source": [
        "cities_ft = feature_column.categorical_column_with_vocabulary_list('city', cities.tolist())\n",
        "states_ft = feature_column.categorical_column_with_vocabulary_list('state', states.tolist())\n",
        "isopen_ft = feature_column.categorical_column_with_vocabulary_list('is_open', isopen.tolist())\n",
        "business_pop_ft = feature_column.categorical_column_with_vocabulary_list('business_popularity_bin', business_pop.tolist())\n",
        "user_actv_ft = feature_column.categorical_column_with_vocabulary_list('user_activity_bin', user_actv.tolist())"
      ],
      "execution_count": 0,
      "outputs": []
    },
    {
      "cell_type": "code",
      "metadata": {
        "id": "XrDooweityRm",
        "colab_type": "code",
        "colab": {}
      },
      "source": [
        "cities_embedding = feature_column.embedding_column(cities_ft, dimension=8) #dimension is an hyperparameter to tune\n",
        "state_embedding = feature_column.indicator_column(states_ft)\n",
        "isopen_embedding = feature_column.indicator_column(isopen_ft)\n",
        "businesspop_embedding = feature_column.indicator_column(business_pop_ft)\n",
        "useractv_embedding = feature_column.indicator_column(user_actv_ft)"
      ],
      "execution_count": 0,
      "outputs": []
    },
    {
      "cell_type": "markdown",
      "metadata": {
        "id": "X66EWanxNqzR",
        "colab_type": "text"
      },
      "source": [
        "Process business categories to tokens "
      ]
    },
    {
      "cell_type": "code",
      "metadata": {
        "id": "nq6v5LO_VOUW",
        "colab_type": "code",
        "colab": {}
      },
      "source": [
        "#Choose a vocabulary size\n",
        "VOCAB_SIZE = 1000"
      ],
      "execution_count": 0,
      "outputs": []
    },
    {
      "cell_type": "code",
      "metadata": {
        "id": "D2Fmx-6MWG1M",
        "colab_type": "code",
        "outputId": "ac8e9dc9-8230-47a2-93c4-df84dec6711a",
        "colab": {
          "base_uri": "https://localhost:8080/",
          "height": 35
        }
      },
      "source": [
        "tokenizer = tf.keras.preprocessing.text.Tokenizer(num_words=VOCAB_SIZE)\n",
        "tokenizer.fit_on_texts(dl_train.categories)\n",
        "\n",
        "print(\"Word index\", len(tokenizer.word_index))"
      ],
      "execution_count": 0,
      "outputs": [
        {
          "output_type": "stream",
          "text": [
            "Word index 1386\n"
          ],
          "name": "stdout"
        }
      ]
    },
    {
      "cell_type": "code",
      "metadata": {
        "id": "T7BYtCJnUMYR",
        "colab_type": "code",
        "outputId": "0652c686-edbf-4174-97b3-8cd0751fa797",
        "colab": {
          "base_uri": "https://localhost:8080/",
          "height": 55
        }
      },
      "source": [
        "#Sanity check the tokens from categories\n",
        "print(tokenizer.word_index.keys())"
      ],
      "execution_count": 0,
      "outputs": [
        {
          "output_type": "stream",
          "text": [
            "dict_keys(['restaurants', 'food', 'bars', 'american', 'services', 'nightlife', 'new', 'traditional', 'breakfast', 'event', 'brunch', 'shopping', 'planning', 'sandwiches', 'arts', 'spas', 'tea', 'mexican', 'hotels', 'entertainment', 'pizza', 'burgers', 'italian', 'beauty', 'coffee', 'home', 'seafood', 'wine', 'japanese', 'desserts', 'chinese', 'local', 'hair', 'beer', 'sushi', 'medical', 'salad', 'travel', 'specialty', 'asian', 'fast', 'health', 'stores', 'fusion', 'repair', 'salons', 'cafes', 'steakhouses', 'automotive', 'auto', 'venues', 'life', 'active', 'bakeries', 'sports', 'spirits', 'cocktail', 'pubs', 'barbeque', 'pet', 'caterers', 'ice', 'chicken', 'vegetarian', 'lounges', 'mediterranean', 'thai', 'cream', 'frozen', 'yogurt', 'shops', 'spaces', 'fashion', 'grocery', 'wings', 'car', 'buffets', 'nail', 'diners', 'tapas', 'juice', 'smoothies', 'casinos', 'music', 'vegan', 'removal', 'free', 'gluten', 'delis', 'care', 'canadian', 'french', 'day', 'flavor', 'vietnamese', 'korean', 'centers', 'garden', 'gastropubs', 'clubs', 'soup', 'clothing', 'stations', 'greek', 'supplies', 'massage', 'comfort', 'ethnic', 'skin', 'doctors', 'indian', 'service', 'middle', 'eastern', 'pets', 'dentists', 'breweries', 'small', 'plates', 'dealers', 'professional', 'fitness', 'estate', 'noodles', 'southern', 'instruction', 'real', 'dance', 'hot', 'parks', 'waxing', 'cleaning', 'bar', 'tex', 'mex', 'performing', 'resorts', 'latin', 'delivery', 'hawaiian', 'parts', 'oil', 'change', 'department', 'markets', 'ramen', 'installation', 'dogs', 'electronics', 'eyelash', 'gyms', 'mobile', 'donuts', 'education', \"women's\", 'bubble', \"men's\", 'party', 'tires', 'furniture', 'shop', 'schools', 'bagels', 'flowers', 'cajun', 'creole', 'gifts', 'supply', 'cosmetics', 'public', 'tacos', 'goods', 'it', 'therapy', 'art', 'contractors', 'decor', 'drugstores', 'cinema', 'dive', 'dim', 'sum', 'wash', 'rooms', 'irish', 'groomers', 'general', 'dentistry', 'appliances', 'video', 'accessories', 'caribbean', 'trainers', 'cosmetic', 'sporting', 'transportation', 'dry', 'barbers', 'museums', 'halal', 'soul', 'makeup', 'trucks', 'jewelry', 'laundry', 'amusement', 'pakistani', 'veterinarians', 'government', 'rental', 'adult', 'air', 'stylists', 'books', 'convenience', 'financial', 'shoe', 'apartments', 'taiwanese', 'pool', 'computer', 'phones', 'tanning', 'crafts', 'spanish', 'sitting', 'creperies', 'british', 'detailing', 'mags', 'gas', 'golf', 'yoga', 'used', 'artists', 'karaoke', 'tours', 'arcades', 'fish', 'poke', 'market', 'chocolatiers', 'gardens', 'body', 'cupcakes', 'chips', 'heating', 'conditioning', 'hvac', 'plumbing', 'surgeons', 'store', 'glass', 'farmers', 'street', 'meat', 'wedding', 'internet', 'discount', 'wraps', 'providers', 'cuisine', 'vendors', 'classes', 'phone', 'printing', 'equipment', 'florists', 'airports', 'optometrists', 'galleries', 'extensions', 'waffles', 'water', 'imported', 'cheesesteaks', 'shaved', 'brazilian', 'wear', 'tattoo', 'european', 'carpet', 'modern', 'photography', 'building', 'eyewear', 'opticians', 'laser', 'gear', 'swimming', 'filipino', 'fruits', 'veggies', 'window', 'stands', 'gelato', 'activities', 'training', 'german', 'cantonese', 'rentals', 'computers', 'tobacco', 'hardware', 'pools', 'vintage', 'consignment', 'law', 'candy', 'insurance', 'orthodontists', 'patisserie', 'cake', 'design', 'lebanese', 'kitchen', 'bath', 'mattresses', 'hobby', 'kids', 'chiropractors', 'bowling', 'office', 'roasteries', 'sewing', 'alterations', 'movers', 'shipping', 'landscaping', 'diagnostic', 'custom', 'cakes', 'family', 'banks', 'medicine', 'hospitals', 'brasseries', 'jazz', 'blues', 'credit', 'unions', 'nurseries', 'gardening', 'stadiums', 'arenas', 'oral', 'reflexology', 'urgent', 'do', 'yourself', 'tinting', 'blow', 'out', 'cheese', 'festivals', 'management', 'gift', 'organic', 'butcher', 'eyebrow', 'bookstores', 'thrift', 'toy', 'tub', 'practice', 'motorcycle', 'airlines', 'african', 'bridal', 'pub', 'door', 'wholesale', 'windshield', 'bike', 'halls', 'pot', 'self', 'check', 'poutineries', 'physical', 'wheel', 'rim', 'security', 'flooring', \"children's\", 'hookah', 'control', 'loss', 'heater', 'szechuan', 'camps', 'smokehouse', 'transmission', 'live', 'raw', 'outlet', 'outdoor', 'storage', 'persian', 'iranian', 'playgrounds', 'historical', 'bikes', 'pest', 'portuguese', 'property', 'smog', 'community', 'weight', 'brewpubs', 'towing', 'landmarks', 'buildings', 'malaysian', 'permanent', 'antiques', 'carpeting', 'guns', 'ammo', 'personal', 'pediatric', 'handyman', 'non', 'profit', 'comedy', 'social', 'cannabis', 'pilates', 'turkish', 'international', 'obstetricians', 'gynecologists', 'games', 'threading', 'airport', 'piercing', 'peruvian', 'dog', 'systems', 'botanical', 'vape', 'boarding', 'hiking', 'endodontists', 'acai', 'bowls', 'whiskey', 'spray', 'nutritionists', 'customization', 'teppanyaki', 'recreation', 'belgian', 'interior', 'television', 'dvds', 'game', 'fondue', 'acupuncture', 'mortgage', 'zoos', 'sales', 'electricians', 'court', 'child', 'religious', 'teams', 'agents', 'bistros', 'notaries', 'cuban', 'mongolian', 'organizations', 'pan', 'pasta', 'pediatricians', 'polish', 'garage', 'gun', 'rifle', 'ranges', 'lawyers', 'aquariums', 'macarons', 'boot', 'baby', 'restoration', 'pharmacy', 'escape', 'musical', 'photographers', 'damage', 'ophthalmologists', 'cards', 'stationery', 'afghan', 'tree', 'duct', 'cleaners', 'falafel', 'offices', 'keys', 'locksmiths', 'center', 'brokers', 'watches', 'leather', 'kosher', 'lighting', 'wineries', 'gay', 'shades', 'blinds', 'clinics', 'fixtures', 'post', 'delicatessen', 'media', 'emergency', 'holistic', 'dermatologists', 'shuttles', 'ethiopian', 'naturopathic', 'periodontists', 'windows', 'taxis', 'videos', 'martial', 'tiling', 'preschools', 'singaporean', 'climbing', 'couriers', 'laotian', 'colleges', 'universities', 'stereo', 'maintenance', 'libraries', 'limos', 'technicians', 'painters', 'mini', 'rv', 'internal', 'imaging', 'vitamins', 'supplements', 'kebab', 'packing', 'formal', 'churches', 'amateur', 'telecommunications', 'purification', 'lingerie', 'departments', 'watch', 'paint', 'graphic', 'himalayan', 'nepalese', 'studios', 'mailbox', 'piano', 'irrigation', 'head', 'argentine', 'instruments', 'teachers', 'truck', 'mass', 'inspectors', 'vehicle', 'orthopedists', 'distilleries', 'washing', 'counseling', 'animal', 'cooking', 'architects', 'screen', 'colombian', 'employment', 'data', 'recovery', 'of', 'motor', 'vehicles', 'izakaya', 'team', 'vacation', 'comic', 'moroccan', 'elementary', 'tiki', 'gardeners', 'testing', 'signmaking', 'tasting', 'russian', 'pretzels', 'supernatural', 'readings', 'shelters', 'venezuelan', 'barre', 'herbs', 'spices', 'eye', 'surgery', 'lasik', 'adoption', 'laboratory', 'agencies', 'summer', 'cosmetology', 'fabric', 'bed', 'buyers', 'educational', 'dispensaries', 'country', 'arabian', 'vinyl', 'records', 'pawn', 'baseball', 'fields', 'landscape', 'trampoline', 'session', 'commercial', 'loan', 'masonry', 'concrete', 'injury', 'beaches', 'defense', 'boxing', 'interval', 'roofing', 'walkers', 'mental', 'challenge', 'courses', 'junk', 'hauling', 'parking', 'souvenir', 'pressure', 'washers', 'eatertainment', 'reupholstery', 'musicians', 'popcorn', 'reiki', 'hospital', 'fishing', 'marketing', 'solar', 'curry', 'tennis', 'houses', 'magicians', 'salvadoran', 'mirrors', 'tax', 'costumes', 'cycling', 'rock', 'champagne', 'farms', 'fences', 'gates', 'rugs', 'beds', 'cabinetry', 'radiologists', 'grout', 'web', 'skating', 'rinks', 'ticket', 'plus', 'size', 'bespoke', 'pain', 'refinishing', 'advising', 'bus', 'boating', 'automation', 'lessons', 'sip', 'drywall', 'knitting', 'go', 'karts', 'cambodian', 'snow', 'tag', 'accountants', 'criminal', 'instrument', 'wigs', 'theatre', 'in', 'leisure', 'retreats', 'basque', 'high', 'tuscan', 'utilities', 'theater', 'gold', 'rehabilitation', 'mountain', 'biking', 'loans', 'henna', 'podiatrists', 'boat', 'tabletop', 'roadside', 'assistance', 'indonesian', 'conveyor', 'belt', 'yelp', 'events', 'hostels', 'chapels', 'strip', 'hungarian', 'beverage', 'wholesalers', 'scandinavian', 'coach', 'christmas', 'speakeasies', 'trees', 'organization', 'cafeteria', 'floral', 'designers', 'hunting', 'septic', 'djs', 'laundromat', 'cardio', 'chefs', 'teeth', 'whitening', 't', 'shirt', 'rafting', 'kayaking', 'ukrainian', 'ear', 'nose', 'throat', 'allergists', 'dui', 'divorce', 'shutters', 'luggage', 'donation', 'funeral', 'cemeteries', 'puerto', 'rican', 'print', 'lakes', 'donairs', 'framing', 'nan', 'driving', 'hydro', 'jetting', 'your', 'own', 'investing', 'dent', 'business', 'exercise', 'swimwear', 'customized', 'merchandise', 'legal', 'cardiologists', 'walk', 'gymnastics', 'plastic', 'production', 'opera', 'ballet', 'meditation', 'lenders', 'horseback', 'riding', 'room', 'uniforms', 'neurologist', 'hakka', 'haunted', 'empanadas', 'advertising', 'dinner', 'skate', 'patio', 'coverings', 'cultural', 'film', 'coffeeshops', 'race', 'tracks', 'private', 'recycling', 'archery', 'tv', 'mounting', 'assembly', 'cremation', 'sugaring', 'bankruptcy', 'registration', 'artificial', 'turf', 'cashing', 'pay', 'stalls', 'countertop', 'vocational', 'technical', 'school', 'indoor', 'guitar', 'cabaret', 'aerial', 'newspapers', 'magazines', 'playcentre', 'spiritual', 'metal', 'fabricators', 'maternity', 'egyptian', 'flea', 'staging', 'litigation', 'ethical', 'trailer', 'midwives', 'videographers', 'university', 'housing', 'tutoring', 'embroidery', 'crochet', 'shared', 'insulation', 'diving', 'battery', 'fertility', 'propane', 'float', 'spa', 'firearm', 'contouring', 'aid', 'south', 'cigar', 'photo', 'booth', 'gutter', 'retirement', 'homes', 'special', 'occupational', 'buses', 'ski', 'soccer', 'shanghainese', 'terminals', 'australian', 'network', 'radio', 'drive', 'observatories', 'appraisal', 'traffic', 'kickboxing', 'endocrinologists', 'holiday', 'payroll', 'racing', 'sri', 'lankan', 'fireplace', 'train', 'pottery', 'psychiatrists', 'acne', 'treatment', 'bookstore', 'aquarium', 'audiologist', 'charters', 'billiards', 'hospice', 'disc', 'psychics', 'town', 'share', 'crawl', 'pick', 'osteopathic', 'physicians', 'auction', 'gastroenterologist', 'motorsport', 'atv', 'pop', 'up', 'decks', 'railing', 'trains', 'bartenders', 'races', 'competitions', 'lactation', 'tutors', 'career', 'themed', 'austrian', 'guest', 'walking', 'cpr', 'energy', 'auditors', 'stucco', 'wildlife', 'house', 'oxygen', 'decorations', 'specialists', 'ticketing', 'urologists', 'consulting', 'iv', 'hydration', 'upholstery', 'assistants', 'bangladeshi', 'lawn', 'police', 'hats', 'safe', 'fire', 'shredding', 'dominican', 'horse', 'orthotics', 'skydiving', 'paintball', 'campgrounds', 'awnings', 'balloons', 'cideries', 'experience', 'livestock', 'feed', 'candle', 'bookkeepers', 'engraving', 'armenian', 'protection', 'basketball', 'courts', 'dental', 'hygienists', 'blood', 'plasma', 'translation', 'burmese', 'striptease', 'dancers', 'title', 'udon', 'hydrotherapy', 'carpenters', 'officiants', 'therapists', 'hypnosis', 'hypnotherapy', 'ziplining', 'powder', 'coating', 'doulas', 'collective', 'sleep', 'hearing', 'csa', 'cryotherapy', 'sunglasses', 'axe', 'throwing', 'fingerprinting', 'siding', 'prosthodontists', 'first', 'czech', 'hong', 'kong', 'style', 'cafe', 'investigation', 'paddleboarding', 'wills', 'trusts', 'probates', 'kombucha', 'olive', 'supper', 'immigration', 'circuit', 'saunas', 'brewing', 'gunsmith', 'scuba', 'estheticians', 'test', 'preparation', 'aestheticians', 'club', 'colonics', 'speech', 'gemstones', 'minerals', 'bounce', 'audio', 'breeders', 'oncologist', 'recording', 'rehearsal', 'panel', 'referrals', 'courthouses', 'guamanian', 'jiu', 'jitsu', 'knife', 'sharpening', 'snowboard', 'foundation', 'anesthesiologists', 'repairs', 'spine', 'temples', 'syrian', 'face', 'painting', 'demolition', 'currency', 'exchange', 'virtual', 'reality', 'relations', 'condominiums', 'fidelity', 'assisted', 'karate', 'workers', 'compensation', 'chimney', 'sweeps', 'spin', 'tai', 'chi', 'nursing', 'grilling', 'living', 'facilities', 'pumpkin', 'patches', 'waterproofing', 'architectural', 'batting', 'cages', 'hotel', 'pulmonologist', 'shine', 'restaurant', 'passport', 'visa', 'bingo', 'environmental', 'installment', 'pole', 'dancing', 'boudoir', 'buddhist', 'skilled', 'characters', 'jet', 'software', 'development', 'nanny', 'prenatal', 'perinatal', 'scottish', 'nicaraguan', 'civic', 'taekwondo', 'nurse', 'practitioner', 'psychologists', 'firewood', 'liquidation', 'flight', 'electric', 'psychic', 'mediums', 'trinidadian', 'farming', 'haitian', 'trophy', 'sitters', 'dyeing', 'machine', 'farm', 'editorial', 'skis', 'balloon', 'montessori', 'bird', 'childproofing', 'rheumatologists', 'childbirth', 'halotherapy', 'military', 'surplus', 'bicycles', 'parenting', 'lan', 'abatement', 'tickets', 'airsoft', 'prosthetics', 'muay', 'generator', 'honduran', 'perfume', 'synagogues', 'tool', 'financing', 'debt', 'relief', 'concierge', 'sugar', 'shacks', 'vascular', 'petting', 'alternative', 'talent', 'tui', 'na', 'roof', 'waste', 'placenta', 'encapsulations', 'bail', 'bondsmen', 'dumpster', 'herbal', 'reptile', 'language', 'ultrasound', 'rolfing', 'uzbek', 'decorating', 'process', 'servers', 'misting', 'system', 'mobility', 'sharing', 'valet', 'iberian', 'beach', 'cart', 'tubing', 'oaxacan', 'retina', 'addiction', 'incubators', 'preventive', 'immunodermatologists', 'attraction', 'dietitians', 'auctions', 'kiosk', 'sailing', 'embassy', 'tableware', 'mortuary', 'surf', 'clock', 'product', 'suppliers', 'visitor', 'homeowner', 'association', 'pita', 'sex', 'gerontologists', 'backflow', 'college', 'aircraft', 'hall', 'clowns', 'taxidermy', 'teacher', 'hockey', 'scooter', 'backshop', 'badminton', 'slovakian', 'thru', 'planetarium', 'squash', 'mediators', 'neurotologists', 'contract', 'sicilian', 'scavenger', 'hunts', 'items', 'astrologers', 'sandblasting', 'rotisserie', 'lice', 'bartending', 'blowing', 'wallpapering', 'cheerleading', 'commissioned', 'matchmakers', 'soba', 'municipality', 'marinas', 'diy', 'hindu', 'qi', 'gong', 'tenant', 'and', 'eviction', 'developers', 'hepatologists', 'reunion', 'hybrid', 'surfing', 'excavation', 'memory', 'natural', 'junkyards', 'land', 'surveying', 'undersea', 'hyperbaric', 'rest', 'stops', 'charter', 'island', 'honey', 'props', 'fur', 'visual', 'fuel', 'docks', 'hazardous', 'disposal', 'senior', 'concept', '3d', 'caricatures', 'ranches', 'interlock', 'space', 'elder', 'ayurveda', 'drones', 'flyboarding', 'hydroponics', 'pathologists', 'behavior', 'analysts', 'fireworks', 'phlebologists', 'customs', 'mosques', 'duty', 'carousels', 'disability', 'pedicabs', 'electricity', 'ip', 'sledding', 'proctologists', 'hainan', 'bookbinding', 'unofficial', 'tonkatsu', 'tempura', 'homeless', 'well', 'drilling', 'skiing', 'snorkeling', 'aids', 'feng', 'shui', 'homeopathic', 'mauritius', 'digitizing', 'veterans', 'apartment', 'waldorf', 'crane', 'infectious', 'disease', 'neuropathologists', 'duplication', 'swiss', 'ev', 'charging', 'makerspaces', 'bulgarian', 'osteopaths', 'toxicologists', 'structural', 'engineers', 'safety', 'jails', 'prisons', 'adjusters', 'storefront', 'nudist', 'linens', 'rodeo', 'nephrologists', 'patent', 'metro', 'registry', 'erotic', 'vocal', 'fencing', 'experiences', 'movies', 'foot', 'milkshake', 'sweets', 'minho', 'trivia', 'hosts', 'geneticists', 'otologists', 'playsets', 'sport', 'hire', 'churros', 'dialysis', 'habilitative', 'volleyball', 'reporters', 'calligraphy', 'hang', 'gliding', 'ceremonial', 'aviation', 'sauna', 'calabrian', 'senegalese'])\n"
          ],
          "name": "stdout"
        }
      ]
    },
    {
      "cell_type": "code",
      "metadata": {
        "id": "ciN2Z8OMUxyi",
        "colab_type": "code",
        "colab": {}
      },
      "source": [
        "#Add created tokens to tf categorical columns\n",
        "categories_ft = feature_column.categorical_column_with_vocabulary_list('categories', tokenizer.word_index.keys())\n",
        "categories_embedding = feature_column.embedding_column(categories_ft, dimension=8)"
      ],
      "execution_count": 0,
      "outputs": []
    },
    {
      "cell_type": "markdown",
      "metadata": {
        "id": "wldPZ_P5wCqS",
        "colab_type": "text"
      },
      "source": [
        "Create a tf Feature Column with all embeddings created above\n",
        "\n",
        "\n",
        "1.   One feature column list for user/business features\n",
        "2.   Another feature column list for user/business features + categories\n",
        "\n",
        "We are creating 2 feature column lists to test a model only for features and another model for features+categories\n"
      ]
    },
    {
      "cell_type": "code",
      "metadata": {
        "id": "Ekqp86zLwEw-",
        "colab_type": "code",
        "colab": {}
      },
      "source": [
        "feature_columns_1 = []\n",
        "\n",
        "# embedding cols\n",
        "feature_columns_1.append(cities_embedding)\n",
        "feature_columns_1.append(state_embedding)\n",
        "feature_columns_1.append(isopen_embedding)\n",
        "feature_columns_1.append(businesspop_embedding)\n",
        "feature_columns_1.append(useractv_embedding)\n",
        "\n",
        "feature_columns_2 = []\n",
        "feature_columns_2.append(cities_embedding)\n",
        "feature_columns_2.append(state_embedding)\n",
        "feature_columns_2.append(isopen_embedding)\n",
        "feature_columns_2.append(businesspop_embedding)\n",
        "feature_columns_2.append(useractv_embedding)\n",
        "feature_columns_2.append(categories_embedding)"
      ],
      "execution_count": 0,
      "outputs": []
    },
    {
      "cell_type": "code",
      "metadata": {
        "id": "RiVbXm3HwUel",
        "colab_type": "code",
        "colab": {}
      },
      "source": [
        "#Convert the list of feature columns to Feature layer input for model\n",
        "feature_layer_1 = tf.keras.layers.DenseFeatures(feature_columns_1)\n",
        "feature_layer_2 = tf.keras.layers.DenseFeatures(feature_columns_2)"
      ],
      "execution_count": 0,
      "outputs": []
    },
    {
      "cell_type": "markdown",
      "metadata": {
        "id": "52jXR80cizAs",
        "colab_type": "text"
      },
      "source": [
        "### Decide on type of model to run\n",
        "\n",
        "Given the nature of our project - predict a rating between 1 and 5- we can treat this problem in 2 ways:\n",
        "\n",
        "\n",
        "1.   **Multi-classification problem**: we want a model to estimate probabilities of belonging to 5 classes (i.e. treat each rating as if it were a class).\n",
        "2.   **Continous prediction**: a model that given an observation and a standardized rating, it can predict a standardize value as a rating. \n",
        "\n"
      ]
    },
    {
      "cell_type": "code",
      "metadata": {
        "colab_type": "code",
        "id": "hfdUuKfSpdPN",
        "outputId": "2e16bd86-d6c2-49ce-9b17-928741d7d8ca",
        "colab": {
          "base_uri": "https://localhost:8080/",
          "height": 35
        }
      },
      "source": [
        "#funtion to create tf dataset with ratings as classes (hot encoding them) \n",
        "from sklearn.preprocessing import LabelEncoder\n",
        "from keras.utils import np_utils\n",
        "\n",
        "def df_to_dataset_1(dataframe, shuffle=True, batch_size=32):\n",
        "  dataframe = dataframe.copy()\n",
        "  dataframe.pop('rating_std')\n",
        "  # encode class values as integers\n",
        "  encoder = LabelEncoder()\n",
        "  encoder.fit(dataframe['rating'])\n",
        "  encoded_Y = encoder.transform(dataframe['rating'])\n",
        "  labels = np_utils.to_categorical(encoded_Y)\n",
        "  ds = tf.data.Dataset.from_tensor_slices((dict(dataframe), labels))\n",
        "  if shuffle:\n",
        "    ds = ds.shuffle(buffer_size=len(dataframe))\n",
        "  ds = ds.batch(batch_size)\n",
        "  return ds"
      ],
      "execution_count": 0,
      "outputs": [
        {
          "output_type": "stream",
          "text": [
            "Using TensorFlow backend.\n"
          ],
          "name": "stderr"
        }
      ]
    },
    {
      "cell_type": "code",
      "metadata": {
        "id": "yyElQZ91tDS5",
        "colab_type": "code",
        "colab": {}
      },
      "source": [
        "#function to create tf dataset with ratings as a continuous value\n",
        "def df_to_dataset_2(dataframe, shuffle=True, batch_size=32):\n",
        "  dataframe = dataframe.copy()\n",
        "  dataframe.pop('rating')\n",
        "  labels = dataframe.pop('rating_std')\n",
        "  ds = tf.data.Dataset.from_tensor_slices((dict(dataframe), labels))\n",
        "  if shuffle:\n",
        "    ds = ds.shuffle(buffer_size=len(dataframe))\n",
        "  ds = ds.batch(batch_size)\n",
        "  return ds"
      ],
      "execution_count": 0,
      "outputs": []
    },
    {
      "cell_type": "markdown",
      "metadata": {
        "id": "tD1goKsmmNze",
        "colab_type": "text"
      },
      "source": [
        "Create TF datasets for the 2 types of approaches"
      ]
    },
    {
      "cell_type": "code",
      "metadata": {
        "id": "ktruW9ytqQJi",
        "colab_type": "code",
        "colab": {}
      },
      "source": [
        "batch_size = 1000"
      ],
      "execution_count": 0,
      "outputs": []
    },
    {
      "cell_type": "code",
      "metadata": {
        "id": "pZvEPVFMwaWQ",
        "colab_type": "code",
        "colab": {}
      },
      "source": [
        "#Dataset for model 1 - just features\n",
        "train_m1f1 = df_to_dataset_1(dl_train.loc[:, dl_train.columns != 'categories'], batch_size=batch_size)\n",
        "val_m1f1 = df_to_dataset_1(dl_val.loc[:, dl_val.columns != 'categories'], shuffle=False, batch_size=batch_size)\n",
        "test_m1f1 = df_to_dataset_1(dl_test.loc[:, dl_test.columns != 'categories'], shuffle=False, batch_size=batch_size)"
      ],
      "execution_count": 0,
      "outputs": []
    },
    {
      "cell_type": "code",
      "metadata": {
        "id": "jeJ3CjW1qEf8",
        "colab_type": "code",
        "colab": {}
      },
      "source": [
        "#Dataset for model 1 - features + categories\n",
        "train_m1f2 = df_to_dataset_1(dl_train, batch_size=batch_size)\n",
        "val_m1f2 = df_to_dataset_1(dl_val, shuffle=False, batch_size=batch_size)\n",
        "test_m1f2 = df_to_dataset_1(dl_test, shuffle=False, batch_size=batch_size)"
      ],
      "execution_count": 0,
      "outputs": []
    },
    {
      "cell_type": "code",
      "metadata": {
        "id": "H4Pju89EqFVk",
        "colab_type": "code",
        "colab": {}
      },
      "source": [
        "#Dataset for model 2 - just features\n",
        "train_m2f1 = df_to_dataset_2(dl_train.loc[:, dl_train.columns != 'categories'], batch_size=batch_size)\n",
        "val_m2f1 = df_to_dataset_2(dl_val.loc[:, dl_val.columns != 'categories'], shuffle=False, batch_size=batch_size)\n",
        "test_m2f1 = df_to_dataset_2(dl_test.loc[:, dl_test.columns != 'categories'], shuffle=False, batch_size=batch_size)"
      ],
      "execution_count": 0,
      "outputs": []
    },
    {
      "cell_type": "code",
      "metadata": {
        "id": "LtH1uZ6RqF4Q",
        "colab_type": "code",
        "colab": {}
      },
      "source": [
        "#Dataset for model 2 - features + categories\n",
        "train_m2f2 = df_to_dataset_2(dl_train, batch_size=batch_size)\n",
        "val_m2f2 = df_to_dataset_2(dl_val, shuffle=False, batch_size=batch_size)\n",
        "test_m2f2 = df_to_dataset_2(dl_test, shuffle=False, batch_size=batch_size)"
      ],
      "execution_count": 0,
      "outputs": []
    },
    {
      "cell_type": "code",
      "metadata": {
        "id": "SFML-dNWUrRl",
        "colab_type": "code",
        "colab": {}
      },
      "source": [
        "for feature_batch, label_batch in train_m2f1.take(1):\n",
        "  print('Every feature:', list(feature_batch.keys()))\n",
        "  #print('A batch of states:', feature_batch['state'])\n",
        "  #print('A batch of targets:', label_batch )"
      ],
      "execution_count": 0,
      "outputs": []
    },
    {
      "cell_type": "markdown",
      "metadata": {
        "id": "c7LNLK8Txqq2",
        "colab_type": "text"
      },
      "source": [
        "### Models"
      ]
    },
    {
      "cell_type": "markdown",
      "metadata": {
        "id": "JL9R9kY5tsOK",
        "colab_type": "text"
      },
      "source": [
        "We'll use MSE as the loss function to minimize"
      ]
    },
    {
      "cell_type": "markdown",
      "metadata": {
        "id": "5Xr0dYQprp5d",
        "colab_type": "text"
      },
      "source": [
        "#### Model 1: Classsification using features"
      ]
    },
    {
      "cell_type": "code",
      "metadata": {
        "id": "LK6loUHzxqUZ",
        "colab_type": "code",
        "outputId": "8cb942ff-6f78-485d-fa90-c442658b2f51",
        "colab": {
          "base_uri": "https://localhost:8080/",
          "height": 349
        }
      },
      "source": [
        "model1_f1 = tf.keras.Sequential([\n",
        "  feature_layer_1,\n",
        "  layers.Dense(128, activation='relu'),\n",
        "  layers.Dense(128, activation='tanh'),\n",
        "  layers.Dense(64, activation='relu'),\n",
        "  layers.Dense(5, activation='softmax')\n",
        "])\n",
        "\n",
        "model1_f1.compile(optimizer=tf.keras.optimizers.RMSprop(0.001),\n",
        "              loss='mean_squared_error',\n",
        "              metrics=['accuracy',tf.keras.metrics.RootMeanSquaredError()])\n",
        "\n",
        "history1_f1 = model1_f1.fit(train_m1f1,\n",
        "          validation_data=val_m1f1,\n",
        "          epochs=5)"
      ],
      "execution_count": 0,
      "outputs": [
        {
          "output_type": "stream",
          "text": [
            "WARNING:tensorflow:From /tensorflow-2.1.0/python3.6/tensorflow_core/python/feature_column/feature_column_v2.py:4267: IndicatorColumn._variable_shape (from tensorflow.python.feature_column.feature_column_v2) is deprecated and will be removed in a future version.\n",
            "Instructions for updating:\n",
            "The old _FeatureColumn APIs are being deprecated. Please use the new FeatureColumn APIs instead.\n",
            "WARNING:tensorflow:From /tensorflow-2.1.0/python3.6/tensorflow_core/python/feature_column/feature_column_v2.py:4322: VocabularyListCategoricalColumn._num_buckets (from tensorflow.python.feature_column.feature_column_v2) is deprecated and will be removed in a future version.\n",
            "Instructions for updating:\n",
            "The old _FeatureColumn APIs are being deprecated. Please use the new FeatureColumn APIs instead.\n",
            "Train for 4253 steps, validate for 855 steps\n",
            "Epoch 1/5\n",
            "4253/4253 [==============================] - 65s 15ms/step - loss: 0.1425 - accuracy: 0.4172 - root_mean_squared_error: 0.3775 - val_loss: 0.1426 - val_accuracy: 0.4186 - val_root_mean_squared_error: 0.3776\n",
            "Epoch 2/5\n",
            "4253/4253 [==============================] - 62s 15ms/step - loss: 0.1424 - accuracy: 0.4178 - root_mean_squared_error: 0.3773 - val_loss: 0.1422 - val_accuracy: 0.4184 - val_root_mean_squared_error: 0.3771\n",
            "Epoch 3/5\n",
            "4253/4253 [==============================] - 63s 15ms/step - loss: 0.1423 - accuracy: 0.4180 - root_mean_squared_error: 0.3773 - val_loss: 0.1422 - val_accuracy: 0.4184 - val_root_mean_squared_error: 0.3772\n",
            "Epoch 4/5\n",
            "4253/4253 [==============================] - 62s 15ms/step - loss: 0.1423 - accuracy: 0.4181 - root_mean_squared_error: 0.3772 - val_loss: 0.1422 - val_accuracy: 0.4189 - val_root_mean_squared_error: 0.3771\n",
            "Epoch 5/5\n",
            "4253/4253 [==============================] - 63s 15ms/step - loss: 0.1423 - accuracy: 0.4182 - root_mean_squared_error: 0.3772 - val_loss: 0.1421 - val_accuracy: 0.4189 - val_root_mean_squared_error: 0.3770\n"
          ],
          "name": "stdout"
        }
      ]
    },
    {
      "cell_type": "markdown",
      "metadata": {
        "id": "BiJWEAEdsLZW",
        "colab_type": "text"
      },
      "source": [
        "#### Model 2: Classification using features + categories"
      ]
    },
    {
      "cell_type": "code",
      "metadata": {
        "id": "OjVVOxWcsMi3",
        "colab_type": "code",
        "outputId": "b351887c-daff-4fec-ec1c-73f31898a860",
        "colab": {
          "base_uri": "https://localhost:8080/",
          "height": 239
        }
      },
      "source": [
        "model1_f2 = tf.keras.Sequential([\n",
        "  feature_layer_2,\n",
        "  layers.Dense(128, activation='relu'),\n",
        "  layers.Dense(128, activation='tanh'),\n",
        "  layers.Dense(64, activation='relu'),\n",
        "  layers.Dense(5, activation='softmax')\n",
        "])\n",
        "\n",
        "model1_f2.compile(optimizer=tf.keras.optimizers.RMSprop(0.001),\n",
        "              loss='mean_squared_error',\n",
        "              metrics=['accuracy',tf.keras.metrics.RootMeanSquaredError()])\n",
        "\n",
        "history1_f2 = model1_f2.fit(train_m1f2,\n",
        "          validation_data=val_m1f2,\n",
        "          epochs=5)"
      ],
      "execution_count": 0,
      "outputs": [
        {
          "output_type": "stream",
          "text": [
            "Train for 4253 steps, validate for 855 steps\n",
            "Epoch 1/5\n",
            "4253/4253 [==============================] - 74s 17ms/step - loss: 0.1425 - accuracy: 0.4173 - root_mean_squared_error: 0.3775 - val_loss: 0.1424 - val_accuracy: 0.4182 - val_root_mean_squared_error: 0.3774\n",
            "Epoch 2/5\n",
            "4253/4253 [==============================] - 73s 17ms/step - loss: 0.1423 - accuracy: 0.4179 - root_mean_squared_error: 0.3773 - val_loss: 0.1423 - val_accuracy: 0.4179 - val_root_mean_squared_error: 0.3772\n",
            "Epoch 3/5\n",
            "4253/4253 [==============================] - 73s 17ms/step - loss: 0.1423 - accuracy: 0.4181 - root_mean_squared_error: 0.3772 - val_loss: 0.1422 - val_accuracy: 0.4187 - val_root_mean_squared_error: 0.3771\n",
            "Epoch 4/5\n",
            "4253/4253 [==============================] - 73s 17ms/step - loss: 0.1423 - accuracy: 0.4182 - root_mean_squared_error: 0.3772 - val_loss: 0.1422 - val_accuracy: 0.4188 - val_root_mean_squared_error: 0.3771\n",
            "Epoch 5/5\n",
            "4253/4253 [==============================] - 72s 17ms/step - loss: 0.1423 - accuracy: 0.4183 - root_mean_squared_error: 0.3772 - val_loss: 0.1422 - val_accuracy: 0.4190 - val_root_mean_squared_error: 0.3771\n"
          ],
          "name": "stdout"
        }
      ]
    },
    {
      "cell_type": "markdown",
      "metadata": {
        "id": "DFIkwR0NsztW",
        "colab_type": "text"
      },
      "source": [
        "#### Model 3: Continuous using features"
      ]
    },
    {
      "cell_type": "code",
      "metadata": {
        "id": "2m8KWN24s0JJ",
        "colab_type": "code",
        "outputId": "7abf17f2-0dca-489a-96a9-51966ee388d4",
        "colab": {
          "base_uri": "https://localhost:8080/",
          "height": 239
        }
      },
      "source": [
        "model2_f1 = tf.keras.Sequential([\n",
        "  feature_layer_1,\n",
        "  layers.Dense(128, activation='relu'),\n",
        "  layers.Dense(128, activation='tanh'),\n",
        "  layers.Dense(64, activation='relu'),\n",
        "  layers.Dense(1)\n",
        "])\n",
        "\n",
        "model2_f1.compile(optimizer=tf.keras.optimizers.RMSprop(0.001),\n",
        "              loss='mean_squared_error',\n",
        "              metrics=['accuracy',tf.keras.metrics.RootMeanSquaredError()])\n",
        "\n",
        "history2_f1 = model2_f1.fit(train_m2f1,\n",
        "          validation_data=val_m2f1,\n",
        "          epochs=5)"
      ],
      "execution_count": 0,
      "outputs": [
        {
          "output_type": "stream",
          "text": [
            "Train for 4253 steps, validate for 855 steps\n",
            "Epoch 1/5\n",
            "4253/4253 [==============================] - 59s 14ms/step - loss: 0.9898 - accuracy: 0.0000e+00 - root_mean_squared_error: 0.9949 - val_loss: 1.0181 - val_accuracy: 0.0000e+00 - val_root_mean_squared_error: 1.0088\n",
            "Epoch 2/5\n",
            "4253/4253 [==============================] - 58s 14ms/step - loss: 0.9889 - accuracy: 0.0000e+00 - root_mean_squared_error: 0.9944 - val_loss: 1.0106 - val_accuracy: 0.0000e+00 - val_root_mean_squared_error: 1.0051\n",
            "Epoch 3/5\n",
            "4253/4253 [==============================] - 58s 14ms/step - loss: 0.9887 - accuracy: 0.0000e+00 - root_mean_squared_error: 0.9943 - val_loss: 1.0109 - val_accuracy: 0.0000e+00 - val_root_mean_squared_error: 1.0053\n",
            "Epoch 4/5\n",
            "4253/4253 [==============================] - 59s 14ms/step - loss: 0.9885 - accuracy: 0.0000e+00 - root_mean_squared_error: 0.9943 - val_loss: 1.0103 - val_accuracy: 0.0000e+00 - val_root_mean_squared_error: 1.0049\n",
            "Epoch 5/5\n",
            "4253/4253 [==============================] - 58s 14ms/step - loss: 0.9885 - accuracy: 0.0000e+00 - root_mean_squared_error: 0.9942 - val_loss: 1.0111 - val_accuracy: 0.0000e+00 - val_root_mean_squared_error: 1.0053\n"
          ],
          "name": "stdout"
        }
      ]
    },
    {
      "cell_type": "markdown",
      "metadata": {
        "id": "cN3-KJ9Us7Xh",
        "colab_type": "text"
      },
      "source": [
        "#### Model 4: Continuous using features + categories"
      ]
    },
    {
      "cell_type": "code",
      "metadata": {
        "id": "BS-fAyTjs75r",
        "colab_type": "code",
        "outputId": "5e2a59fc-98fb-439c-f98f-e0da234c5163",
        "colab": {
          "base_uri": "https://localhost:8080/",
          "height": 239
        }
      },
      "source": [
        "model2_f2 = tf.keras.Sequential([\n",
        "  feature_layer_2,\n",
        "  layers.Dense(128, activation='relu'),\n",
        "  layers.Dense(128, activation='tanh'),\n",
        "  layers.Dense(64, activation='relu'),\n",
        "  layers.Dense(1)\n",
        "])\n",
        "\n",
        "model2_f2.compile(optimizer=tf.keras.optimizers.RMSprop(0.001),\n",
        "              loss='mean_squared_error',\n",
        "              metrics=['accuracy',tf.keras.metrics.RootMeanSquaredError()])\n",
        "\n",
        "history2_f2 = model2_f2.fit(train_m2f2,\n",
        "          validation_data=val_m2f2,\n",
        "          epochs=5)"
      ],
      "execution_count": 0,
      "outputs": [
        {
          "output_type": "stream",
          "text": [
            "Train for 4253 steps, validate for 855 steps\n",
            "Epoch 1/5\n",
            "4253/4253 [==============================] - 70s 16ms/step - loss: 0.9897 - accuracy: 0.0000e+00 - root_mean_squared_error: 0.9948 - val_loss: 1.0129 - val_accuracy: 0.0000e+00 - val_root_mean_squared_error: 1.0062\n",
            "Epoch 2/5\n",
            "4253/4253 [==============================] - 69s 16ms/step - loss: 0.9887 - accuracy: 0.0000e+00 - root_mean_squared_error: 0.9943 - val_loss: 1.0145 - val_accuracy: 0.0000e+00 - val_root_mean_squared_error: 1.0071\n",
            "Epoch 3/5\n",
            "4253/4253 [==============================] - 69s 16ms/step - loss: 0.9884 - accuracy: 0.0000e+00 - root_mean_squared_error: 0.9942 - val_loss: 1.0136 - val_accuracy: 0.0000e+00 - val_root_mean_squared_error: 1.0066\n",
            "Epoch 4/5\n",
            "4253/4253 [==============================] - 68s 16ms/step - loss: 0.9883 - accuracy: 0.0000e+00 - root_mean_squared_error: 0.9941 - val_loss: 1.0108 - val_accuracy: 0.0000e+00 - val_root_mean_squared_error: 1.0052\n",
            "Epoch 5/5\n",
            "4253/4253 [==============================] - 68s 16ms/step - loss: 0.9882 - accuracy: 0.0000e+00 - root_mean_squared_error: 0.9941 - val_loss: 1.0092 - val_accuracy: 0.0000e+00 - val_root_mean_squared_error: 1.0044\n"
          ],
          "name": "stdout"
        }
      ]
    },
    {
      "cell_type": "markdown",
      "metadata": {
        "id": "z2sIhZE_0RyU",
        "colab_type": "text"
      },
      "source": [
        "### Results"
      ]
    },
    {
      "cell_type": "markdown",
      "metadata": {
        "id": "QH6pJuEnuH5B",
        "colab_type": "text"
      },
      "source": [
        "Plots of loss for each model"
      ]
    },
    {
      "cell_type": "code",
      "metadata": {
        "id": "gP9gDvMqK66U",
        "colab_type": "code",
        "colab": {}
      },
      "source": [
        "import matplotlib.pyplot as plt\n",
        "def plot(hist, model):\n",
        "    tr_loss = hist.history['loss']\n",
        "    val_loss = hist.history['val_loss']\n",
        "\n",
        "    # Get the number of epochs\n",
        "    epochs = range(len(tr_loss))\n",
        "\n",
        "    _ = plt.figure()\n",
        "    plt.title('Model %s loss'%model)\n",
        "    plt.plot(epochs, tr_loss, color='blue', label='Train')\n",
        "    plt.plot(epochs, val_loss, color='orange', label='Validation')\n",
        "    plt.xlabel('Epoch')\n",
        "    plt.ylabel('Loss')\n",
        "    plt.legend()"
      ],
      "execution_count": 0,
      "outputs": []
    },
    {
      "cell_type": "code",
      "metadata": {
        "id": "V_MItWrKe5iN",
        "colab_type": "code",
        "outputId": "159d8872-1a11-4b32-9818-9f8f704c181b",
        "colab": {
          "base_uri": "https://localhost:8080/",
          "height": 295
        }
      },
      "source": [
        "plot(history1_f1, \"Classification (features)\")"
      ],
      "execution_count": 0,
      "outputs": [
        {
          "output_type": "display_data",
          "data": {
            "image/png": "[encoded data removed]",
            "text/plain": [
              "<Figure size 432x288 with 1 Axes>"
            ]
          },
          "metadata": {
            "tags": []
          }
        }
      ]
    },
    {
      "cell_type": "code",
      "metadata": {
        "id": "gSk53J7kuvkQ",
        "colab_type": "code",
        "outputId": "9918c223-ae66-436d-ebda-f4f2aec69073",
        "colab": {
          "base_uri": "https://localhost:8080/",
          "height": 295
        }
      },
      "source": [
        "plot(history1_f2, \"Classification (features+categories)\")"
      ],
      "execution_count": 0,
      "outputs": [
        {
          "output_type": "display_data",
          "data": {
            "image/png": "[encoded data removed]",
            "text/plain": [
              "<Figure size 432x288 with 1 Axes>"
            ]
          },
          "metadata": {
            "tags": []
          }
        }
      ]
    },
    {
      "cell_type": "code",
      "metadata": {
        "id": "9ggE9IjPuvYI",
        "colab_type": "code",
        "outputId": "411ea094-1b1d-4ae4-939c-d0fc37aa7e2e",
        "colab": {
          "base_uri": "https://localhost:8080/",
          "height": 295
        }
      },
      "source": [
        "plot(history2_f1, \"Continuous (features)\")"
      ],
      "execution_count": 0,
      "outputs": [
        {
          "output_type": "display_data",
          "data": {
            "image/png": "[encoded data removed]",
            "text/plain": [
              "<Figure size 432x288 with 1 Axes>"
            ]
          },
          "metadata": {
            "tags": []
          }
        }
      ]
    },
    {
      "cell_type": "code",
      "metadata": {
        "id": "EN7_m8qRuvKs",
        "colab_type": "code",
        "outputId": "7ac6c91d-7f2a-4d38-ccee-bc54995f182f",
        "colab": {
          "base_uri": "https://localhost:8080/",
          "height": 295
        }
      },
      "source": [
        "plot(history2_f2, \"Continuous (features+categories)\")"
      ],
      "execution_count": 0,
      "outputs": [
        {
          "output_type": "display_data",
          "data": {
            "image/png": "[encoded data removed]",
            "text/plain": [
              "<Figure size 432x288 with 1 Axes>"
            ]
          },
          "metadata": {
            "tags": []
          }
        }
      ]
    },
    {
      "cell_type": "markdown",
      "metadata": {
        "id": "rGctTYA7u77s",
        "colab_type": "text"
      },
      "source": [
        "Evaluation of each model in test set (last rating of each user)"
      ]
    },
    {
      "cell_type": "code",
      "metadata": {
        "id": "Eno3RBFpLYOh",
        "colab_type": "code",
        "outputId": "7af9f7a1-c039-49f1-9322-32738e9fe3b6",
        "colab": {
          "base_uri": "https://localhost:8080/",
          "height": 311
        }
      },
      "source": [
        "rmse1_f1 = model1_f1.evaluate(test_m1f1)\n",
        "print(\"\\nRMSE of Classification (features) model: {} \\n\".format(rmse1_f1[2]))\n",
        "\n",
        "rmse1_f2 = model1_f2.evaluate(test_m1f2)\n",
        "print(\"\\nRMSE of Classification (features+categories) model: {} \\n\".format(rmse1_f2[2]))\n",
        "\n",
        "rmse2_f1 = model2_f1.evaluate(test_m2f1)\n",
        "print(\"\\nRMSE of Continuous (features) model: {} \\n\".format(rmse2_f1[2]))\n",
        "\n",
        "rmse2_f2 = model2_f2.evaluate(test_m2f2)\n",
        "print(\"\\nRMSE of Continuous (features+categories) model: {} \\n\".format(rmse2_f2[2]))"
      ],
      "execution_count": 0,
      "outputs": [
        {
          "output_type": "stream",
          "text": [
            "287/287 [==============================] - 2s 7ms/step - loss: 0.1338 - accuracy: 0.5013 - root_mean_squared_error: 0.3657\n",
            "\n",
            "RMSE of Classification (features) model: 0.3657178282737732 \n",
            "\n",
            "287/287 [==============================] - 2s 8ms/step - loss: 0.1347 - accuracy: 0.5011 - root_mean_squared_error: 0.3669\n",
            "\n",
            "RMSE of Classification (features+categories) model: 0.3669266700744629 \n",
            "\n",
            "287/287 [==============================] - 2s 6ms/step - loss: 1.2566 - accuracy: 0.0000e+00 - root_mean_squared_error: 1.1209\n",
            "\n",
            "RMSE of Continuous (features) model: 1.1208834648132324 \n",
            "\n",
            "287/287 [==============================] - 2s 7ms/step - loss: 1.2558 - accuracy: 0.0000e+00 - root_mean_squared_error: 1.1205\n",
            "\n",
            "RMSE of Continuous (features+categories) model: 1.1205391883850098 \n",
            "\n"
          ],
          "name": "stdout"
        }
      ]
    },
    {
      "cell_type": "markdown",
      "metadata": {
        "id": "IQEXN4NowDgt",
        "colab_type": "text"
      },
      "source": [
        "Predicitions on test set (last rating of each user)"
      ]
    },
    {
      "cell_type": "code",
      "metadata": {
        "id": "SoT9MHxCMkmL",
        "colab_type": "code",
        "colab": {}
      },
      "source": [
        "last_rating_m1f1 = model1_f1.predict(test_m1f1)\n",
        "last_rating_m1f2 = model1_f2.predict(test_m1f2)\n",
        "last_rating_m2f1 = model2_f1.predict(test_m2f1)\n",
        "last_rating_m2f2 = model2_f2.predict(test_m2f2)"
      ],
      "execution_count": 0,
      "outputs": []
    },
    {
      "cell_type": "code",
      "metadata": {
        "id": "Z_pxiZDJMwux",
        "colab_type": "code",
        "colab": {}
      },
      "source": [
        "#For Classification model predict the class with highest probability of belonging\n",
        "prediction_m1f1 = np.argmax(last_rating_m1f1, axis=1)+1\n",
        "prediction_m1f2 = np.argmax(last_rating_m1f2, axis=1)+1"
      ],
      "execution_count": 0,
      "outputs": []
    },
    {
      "cell_type": "code",
      "metadata": {
        "id": "4FqFV1uqzyWq",
        "colab_type": "code",
        "colab": {}
      },
      "source": [
        "#For Continuous model convert rating to non-standardized form\n",
        "def std_back(x):\n",
        "  return x*dl_train.rating.std()+dl_train.rating.mean()\n",
        "\n",
        "prediction_m2f1 = std_back(last_rating_m2f1)\n",
        "prediction_m2f2 = std_back(last_rating_m2f2)"
      ],
      "execution_count": 0,
      "outputs": []
    },
    {
      "cell_type": "markdown",
      "metadata": {
        "id": "bt0pbvjN3Lm9",
        "colab_type": "text"
      },
      "source": [
        "Classification Model histogram of predicted ratings (last rating)"
      ]
    },
    {
      "cell_type": "code",
      "metadata": {
        "id": "cbhsxUzw08x-",
        "colab_type": "code",
        "outputId": "b8283f05-b505-47c3-d3a3-8ed71d1a3ff6",
        "colab": {
          "base_uri": "https://localhost:8080/",
          "height": 387
        }
      },
      "source": [
        "_ , axs = plt.subplots(1, 2, tight_layout=True, figsize=(12, 5))\n",
        "axs[0].hist(prediction_m1f1, bins=10)\n",
        "axs[0].set_xlabel(\"Classification model (features)\")\n",
        "axs[1].hist(prediction_m1f2, bins=10)\n",
        "axs[1].set_xlabel(\"Classification model (features+categories)\")"
      ],
      "execution_count": 0,
      "outputs": [
        {
          "output_type": "execute_result",
          "data": {
            "text/plain": [
              "Text(0.5, 0, 'Classification model (features+categories)')"
            ]
          },
          "metadata": {
            "tags": []
          },
          "execution_count": 56
        },
        {
          "output_type": "display_data",
          "data": {
            "image/png": "[encoded data removed]",
            "text/plain": [
              "<Figure size 864x360 with 2 Axes>"
            ]
          },
          "metadata": {
            "tags": []
          }
        }
      ]
    },
    {
      "cell_type": "code",
      "metadata": {
        "id": "OUJWz5Wxkyon",
        "colab_type": "code",
        "outputId": "6a00c29e-2550-4a69-8dbb-95842c591e2b",
        "colab": {
          "base_uri": "https://localhost:8080/",
          "height": 387
        }
      },
      "source": [
        "_ , axs = plt.subplots(1, 2, tight_layout=True, figsize=(12, 5))\n",
        "axs[0].hist(prediction_m2f1, bins=10)\n",
        "axs[0].set_xlabel(\"Continuous model (features)\")\n",
        "axs[1].hist(prediction_m2f2, bins=10)\n",
        "axs[1].set_xlabel(\"Continuous model (features+categories)\")"
      ],
      "execution_count": 0,
      "outputs": [
        {
          "output_type": "execute_result",
          "data": {
            "text/plain": [
              "Text(0.5, 0, 'Continuous model (features+categories)')"
            ]
          },
          "metadata": {
            "tags": []
          },
          "execution_count": 57
        },
        {
          "output_type": "display_data",
          "data": {
            "image/png": "[encoded data removed]",
            "text/plain": [
              "<Figure size 864x360 with 2 Axes>"
            ]
          },
          "metadata": {
            "tags": []
          }
        }
      ]
    },
    {
      "cell_type": "code",
      "metadata": {
        "id": "nZaefF7gzPrc",
        "colab_type": "code",
        "colab": {}
      },
      "source": [
        "#add prediction column to test set\n",
        "test['prediction_m1f1'] = prediction_m1f1.flatten()\n",
        "test['prediction_m1f2'] = prediction_m1f2.flatten()\n",
        "test['prediction_m2f1'] = prediction_m2f1.flatten()\n",
        "test['prediction_m2f2'] = prediction_m2f2.flatten()"
      ],
      "execution_count": 0,
      "outputs": []
    },
    {
      "cell_type": "code",
      "metadata": {
        "id": "c7k0DEi6-wqR",
        "colab_type": "code",
        "colab": {}
      },
      "source": [
        "#save predictions to file\n",
        "test.to_csv(drive_root+\"./Deep Learning Model/deeplearning_lastrating_predictions.csv\", index=False)\n"
      ],
      "execution_count": 0,
      "outputs": []
    },
    {
      "cell_type": "code",
      "metadata": {
        "id": "CE3ZD25A_6-X",
        "colab_type": "code",
        "outputId": "d1308056-b473-4672-88fd-7aebd6a9f47b",
        "colab": {
          "base_uri": "https://localhost:8080/",
          "height": 226
        }
      },
      "source": [
        "test.head()"
      ],
      "execution_count": 0,
      "outputs": [
        {
          "output_type": "execute_result",
          "data": {
            "text/html": [
              "<div>\n",
              "<style scoped>\n",
              "    .dataframe tbody tr th:only-of-type {\n",
              "        vertical-align: middle;\n",
              "    }\n",
              "\n",
              "    .dataframe tbody tr th {\n",
              "        vertical-align: top;\n",
              "    }\n",
              "\n",
              "    .dataframe thead th {\n",
              "        text-align: right;\n",
              "    }\n",
              "</style>\n",
              "<table border=\"1\" class=\"dataframe\">\n",
              "  <thead>\n",
              "    <tr style=\"text-align: right;\">\n",
              "      <th></th>\n",
              "      <th>review_id</th>\n",
              "      <th>user_id</th>\n",
              "      <th>business_id</th>\n",
              "      <th>rating</th>\n",
              "      <th>prediction_m1f1</th>\n",
              "      <th>prediction_m1f2</th>\n",
              "      <th>prediction_m2f1</th>\n",
              "      <th>prediction_m2f2</th>\n",
              "    </tr>\n",
              "  </thead>\n",
              "  <tbody>\n",
              "    <tr>\n",
              "      <th>0</th>\n",
              "      <td>wEJK2PeiS6Au0TOyxTyqUA</td>\n",
              "      <td>---1lKK3aKOuomHnwAkAow</td>\n",
              "      <td>Hqs4YNST_ZHbshwyi4bnsQ</td>\n",
              "      <td>5.00</td>\n",
              "      <td>5</td>\n",
              "      <td>5</td>\n",
              "      <td>3.67</td>\n",
              "      <td>3.67</td>\n",
              "    </tr>\n",
              "    <tr>\n",
              "      <th>1</th>\n",
              "      <td>8QLqN2qZPeN6qh4i9tj-rw</td>\n",
              "      <td>--0kuuLmuYBe3Rmu0Iycww</td>\n",
              "      <td>PYe_FDw6QTbTf66WcGE_tw</td>\n",
              "      <td>2.00</td>\n",
              "      <td>5</td>\n",
              "      <td>5</td>\n",
              "      <td>3.85</td>\n",
              "      <td>3.82</td>\n",
              "    </tr>\n",
              "    <tr>\n",
              "      <th>2</th>\n",
              "      <td>dgtVm1qaV3KSzC1Cv7M7kg</td>\n",
              "      <td>--2HUmLkcNHZp0xw6AMBPg</td>\n",
              "      <td>KW9RNyBPmc77f9FsO92qYw</td>\n",
              "      <td>5.00</td>\n",
              "      <td>5</td>\n",
              "      <td>5</td>\n",
              "      <td>3.88</td>\n",
              "      <td>3.83</td>\n",
              "    </tr>\n",
              "    <tr>\n",
              "      <th>3</th>\n",
              "      <td>419OFmkJ4DSc2zkjuxX5hw</td>\n",
              "      <td>--2vR0DIsmQ6WfcSzKWigw</td>\n",
              "      <td>BLIJ-p5wYuAhw6Pp6mh6mw</td>\n",
              "      <td>3.00</td>\n",
              "      <td>5</td>\n",
              "      <td>5</td>\n",
              "      <td>3.84</td>\n",
              "      <td>3.81</td>\n",
              "    </tr>\n",
              "    <tr>\n",
              "      <th>4</th>\n",
              "      <td>6KblMvyPMH__K_eMKhHWOg</td>\n",
              "      <td>--3WaS23LcIXtxyFULJHTA</td>\n",
              "      <td>UKrfUw8quQiQM2N9i1nH0g</td>\n",
              "      <td>4.00</td>\n",
              "      <td>5</td>\n",
              "      <td>5</td>\n",
              "      <td>3.83</td>\n",
              "      <td>3.80</td>\n",
              "    </tr>\n",
              "  </tbody>\n",
              "</table>\n",
              "</div>"
            ],
            "text/plain": [
              "                review_id  ... prediction_m2f2\n",
              "0  wEJK2PeiS6Au0TOyxTyqUA  ...            3.67\n",
              "1  8QLqN2qZPeN6qh4i9tj-rw  ...            3.82\n",
              "2  dgtVm1qaV3KSzC1Cv7M7kg  ...            3.83\n",
              "3  419OFmkJ4DSc2zkjuxX5hw  ...            3.81\n",
              "4  6KblMvyPMH__K_eMKhHWOg  ...            3.80\n",
              "\n",
              "[5 rows x 8 columns]"
            ]
          },
          "metadata": {
            "tags": []
          },
          "execution_count": 60
        }
      ]
    }
  ]
}