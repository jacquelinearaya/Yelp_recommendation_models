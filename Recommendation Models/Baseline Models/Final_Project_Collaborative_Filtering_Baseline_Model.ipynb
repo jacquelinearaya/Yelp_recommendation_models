{
  "nbformat": 4,
  "nbformat_minor": 0,
  "metadata": {
    "colab": {
      "name": "Final Project - Collaborative Filtering Baseline Model",
      "provenance": [],
      "collapsed_sections": []
    },
    "kernelspec": {
      "name": "python3",
      "display_name": "Python 3"
    },
    "accelerator": "GPU"
  },
  "cells": [
    {
      "cell_type": "markdown",
      "metadata": {
        "id": "ijudRYz7alPE",
        "colab_type": "text"
      },
      "source": [
        "# Baseline Collaborative Filtering Model"
      ]
    },
    {
      "cell_type": "markdown",
      "metadata": {
        "id": "uligY1K4apdg",
        "colab_type": "text"
      },
      "source": [
        "We choose a simple user-based collaborative filtering approach in order to get a baseline accuracy score (RMSE) for our prediction task. For this task, we take advantage of the excellent *Surprise* Python package: https://surprise.readthedocs.io/en/stable/index.html."
      ]
    },
    {
      "cell_type": "code",
      "metadata": {
        "id": "gK7uLahlQZRf",
        "colab_type": "code",
        "outputId": "fe0f0a78-ceff-4338-86d8-85d5e9cbc42c",
        "colab": {
          "base_uri": "https://localhost:8080/",
          "height": 309
        }
      },
      "source": [
        "# Import required packages:\n",
        "import pandas as pd\n",
        "import numpy as np\n",
        "from google.colab import files, drive\n",
        "import time\n",
        "\n",
        "# Colab Filtering packages:\n",
        "!pip install surprise\n",
        "from surprise.prediction_algorithms import knns\n",
        "from surprise.prediction_algorithms import baseline_only\n",
        "from surprise import SVD\n",
        "from surprise import Dataset\n",
        "from surprise import Trainset\n",
        "from surprise import Reader\n",
        "from surprise import accuracy\n",
        "from surprise.model_selection import validation\n",
        "from surprise.model_selection import train_test_split"
      ],
      "execution_count": 0,
      "outputs": [
        {
          "output_type": "stream",
          "text": [
            "Collecting surprise\n",
            "  Downloading https://files.pythonhosted.org/packages/61/de/e5cba8682201fcf9c3719a6fdda95693468ed061945493dea2dd37c5618b/surprise-0.1-py2.py3-none-any.whl\n",
            "Collecting scikit-surprise\n",
            "\u001b[?25l  Downloading https://files.pythonhosted.org/packages/f5/da/b5700d96495fb4f092be497f02492768a3d96a3f4fa2ae7dea46d4081cfa/scikit-surprise-1.1.0.tar.gz (6.4MB)\n",
            "\u001b[K     |████████████████████████████████| 6.5MB 20.7MB/s \n",
            "\u001b[?25hRequirement already satisfied: joblib>=0.11 in /usr/local/lib/python3.6/dist-packages (from scikit-surprise->surprise) (0.14.1)\n",
            "Requirement already satisfied: numpy>=1.11.2 in /usr/local/lib/python3.6/dist-packages (from scikit-surprise->surprise) (1.17.4)\n",
            "Requirement already satisfied: scipy>=1.0.0 in /usr/local/lib/python3.6/dist-packages (from scikit-surprise->surprise) (1.3.3)\n",
            "Requirement already satisfied: six>=1.10.0 in /usr/local/lib/python3.6/dist-packages (from scikit-surprise->surprise) (1.12.0)\n",
            "Building wheels for collected packages: scikit-surprise\n",
            "  Building wheel for scikit-surprise (setup.py) ... \u001b[?25l\u001b[?25hdone\n",
            "  Created wheel for scikit-surprise: filename=scikit_surprise-1.1.0-cp36-cp36m-linux_x86_64.whl size=1678205 sha256=8e2f49d53d30fee9b4e4276ae6ed8509c3f75e845832bca6d31b43a87774b131\n",
            "  Stored in directory: /root/.cache/pip/wheels/cc/fa/8c/16c93fccce688ae1bde7d979ff102f7bee980d9cfeb8641bcf\n",
            "Successfully built scikit-surprise\n",
            "Installing collected packages: scikit-surprise, surprise\n",
            "Successfully installed scikit-surprise-1.1.0 surprise-0.1\n"
          ],
          "name": "stdout"
        }
      ]
    },
    {
      "cell_type": "code",
      "metadata": {
        "id": "PmzJxkaoHsC8",
        "colab_type": "code",
        "colab": {}
      },
      "source": [
        "# Connect to Google Drive (to load raw data)\n",
        "!pip install -U -q PyDrive\n",
        "from pydrive.auth import GoogleAuth\n",
        "from pydrive.drive import GoogleDrive\n",
        "from google.colab import auth\n",
        "from oauth2client.client import GoogleCredentials\n",
        "# Authenticate and create the PyDrive client.\n",
        "auth.authenticate_user()\n",
        "gauth = GoogleAuth()\n",
        "gauth.credentials = GoogleCredentials.get_application_default()\n",
        "drive = GoogleDrive(gauth)"
      ],
      "execution_count": 0,
      "outputs": []
    },
    {
      "cell_type": "markdown",
      "metadata": {
        "id": "CPHMoLnXcQyI",
        "colab_type": "text"
      },
      "source": [
        "### Import training and test sets"
      ]
    },
    {
      "cell_type": "code",
      "metadata": {
        "id": "bbLFvgTrHK3H",
        "colab_type": "code",
        "outputId": "250c3283-d8c7-466a-eb79-26b29cea0231",
        "colab": {
          "base_uri": "https://localhost:8080/",
          "height": 51
        }
      },
      "source": [
        "pd.set_option('display.float_format', lambda x: '%.2f' % x)\n",
        "\n",
        "csv_files = {\n",
        "  'train_set_new': '1-1vfc5jxrCggpVYDkf8Z2rVLjIIOh6bu',\n",
        "  'last_review_test_set': '1GzOIGqDLDPuHqHxCIYo3euAijvw3h7aZ',\n",
        "}\n",
        "\n",
        "dfs = {}\n",
        "\n",
        "for key, value in csv_files.items():\n",
        "  csv_name = key + '.csv'\n",
        "  downloaded = drive.CreateFile({'id': value})\n",
        "  downloaded.GetContentFile(csv_name)\n",
        "  dfs[key] = pd.read_csv(csv_name, low_memory=False)\n",
        "  print(\"Done with: \", key)\n",
        "\n",
        "train = dfs['train_set_new'].drop(['date'], axis=1)\n",
        "test_original = dfs['last_review_test_set'].drop(['date'], axis=1)"
      ],
      "execution_count": 0,
      "outputs": [
        {
          "output_type": "stream",
          "text": [
            "Done with:  train_set_new\n",
            "Done with:  last_review_test_set\n"
          ],
          "name": "stdout"
        }
      ]
    },
    {
      "cell_type": "code",
      "metadata": {
        "id": "QFzab3gTH3SB",
        "colab_type": "code",
        "colab": {}
      },
      "source": [
        "# Preserve your reivew IDs (you'll need these later)\n",
        "train_review_id = pd.DataFrame(train['review_id'])\n",
        "train = train.drop(['review_id'], axis=1)\n",
        "\n",
        "test_review_id = pd.DataFrame(test_original['review_id'])\n",
        "test = test_original.drop(['review_id'], axis=1)"
      ],
      "execution_count": 0,
      "outputs": []
    },
    {
      "cell_type": "code",
      "metadata": {
        "id": "b9WIiY5_2vIs",
        "colab_type": "code",
        "outputId": "df78da95-3592-4d67-9367-45620fd1cc18",
        "colab": {
          "base_uri": "https://localhost:8080/",
          "height": 255
        }
      },
      "source": [
        "# Validate that this dataset hasn't changed relative to other notebooks:\n",
        "\n",
        "# train.describe()\n",
        "# train.user_id.value_counts()\n",
        "# test.user_id.value_counts()\n",
        "print(train.head())\n",
        "print(test.head())\n",
        "\n",
        "print(train.shape, train_review_id.shape)\n",
        "print(test.shape, test_review_id.shape)"
      ],
      "execution_count": 0,
      "outputs": [
        {
          "output_type": "stream",
          "text": [
            "                  user_id             business_id  rating\n",
            "0  Spgm6HFWgc4YXJlbhg11Pg  x8O-Mll5ksDpeIgtA0XY-w    4.00\n",
            "1  VAouiuvywiJid2hnMnw4hA  Noi53T0PWNEN9mQRS3-Ncg    1.00\n",
            "2  q0zu-FkoAnsXk-th-WQxIw  iQ7tfyfw6lNMre4EIbXpSg    4.00\n",
            "3  F30hW73J1qOctAv46kznGA  ZOmf-3NN4Z59b2Fw6VAM7g    2.00\n",
            "4  HpzMECWPO4H1fJihiMG1Pg  i8x1ZPvmdYGu6yH_wvgNkg    4.00\n",
            "                  user_id             business_id  rating\n",
            "0  ---1lKK3aKOuomHnwAkAow  Hqs4YNST_ZHbshwyi4bnsQ    5.00\n",
            "1  --0kuuLmuYBe3Rmu0Iycww  PYe_FDw6QTbTf66WcGE_tw    2.00\n",
            "2  --2HUmLkcNHZp0xw6AMBPg  KW9RNyBPmc77f9FsO92qYw    5.00\n",
            "3  --2vR0DIsmQ6WfcSzKWigw  BLIJ-p5wYuAhw6Pp6mh6mw    3.00\n",
            "4  --3WaS23LcIXtxyFULJHTA  UKrfUw8quQiQM2N9i1nH0g    4.00\n",
            "(3398090, 3) (3398090, 1)\n",
            "(286130, 3) (286130, 1)\n"
          ],
          "name": "stdout"
        }
      ]
    },
    {
      "cell_type": "markdown",
      "metadata": {
        "id": "rKIlkDfAcbyr",
        "colab_type": "text"
      },
      "source": [
        "### Setup for SVD algorithm"
      ]
    },
    {
      "cell_type": "code",
      "metadata": {
        "id": "5elG1DzQQzv8",
        "colab_type": "code",
        "colab": {}
      },
      "source": [
        "algo_SVD = SVD()\n",
        "reader = Reader(rating_scale=(1, 5))\n",
        "\n",
        "train_data = Dataset.load_from_df(train, reader).build_full_trainset()\n",
        "test_data = Dataset.load_from_df(test, reader).build_full_trainset().build_testset()"
      ],
      "execution_count": 0,
      "outputs": []
    },
    {
      "cell_type": "markdown",
      "metadata": {
        "id": "aKzP6g2Qlc81",
        "colab_type": "text"
      },
      "source": [
        "### Setup for KNN algorithm"
      ]
    },
    {
      "cell_type": "code",
      "metadata": {
        "id": "gSrwtg6olhNx",
        "colab_type": "code",
        "colab": {}
      },
      "source": [
        "# Initialize models (neighborhood size is 40 by default for KNN):\n",
        "# algo_KNN = knns.KNNBasic(sim_options = {'name' : 'cosine'}, verbose = False)"
      ],
      "execution_count": 0,
      "outputs": []
    },
    {
      "cell_type": "markdown",
      "metadata": {
        "id": "vs7TdzzfcqAk",
        "colab_type": "text"
      },
      "source": [
        "### Train SVD and make predictions on test set"
      ]
    },
    {
      "cell_type": "code",
      "metadata": {
        "id": "TpbcEVRcRBLU",
        "colab_type": "code",
        "outputId": "e8e11774-472d-4987-a22a-1a5d262bc552",
        "colab": {
          "base_uri": "https://localhost:8080/",
          "height": 34
        }
      },
      "source": [
        "start_time = time.time()\n",
        "\n",
        "# SVD\n",
        "algo_SVD.fit(train_data)\n",
        "baseline_SVD_test_pred = algo_SVD.test(test_data)\n",
        "\n",
        "print(\"Time to run (minutes): \", (time.time() - start_time)/60.0 )"
      ],
      "execution_count": 0,
      "outputs": [
        {
          "output_type": "stream",
          "text": [
            "Time to run (minutes):  3.3954473455746967\n"
          ],
          "name": "stdout"
        }
      ]
    },
    {
      "cell_type": "markdown",
      "metadata": {
        "id": "wuxmUtddc2EO",
        "colab_type": "text"
      },
      "source": [
        "### Measure RMSE and MAE"
      ]
    },
    {
      "cell_type": "code",
      "metadata": {
        "id": "5rgCNzkhMpoP",
        "colab_type": "code",
        "outputId": "3dca9490-722b-4f3f-8938-8114d71d3f02",
        "colab": {
          "base_uri": "https://localhost:8080/",
          "height": 51
        }
      },
      "source": [
        "RMSE = accuracy.rmse(baseline_SVD_test_pred)\n",
        "MAE = accuracy.mae(baseline_SVD_test_pred)"
      ],
      "execution_count": 0,
      "outputs": [
        {
          "output_type": "stream",
          "text": [
            "RMSE: 1.3360\n",
            "MAE:  1.0846\n"
          ],
          "name": "stdout"
        }
      ]
    },
    {
      "cell_type": "markdown",
      "metadata": {
        "id": "5wp4TOVsc6ak",
        "colab_type": "text"
      },
      "source": [
        "### Save predictions to CSV (for further analysis in evaluation pipeline)"
      ]
    },
    {
      "cell_type": "code",
      "metadata": {
        "id": "BTzUgb66LBlA",
        "colab_type": "code",
        "colab": {}
      },
      "source": [
        "user_id = []\n",
        "business_id = []\n",
        "prediction = []\n",
        "\n",
        "for pred in baseline_SVD_test_pred:\n",
        "  user_id.append(pred.uid)\n",
        "  business_id.append(pred.iid)\n",
        "  prediction.append(pred.est)\n",
        "\n",
        "test_results = pd.DataFrame({'user_id': user_id, 'business_id': business_id, 'prediction': prediction})"
      ],
      "execution_count": 0,
      "outputs": []
    },
    {
      "cell_type": "code",
      "metadata": {
        "id": "gp1I4dwj3Sus",
        "colab_type": "code",
        "outputId": "7d851e62-4b89-48d6-a5cf-45052f77da78",
        "colab": {
          "base_uri": "https://localhost:8080/",
          "height": 170
        }
      },
      "source": [
        "# Take the 'review_id' column from your original test set and merge it with your test results (which were stripped of 'review_id')\n",
        "\n",
        "def add_review_id(original_test_dataframe, new_test_dataframe_with_predictions):\n",
        "  \"\"\"\n",
        "  Input: \n",
        "    A dataframe with a column named 'review_id' (original_test_dataframe)\n",
        "    A dataframe containing your test results (make sure it has not been re-sorted \n",
        "    and that it has the same number of rows as original_test_dataframe)\n",
        "  Output: The two \n",
        "  \"\"\"\n",
        "  test_review_id = pd.DataFrame(original_test_dataframe['review_id'])\n",
        "  test_results_final = pd.merge(test_review_id, new_test_dataframe_with_predictions, left_index=True, right_index=True)\n",
        "  random_location = int(round(len(test_results_final) / 2,2))\n",
        "  print(\"Make sure the user_id and business_id columns match: \\n\", \n",
        "        original_test_dataframe.iloc[random_location], \n",
        "        new_test_dataframe_with_predictions.iloc[random_location])\n",
        "  return test_results_final\n",
        "\n",
        "# Example: 'test_original' has column 'review_id'. 'test_results' has only 'user_id' and 'business_id'\n",
        "last_review_pred_CF = add_review_id(test_original, test_results)"
      ],
      "execution_count": 0,
      "outputs": [
        {
          "output_type": "stream",
          "text": [
            "Make sure the user_id and business_id columns match: \n",
            " review_id      viSbI71RlY4rb2rqpZPcmQ\n",
            "user_id        UwaxXAKeecCqBw1bM-e9qw\n",
            "business_id    HmF1uRRxucvELiPWXXsZPw\n",
            "rating                           3.00\n",
            "Name: 143065, dtype: object user_id        UwaxXAKeecCqBw1bM-e9qw\n",
            "business_id    HmF1uRRxucvELiPWXXsZPw\n",
            "prediction                       4.65\n",
            "Name: 143065, dtype: object\n"
          ],
          "name": "stdout"
        }
      ]
    },
    {
      "cell_type": "code",
      "metadata": {
        "id": "lrjHEt2jYrhX",
        "colab_type": "code",
        "outputId": "c2c169ec-c211-41d9-bff5-4050c8424bd5",
        "colab": {
          "base_uri": "https://localhost:8080/",
          "height": 34
        }
      },
      "source": [
        "# Optimization: you should follow best practices import this function from your other notebook:\n",
        "\n",
        "def upload_csv_to_drive(destination_folder, dataframe, csv_filename):\n",
        "  dataframe.to_csv(csv_filename, index=False)\n",
        "  tmp = drive.CreateFile({\"parents\": [{\"kind\": \"drive#fileLink\", \"id\": destination_folder}]})\n",
        "  tmp.SetContentFile(csv_filename)\n",
        "  tmp.Upload()\n",
        "  print(\"Upload complete for: \", csv_filename)\n",
        "\n",
        "upload_csv_to_drive(\"19QQWYzHPxr5MMM9iF1WIkF_Io5kYD-Bv\", last_review_pred_CF, \"cfbaseline_lastreview_predictions.csv\")"
      ],
      "execution_count": 0,
      "outputs": [
        {
          "output_type": "stream",
          "text": [
            "Upload complete for:  cfbaseline_lastreview_predictions.csv\n"
          ],
          "name": "stdout"
        }
      ]
    }
  ]
}